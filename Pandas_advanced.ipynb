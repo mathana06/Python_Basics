{
 "cells": [
  {
   "cell_type": "code",
   "execution_count": 2,
   "metadata": {
    "id": "L-lYBlBbCy47"
   },
   "outputs": [],
   "source": [
    "import pandas as pd "
   ]
  },
  {
   "cell_type": "code",
   "execution_count": 207,
   "metadata": {
    "id": "AWjiA-ZwENwi"
   },
   "outputs": [],
   "source": [
    "df = pd.read_csv(\"https://raw.githubusercontent.com/Laxminarayen/Inceptez_batch_16/main/orders.csv\")"
   ]
  },
  {
   "cell_type": "code",
   "execution_count": 4,
   "metadata": {
    "colab": {
     "base_uri": "https://localhost:8080/",
     "height": 306
    },
    "id": "8J3NkOjPEgCO",
    "outputId": "fa0a619f-7042-4582-aeaa-a1be88e1f25d"
   },
   "outputs": [
    {
     "data": {
      "text/html": [
       "<div>\n",
       "<style scoped>\n",
       "    .dataframe tbody tr th:only-of-type {\n",
       "        vertical-align: middle;\n",
       "    }\n",
       "\n",
       "    .dataframe tbody tr th {\n",
       "        vertical-align: top;\n",
       "    }\n",
       "\n",
       "    .dataframe thead th {\n",
       "        text-align: right;\n",
       "    }\n",
       "</style>\n",
       "<table border=\"1\" class=\"dataframe\">\n",
       "  <thead>\n",
       "    <tr style=\"text-align: right;\">\n",
       "      <th></th>\n",
       "      <th>Order Id</th>\n",
       "      <th>Date</th>\n",
       "      <th>Meal Id</th>\n",
       "      <th>Company Id</th>\n",
       "      <th>Date of Meal</th>\n",
       "      <th>Participants</th>\n",
       "      <th>Meal Price</th>\n",
       "      <th>Type of Meal</th>\n",
       "      <th>Heroes Adjustment</th>\n",
       "    </tr>\n",
       "  </thead>\n",
       "  <tbody>\n",
       "    <tr>\n",
       "      <th>0</th>\n",
       "      <td>839FKFW2LLX4LMBB</td>\n",
       "      <td>2016-05-27</td>\n",
       "      <td>INBUX904GIHI8YBD</td>\n",
       "      <td>LJKS5NK6788CYMUU</td>\n",
       "      <td>2016-05-31 07:00:00+02:00</td>\n",
       "      <td>['David Bishop']</td>\n",
       "      <td>469.0</td>\n",
       "      <td>Breakfast</td>\n",
       "      <td>False</td>\n",
       "    </tr>\n",
       "    <tr>\n",
       "      <th>1</th>\n",
       "      <td>97OX39BGVMHODLJM</td>\n",
       "      <td>2018-09-27</td>\n",
       "      <td>J0MMOOPP709DIDIE</td>\n",
       "      <td>LJKS5NK6788CYMUU</td>\n",
       "      <td>2018-10-01 20:00:00+02:00</td>\n",
       "      <td>['David Bishop']</td>\n",
       "      <td>22.0</td>\n",
       "      <td>Dinner</td>\n",
       "      <td>False</td>\n",
       "    </tr>\n",
       "    <tr>\n",
       "      <th>2</th>\n",
       "      <td>041ORQM5OIHTIU6L</td>\n",
       "      <td>2014-08-24</td>\n",
       "      <td>E4UJLQNCI16UX5CS</td>\n",
       "      <td>LJKS5NK6788CYMUU</td>\n",
       "      <td>2014-08-23 14:00:00+02:00</td>\n",
       "      <td>['Karen Stansell']</td>\n",
       "      <td>314.0</td>\n",
       "      <td>Lunch</td>\n",
       "      <td>False</td>\n",
       "    </tr>\n",
       "    <tr>\n",
       "      <th>3</th>\n",
       "      <td>YT796QI18WNGZ7ZJ</td>\n",
       "      <td>2014-04-12</td>\n",
       "      <td>C9SDFHF7553BE247</td>\n",
       "      <td>LJKS5NK6788CYMUU</td>\n",
       "      <td>2014-04-07 21:00:00+02:00</td>\n",
       "      <td>['Addie Patino']</td>\n",
       "      <td>438.0</td>\n",
       "      <td>Dinner</td>\n",
       "      <td>False</td>\n",
       "    </tr>\n",
       "    <tr>\n",
       "      <th>4</th>\n",
       "      <td>6YLROQT27B6HRF4E</td>\n",
       "      <td>2015-07-28</td>\n",
       "      <td>48EQXS6IHYNZDDZ5</td>\n",
       "      <td>LJKS5NK6788CYMUU</td>\n",
       "      <td>2015-07-27 14:00:00+02:00</td>\n",
       "      <td>['Addie Patino' 'Susan Guerrero']</td>\n",
       "      <td>690.0</td>\n",
       "      <td>Lunch</td>\n",
       "      <td>False</td>\n",
       "    </tr>\n",
       "  </tbody>\n",
       "</table>\n",
       "</div>"
      ],
      "text/plain": [
       "           Order Id        Date  ... Type of Meal Heroes Adjustment\n",
       "0  839FKFW2LLX4LMBB  2016-05-27  ...    Breakfast             False\n",
       "1  97OX39BGVMHODLJM  2018-09-27  ...       Dinner             False\n",
       "2  041ORQM5OIHTIU6L  2014-08-24  ...        Lunch             False\n",
       "3  YT796QI18WNGZ7ZJ  2014-04-12  ...       Dinner             False\n",
       "4  6YLROQT27B6HRF4E  2015-07-28  ...        Lunch             False\n",
       "\n",
       "[5 rows x 9 columns]"
      ]
     },
     "execution_count": 4,
     "metadata": {
      "tags": []
     },
     "output_type": "execute_result"
    }
   ],
   "source": [
    "df.head(5)"
   ]
  },
  {
   "cell_type": "code",
   "execution_count": 6,
   "metadata": {
    "colab": {
     "base_uri": "https://localhost:8080/",
     "height": 306
    },
    "id": "rKuFlWA5Ein1",
    "outputId": "53fdea6c-035e-4578-d836-426fcb6606bc"
   },
   "outputs": [
    {
     "data": {
      "text/html": [
       "<div>\n",
       "<style scoped>\n",
       "    .dataframe tbody tr th:only-of-type {\n",
       "        vertical-align: middle;\n",
       "    }\n",
       "\n",
       "    .dataframe tbody tr th {\n",
       "        vertical-align: top;\n",
       "    }\n",
       "\n",
       "    .dataframe thead th {\n",
       "        text-align: right;\n",
       "    }\n",
       "</style>\n",
       "<table border=\"1\" class=\"dataframe\">\n",
       "  <thead>\n",
       "    <tr style=\"text-align: right;\">\n",
       "      <th></th>\n",
       "      <th>Order Id</th>\n",
       "      <th>Date</th>\n",
       "      <th>Meal Id</th>\n",
       "      <th>Company Id</th>\n",
       "      <th>Date of Meal</th>\n",
       "      <th>Participants</th>\n",
       "      <th>Meal Price</th>\n",
       "      <th>Type of Meal</th>\n",
       "      <th>Heroes Adjustment</th>\n",
       "    </tr>\n",
       "  </thead>\n",
       "  <tbody>\n",
       "    <tr>\n",
       "      <th>8529</th>\n",
       "      <td>ZM6591QNDGCLFBBA</td>\n",
       "      <td>2016-09-14</td>\n",
       "      <td>LUWNGGUBOOZU0A5W</td>\n",
       "      <td>VR4RNJG8G2061G7D</td>\n",
       "      <td>2016-09-14 20:00:00+02:00</td>\n",
       "      <td>['Willie Taylor' 'Thomas Erb' 'Mark Heller' 'A...</td>\n",
       "      <td>429.0</td>\n",
       "      <td>Dinner</td>\n",
       "      <td>False</td>\n",
       "    </tr>\n",
       "    <tr>\n",
       "      <th>7624</th>\n",
       "      <td>VOYW6ISO7JACBCPD</td>\n",
       "      <td>2016-11-01</td>\n",
       "      <td>GJ13AJRXOBFA9H2A</td>\n",
       "      <td>GBYXXQO334VQ8MBE</td>\n",
       "      <td>2016-11-05 07:00:00+01:00</td>\n",
       "      <td>['John Adams' 'Matthew Seumanu' 'Teresa Walker']</td>\n",
       "      <td>613.0</td>\n",
       "      <td>Breakfast</td>\n",
       "      <td>False</td>\n",
       "    </tr>\n",
       "    <tr>\n",
       "      <th>10851</th>\n",
       "      <td>UILY3FY0FQ0LG562</td>\n",
       "      <td>2018-04-27</td>\n",
       "      <td>HJX36EDST857NJA0</td>\n",
       "      <td>PKAE43CRIORH89C6</td>\n",
       "      <td>2018-04-28 14:00:00+02:00</td>\n",
       "      <td>['Deborah Sable']</td>\n",
       "      <td>575.0</td>\n",
       "      <td>Lunch</td>\n",
       "      <td>False</td>\n",
       "    </tr>\n",
       "    <tr>\n",
       "      <th>167</th>\n",
       "      <td>OULJIDK8HJ36P760</td>\n",
       "      <td>2018-09-08</td>\n",
       "      <td>YVD4TUKH8NGGGCNZ</td>\n",
       "      <td>HYENPHTT6GZ7O2WY</td>\n",
       "      <td>2018-09-12 14:00:00+02:00</td>\n",
       "      <td>['Stefanie Parlato']</td>\n",
       "      <td>722.0</td>\n",
       "      <td>Lunch</td>\n",
       "      <td>False</td>\n",
       "    </tr>\n",
       "    <tr>\n",
       "      <th>9773</th>\n",
       "      <td>N72XM6QHJF19E7HL</td>\n",
       "      <td>2015-06-29</td>\n",
       "      <td>PEVZ4SFLNXIE2K4S</td>\n",
       "      <td>JHZLE4CBFRJR68KZ</td>\n",
       "      <td>2015-06-24 12:00:00+02:00</td>\n",
       "      <td>['Diana Lopez']</td>\n",
       "      <td>52.0</td>\n",
       "      <td>Lunch</td>\n",
       "      <td>True</td>\n",
       "    </tr>\n",
       "  </tbody>\n",
       "</table>\n",
       "</div>"
      ],
      "text/plain": [
       "               Order Id        Date  ... Type of Meal Heroes Adjustment\n",
       "8529   ZM6591QNDGCLFBBA  2016-09-14  ...       Dinner             False\n",
       "7624   VOYW6ISO7JACBCPD  2016-11-01  ...    Breakfast             False\n",
       "10851  UILY3FY0FQ0LG562  2018-04-27  ...        Lunch             False\n",
       "167    OULJIDK8HJ36P760  2018-09-08  ...        Lunch             False\n",
       "9773   N72XM6QHJF19E7HL  2015-06-29  ...        Lunch              True\n",
       "\n",
       "[5 rows x 9 columns]"
      ]
     },
     "execution_count": 6,
     "metadata": {
      "tags": []
     },
     "output_type": "execute_result"
    }
   ],
   "source": [
    "df.sample(5)"
   ]
  },
  {
   "cell_type": "code",
   "execution_count": 18,
   "metadata": {
    "colab": {
     "base_uri": "https://localhost:8080/"
    },
    "id": "wVZmd2deEkYl",
    "outputId": "869f65cb-84df-4cee-c4e2-4ce3d1789f5d"
   },
   "outputs": [
    {
     "data": {
      "text/plain": [
       "Order Id             0\n",
       "Date                 0\n",
       "Meal Id              0\n",
       "Company Id           0\n",
       "Date of Meal         1\n",
       "Participants         1\n",
       "Meal Price           1\n",
       "Type of Meal         1\n",
       "Heroes Adjustment    1\n",
       "dtype: int64"
      ]
     },
     "execution_count": 18,
     "metadata": {
      "tags": []
     },
     "output_type": "execute_result"
    }
   ],
   "source": [
    "df.isna().sum()"
   ]
  },
  {
   "cell_type": "code",
   "execution_count": 9,
   "metadata": {
    "colab": {
     "base_uri": "https://localhost:8080/"
    },
    "id": "nwu8DIC0E2mF",
    "outputId": "d5241498-a1f1-46d4-b86c-e0fcb8a97754"
   },
   "outputs": [
    {
     "data": {
      "text/plain": [
       "(14362, 9)"
      ]
     },
     "execution_count": 9,
     "metadata": {
      "tags": []
     },
     "output_type": "execute_result"
    }
   ],
   "source": [
    "df.shape"
   ]
  },
  {
   "cell_type": "code",
   "execution_count": null,
   "metadata": {
    "id": "3jzBDS9wF35U"
   },
   "outputs": [],
   "source": [
    "df = df.dropna(subset=['Meal Price'])"
   ]
  },
  {
   "cell_type": "code",
   "execution_count": 10,
   "metadata": {
    "id": "jW2Hj8u6ErUt"
   },
   "outputs": [],
   "source": [
    "df.dropna(inplace = True)"
   ]
  },
  {
   "cell_type": "code",
   "execution_count": 21,
   "metadata": {
    "colab": {
     "base_uri": "https://localhost:8080/",
     "height": 80
    },
    "id": "M5Mejie9HGV5",
    "outputId": "3fa48ff1-ebc6-4863-e84e-6dd707fb6d3a"
   },
   "outputs": [
    {
     "data": {
      "text/html": [
       "<div>\n",
       "<style scoped>\n",
       "    .dataframe tbody tr th:only-of-type {\n",
       "        vertical-align: middle;\n",
       "    }\n",
       "\n",
       "    .dataframe tbody tr th {\n",
       "        vertical-align: top;\n",
       "    }\n",
       "\n",
       "    .dataframe thead th {\n",
       "        text-align: right;\n",
       "    }\n",
       "</style>\n",
       "<table border=\"1\" class=\"dataframe\">\n",
       "  <thead>\n",
       "    <tr style=\"text-align: right;\">\n",
       "      <th></th>\n",
       "      <th>Order Id</th>\n",
       "      <th>Date</th>\n",
       "      <th>Meal Id</th>\n",
       "      <th>Company Id</th>\n",
       "      <th>Date of Meal</th>\n",
       "      <th>Participants</th>\n",
       "      <th>Meal Price</th>\n",
       "      <th>Type of Meal</th>\n",
       "      <th>Heroes Adjustment</th>\n",
       "    </tr>\n",
       "  </thead>\n",
       "  <tbody>\n",
       "    <tr>\n",
       "      <th>14361</th>\n",
       "      <td>2NF38UES2LW6TR2A</td>\n",
       "      <td>2017-02-24</td>\n",
       "      <td>MOEZTCDKASD8Z0UP</td>\n",
       "      <td>I</td>\n",
       "      <td>NaN</td>\n",
       "      <td>NaN</td>\n",
       "      <td>NaN</td>\n",
       "      <td>NaN</td>\n",
       "      <td>NaN</td>\n",
       "    </tr>\n",
       "  </tbody>\n",
       "</table>\n",
       "</div>"
      ],
      "text/plain": [
       "               Order Id        Date  ... Type of Meal Heroes Adjustment\n",
       "14361  2NF38UES2LW6TR2A  2017-02-24  ...          NaN               NaN\n",
       "\n",
       "[1 rows x 9 columns]"
      ]
     },
     "execution_count": 21,
     "metadata": {
      "tags": []
     },
     "output_type": "execute_result"
    }
   ],
   "source": [
    "df.loc[df['Meal Price'].isna()==True]"
   ]
  },
  {
   "cell_type": "code",
   "execution_count": 11,
   "metadata": {
    "colab": {
     "base_uri": "https://localhost:8080/"
    },
    "id": "WFTgNZEaE1Dj",
    "outputId": "2683d5aa-9671-4c37-c479-93d139f8e19e"
   },
   "outputs": [
    {
     "data": {
      "text/plain": [
       "(14361, 9)"
      ]
     },
     "execution_count": 11,
     "metadata": {
      "tags": []
     },
     "output_type": "execute_result"
    }
   ],
   "source": [
    "df.shape"
   ]
  },
  {
   "cell_type": "code",
   "execution_count": 12,
   "metadata": {
    "colab": {
     "base_uri": "https://localhost:8080/"
    },
    "id": "EbFsrS8kE_3r",
    "outputId": "664813a1-9156-43c9-a4dc-482a490779d6"
   },
   "outputs": [
    {
     "data": {
      "text/plain": [
       "Order Id             0\n",
       "Date                 0\n",
       "Meal Id              0\n",
       "Company Id           0\n",
       "Date of Meal         0\n",
       "Participants         0\n",
       "Meal Price           0\n",
       "Type of Meal         0\n",
       "Heroes Adjustment    0\n",
       "dtype: int64"
      ]
     },
     "execution_count": 12,
     "metadata": {
      "tags": []
     },
     "output_type": "execute_result"
    }
   ],
   "source": [
    "df.isna().sum()"
   ]
  },
  {
   "cell_type": "code",
   "execution_count": 16,
   "metadata": {
    "colab": {
     "base_uri": "https://localhost:8080/",
     "height": 419
    },
    "id": "CzCdzCjCFCEB",
    "outputId": "3be6151b-72fd-4ce7-e6ac-85c3c616af9f"
   },
   "outputs": [
    {
     "data": {
      "text/html": [
       "<div>\n",
       "<style scoped>\n",
       "    .dataframe tbody tr th:only-of-type {\n",
       "        vertical-align: middle;\n",
       "    }\n",
       "\n",
       "    .dataframe tbody tr th {\n",
       "        vertical-align: top;\n",
       "    }\n",
       "\n",
       "    .dataframe thead th {\n",
       "        text-align: right;\n",
       "    }\n",
       "</style>\n",
       "<table border=\"1\" class=\"dataframe\">\n",
       "  <thead>\n",
       "    <tr style=\"text-align: right;\">\n",
       "      <th></th>\n",
       "      <th>Order Id</th>\n",
       "      <th>Date</th>\n",
       "      <th>Meal Id</th>\n",
       "      <th>Company Id</th>\n",
       "      <th>Date of Meal</th>\n",
       "      <th>Participants</th>\n",
       "      <th>Meal Price</th>\n",
       "    </tr>\n",
       "  </thead>\n",
       "  <tbody>\n",
       "    <tr>\n",
       "      <th>0</th>\n",
       "      <td>839FKFW2LLX4LMBB</td>\n",
       "      <td>2016-05-27</td>\n",
       "      <td>INBUX904GIHI8YBD</td>\n",
       "      <td>LJKS5NK6788CYMUU</td>\n",
       "      <td>2016-05-31 07:00:00+02:00</td>\n",
       "      <td>['David Bishop']</td>\n",
       "      <td>469.0</td>\n",
       "    </tr>\n",
       "    <tr>\n",
       "      <th>1</th>\n",
       "      <td>97OX39BGVMHODLJM</td>\n",
       "      <td>2018-09-27</td>\n",
       "      <td>J0MMOOPP709DIDIE</td>\n",
       "      <td>LJKS5NK6788CYMUU</td>\n",
       "      <td>2018-10-01 20:00:00+02:00</td>\n",
       "      <td>['David Bishop']</td>\n",
       "      <td>22.0</td>\n",
       "    </tr>\n",
       "    <tr>\n",
       "      <th>2</th>\n",
       "      <td>041ORQM5OIHTIU6L</td>\n",
       "      <td>2014-08-24</td>\n",
       "      <td>E4UJLQNCI16UX5CS</td>\n",
       "      <td>LJKS5NK6788CYMUU</td>\n",
       "      <td>2014-08-23 14:00:00+02:00</td>\n",
       "      <td>['Karen Stansell']</td>\n",
       "      <td>314.0</td>\n",
       "    </tr>\n",
       "    <tr>\n",
       "      <th>3</th>\n",
       "      <td>YT796QI18WNGZ7ZJ</td>\n",
       "      <td>2014-04-12</td>\n",
       "      <td>C9SDFHF7553BE247</td>\n",
       "      <td>LJKS5NK6788CYMUU</td>\n",
       "      <td>2014-04-07 21:00:00+02:00</td>\n",
       "      <td>['Addie Patino']</td>\n",
       "      <td>438.0</td>\n",
       "    </tr>\n",
       "    <tr>\n",
       "      <th>4</th>\n",
       "      <td>6YLROQT27B6HRF4E</td>\n",
       "      <td>2015-07-28</td>\n",
       "      <td>48EQXS6IHYNZDDZ5</td>\n",
       "      <td>LJKS5NK6788CYMUU</td>\n",
       "      <td>2015-07-27 14:00:00+02:00</td>\n",
       "      <td>['Addie Patino' 'Susan Guerrero']</td>\n",
       "      <td>690.0</td>\n",
       "    </tr>\n",
       "    <tr>\n",
       "      <th>...</th>\n",
       "      <td>...</td>\n",
       "      <td>...</td>\n",
       "      <td>...</td>\n",
       "      <td>...</td>\n",
       "      <td>...</td>\n",
       "      <td>...</td>\n",
       "      <td>...</td>\n",
       "    </tr>\n",
       "    <tr>\n",
       "      <th>14356</th>\n",
       "      <td>4A9VZGYFUFJVXVZJ</td>\n",
       "      <td>2017-08-31</td>\n",
       "      <td>G17L9DU9CZ2ZG9OG</td>\n",
       "      <td>I27J9NPYES4BIXBR</td>\n",
       "      <td>2017-09-04 09:00:00+02:00</td>\n",
       "      <td>['Margo Deslauriers']</td>\n",
       "      <td>329.0</td>\n",
       "    </tr>\n",
       "    <tr>\n",
       "      <th>14357</th>\n",
       "      <td>BD2DKH8I61Y0NL7Z</td>\n",
       "      <td>2018-01-12</td>\n",
       "      <td>4VLH5HYF70RP1YJK</td>\n",
       "      <td>I27J9NPYES4BIXBR</td>\n",
       "      <td>2018-01-16 14:00:00+01:00</td>\n",
       "      <td>['Sharon Goines' 'Margo Deslauriers']</td>\n",
       "      <td>280.0</td>\n",
       "    </tr>\n",
       "    <tr>\n",
       "      <th>14358</th>\n",
       "      <td>RFK2C21CD7IAOUZT</td>\n",
       "      <td>2016-06-30</td>\n",
       "      <td>EGQRRRN5D1Y97WGD</td>\n",
       "      <td>I27J9NPYES4BIXBR</td>\n",
       "      <td>2016-06-26 20:00:00+02:00</td>\n",
       "      <td>['Kenisha Ordonez']</td>\n",
       "      <td>49.0</td>\n",
       "    </tr>\n",
       "    <tr>\n",
       "      <th>14359</th>\n",
       "      <td>2UMDU938DTE7D808</td>\n",
       "      <td>2016-04-10</td>\n",
       "      <td>AV323CBF7N78MCYD</td>\n",
       "      <td>I27J9NPYES4BIXBR</td>\n",
       "      <td>2016-04-10 07:00:00+02:00</td>\n",
       "      <td>['Douglas Villanueva']</td>\n",
       "      <td>81.0</td>\n",
       "    </tr>\n",
       "    <tr>\n",
       "      <th>14360</th>\n",
       "      <td>NEER4D5TN6GQV9WA</td>\n",
       "      <td>2015-07-19</td>\n",
       "      <td>RDLHP30JLO9RYWDR</td>\n",
       "      <td>I27J9NPYES4BIXBR</td>\n",
       "      <td>2015-07-21 09:00:00+02:00</td>\n",
       "      <td>['Douglas Villanueva' 'Kenisha Ordonez']</td>\n",
       "      <td>210.0</td>\n",
       "    </tr>\n",
       "  </tbody>\n",
       "</table>\n",
       "<p>14361 rows × 7 columns</p>\n",
       "</div>"
      ],
      "text/plain": [
       "               Order Id  ... Meal Price\n",
       "0      839FKFW2LLX4LMBB  ...      469.0\n",
       "1      97OX39BGVMHODLJM  ...       22.0\n",
       "2      041ORQM5OIHTIU6L  ...      314.0\n",
       "3      YT796QI18WNGZ7ZJ  ...      438.0\n",
       "4      6YLROQT27B6HRF4E  ...      690.0\n",
       "...                 ...  ...        ...\n",
       "14356  4A9VZGYFUFJVXVZJ  ...      329.0\n",
       "14357  BD2DKH8I61Y0NL7Z  ...      280.0\n",
       "14358  RFK2C21CD7IAOUZT  ...       49.0\n",
       "14359  2UMDU938DTE7D808  ...       81.0\n",
       "14360  NEER4D5TN6GQV9WA  ...      210.0\n",
       "\n",
       "[14361 rows x 7 columns]"
      ]
     },
     "execution_count": 16,
     "metadata": {
      "tags": []
     },
     "output_type": "execute_result"
    }
   ],
   "source": [
    "#Dropping columns\n",
    "df.drop('Date',axis = 1)\n",
    "df.drop(columns = ['Heroes Adjustment','Type of Meal'])"
   ]
  },
  {
   "cell_type": "code",
   "execution_count": null,
   "metadata": {
    "id": "KewdL6gTFDCi"
   },
   "outputs": [],
   "source": [
    "#Dropping Rows\n",
    "df.drop(labels = [1,2,40],axis = 0)\n",
    "df.drop(range(10,100))"
   ]
  },
  {
   "cell_type": "code",
   "execution_count": null,
   "metadata": {
    "id": "aIIQtStcGYtP"
   },
   "outputs": [],
   "source": [
    "#dropping null values wrt to one particular column make use of subset\n",
    "df = df.dropna(subset=['Meal Price'])"
   ]
  },
  {
   "cell_type": "code",
   "execution_count": 22,
   "metadata": {
    "colab": {
     "base_uri": "https://localhost:8080/"
    },
    "id": "Yzqymoj3Hu37",
    "outputId": "f159423f-74d4-454e-8e9a-0998673f8441"
   },
   "outputs": [
    {
     "data": {
      "text/plain": [
       "Order Id              object\n",
       "Date                  object\n",
       "Meal Id               object\n",
       "Company Id            object\n",
       "Date of Meal          object\n",
       "Participants          object\n",
       "Meal Price           float64\n",
       "Type of Meal          object\n",
       "Heroes Adjustment     object\n",
       "dtype: object"
      ]
     },
     "execution_count": 22,
     "metadata": {
      "tags": []
     },
     "output_type": "execute_result"
    }
   ],
   "source": [
    "#Understanding Pandas Dtypes\n",
    "df.dtypes"
   ]
  },
  {
   "cell_type": "code",
   "execution_count": 23,
   "metadata": {
    "id": "lufh6tSuHu9p"
   },
   "outputs": [],
   "source": [
    "df['Date'] = df['Date'].astype('datetime64')"
   ]
  },
  {
   "cell_type": "code",
   "execution_count": 24,
   "metadata": {
    "colab": {
     "base_uri": "https://localhost:8080/"
    },
    "id": "dIh6IN_yFDFz",
    "outputId": "d31f8e5c-8e64-435f-9c0f-3586c3d55d63"
   },
   "outputs": [
    {
     "data": {
      "text/plain": [
       "Order Id                     object\n",
       "Date                 datetime64[ns]\n",
       "Meal Id                      object\n",
       "Company Id                   object\n",
       "Date of Meal                 object\n",
       "Participants                 object\n",
       "Meal Price                  float64\n",
       "Type of Meal                 object\n",
       "Heroes Adjustment            object\n",
       "dtype: object"
      ]
     },
     "execution_count": 24,
     "metadata": {
      "tags": []
     },
     "output_type": "execute_result"
    }
   ],
   "source": [
    "df.dtypes"
   ]
  },
  {
   "cell_type": "code",
   "execution_count": 25,
   "metadata": {
    "colab": {
     "base_uri": "https://localhost:8080/"
    },
    "id": "8T6zQg1TFDIw",
    "outputId": "eda9896e-12c0-47de-9ac5-ebad13d6e01f"
   },
   "outputs": [
    {
     "data": {
      "text/plain": [
       "0       2016-05-27\n",
       "1       2018-09-27\n",
       "2       2014-08-24\n",
       "3       2014-04-12\n",
       "4       2015-07-28\n",
       "           ...    \n",
       "14357   2018-01-12\n",
       "14358   2016-06-30\n",
       "14359   2016-04-10\n",
       "14360   2015-07-19\n",
       "14361   2017-02-24\n",
       "Name: Date, Length: 14362, dtype: datetime64[ns]"
      ]
     },
     "execution_count": 25,
     "metadata": {
      "tags": []
     },
     "output_type": "execute_result"
    }
   ],
   "source": [
    "df['Date']"
   ]
  },
  {
   "cell_type": "code",
   "execution_count": null,
   "metadata": {
    "id": "kXjJZ0fcFDLo"
   },
   "outputs": [],
   "source": [
    "1. Object \n",
    "2. int64\n",
    "3. float64\n",
    "4. bool \n",
    "5. datetime64\n",
    "6. delta(Timedelta)\n",
    "7. Category"
   ]
  },
  {
   "cell_type": "code",
   "execution_count": 29,
   "metadata": {
    "colab": {
     "base_uri": "https://localhost:8080/"
    },
    "id": "zEOW9fOXKJsf",
    "outputId": "d477715c-329d-4e4a-b55d-53ac7a981de9"
   },
   "outputs": [
    {
     "data": {
      "text/plain": [
       "0        Breakfast\n",
       "1           Dinner\n",
       "2            Lunch\n",
       "3           Dinner\n",
       "4            Lunch\n",
       "           ...    \n",
       "14357        Lunch\n",
       "14358       Dinner\n",
       "14359    Breakfast\n",
       "14360    Breakfast\n",
       "14361          NaN\n",
       "Name: Type of Meal, Length: 14362, dtype: object"
      ]
     },
     "execution_count": 29,
     "metadata": {
      "tags": []
     },
     "output_type": "execute_result"
    }
   ],
   "source": [
    "df['Type of Meal']"
   ]
  },
  {
   "cell_type": "code",
   "execution_count": 30,
   "metadata": {
    "id": "CsiyCFMhJOIG"
   },
   "outputs": [],
   "source": [
    "df['Type of Meal']  = df['Type of Meal'].astype('category')"
   ]
  },
  {
   "cell_type": "code",
   "execution_count": 31,
   "metadata": {
    "colab": {
     "base_uri": "https://localhost:8080/"
    },
    "id": "Hv_OMiJ-JOK0",
    "outputId": "7631c141-9ce2-461b-fa41-0171c83ed314"
   },
   "outputs": [
    {
     "data": {
      "text/plain": [
       "0        Breakfast\n",
       "1           Dinner\n",
       "2            Lunch\n",
       "3           Dinner\n",
       "4            Lunch\n",
       "           ...    \n",
       "14357        Lunch\n",
       "14358       Dinner\n",
       "14359    Breakfast\n",
       "14360    Breakfast\n",
       "14361          NaN\n",
       "Name: Type of Meal, Length: 14362, dtype: category\n",
       "Categories (3, object): ['Breakfast', 'Dinner', 'Lunch']"
      ]
     },
     "execution_count": 31,
     "metadata": {
      "tags": []
     },
     "output_type": "execute_result"
    }
   ],
   "source": [
    "df['Type of Meal']"
   ]
  },
  {
   "cell_type": "code",
   "execution_count": 33,
   "metadata": {
    "colab": {
     "base_uri": "https://localhost:8080/"
    },
    "id": "AuQacYwTJONw",
    "outputId": "d568bddd-5f63-457a-bbdd-e3f1c4a9fa20"
   },
   "outputs": [
    {
     "data": {
      "text/plain": [
       "Index(['Breakfast', 'Dinner', 'Lunch'], dtype='object')"
      ]
     },
     "execution_count": 33,
     "metadata": {
      "tags": []
     },
     "output_type": "execute_result"
    }
   ],
   "source": [
    "df['Type of Meal'].cat.categories"
   ]
  },
  {
   "cell_type": "code",
   "execution_count": 34,
   "metadata": {
    "colab": {
     "base_uri": "https://localhost:8080/"
    },
    "id": "ZVHnYUEgJOQf",
    "outputId": "023af242-a83e-4f29-986d-cd1e79a54aa5"
   },
   "outputs": [
    {
     "data": {
      "text/plain": [
       "0        0\n",
       "1        1\n",
       "2        2\n",
       "3        1\n",
       "4        2\n",
       "        ..\n",
       "14357    2\n",
       "14358    1\n",
       "14359    0\n",
       "14360    0\n",
       "14361   -1\n",
       "Length: 14362, dtype: int8"
      ]
     },
     "execution_count": 34,
     "metadata": {
      "tags": []
     },
     "output_type": "execute_result"
    }
   ],
   "source": [
    "df['Type of Meal'].cat.codes"
   ]
  },
  {
   "cell_type": "code",
   "execution_count": 36,
   "metadata": {
    "colab": {
     "base_uri": "https://localhost:8080/"
    },
    "id": "iLr__lUrJOUL",
    "outputId": "64efec4a-39d1-4ca8-a7f8-aedf5887cae9"
   },
   "outputs": [
    {
     "data": {
      "text/plain": [
       "0        Breakfast\n",
       "1           Dinner\n",
       "2            Lunch\n",
       "3           Dinner\n",
       "4            Lunch\n",
       "           ...    \n",
       "14357        Lunch\n",
       "14358       Dinner\n",
       "14359    Breakfast\n",
       "14360    Breakfast\n",
       "14361          NaN\n",
       "Name: Type of Meal, Length: 14362, dtype: category\n",
       "Categories (3, object): ['Lunch', 'Dinner', 'Breakfast']"
      ]
     },
     "execution_count": 36,
     "metadata": {
      "tags": []
     },
     "output_type": "execute_result"
    }
   ],
   "source": [
    "df['Type of Meal'].cat.reorder_categories(['Lunch','Dinner','Breakfast'])"
   ]
  },
  {
   "cell_type": "code",
   "execution_count": 37,
   "metadata": {
    "id": "N-16UjO7LGx_"
   },
   "outputs": [],
   "source": [
    "#Properties of datetime columns in pandas\n",
    "#1. astype\n",
    "#2. pd.to_datetime()"
   ]
  },
  {
   "cell_type": "code",
   "execution_count": 39,
   "metadata": {
    "colab": {
     "base_uri": "https://localhost:8080/"
    },
    "id": "VULVZ71hLG8j",
    "outputId": "8b566e77-9331-415f-e48f-415210622415"
   },
   "outputs": [
    {
     "data": {
      "text/plain": [
       "Order Id               object\n",
       "Date                   object\n",
       "Meal Id                object\n",
       "Company Id             object\n",
       "Date of Meal           object\n",
       "Participants           object\n",
       "Meal Price            float64\n",
       "Type of Meal         category\n",
       "Heroes Adjustment      object\n",
       "dtype: object"
      ]
     },
     "execution_count": 39,
     "metadata": {
      "tags": []
     },
     "output_type": "execute_result"
    }
   ],
   "source": [
    "#1. properties by assuming all the row are of same format!\n",
    "df.dtypes"
   ]
  },
  {
   "cell_type": "code",
   "execution_count": 41,
   "metadata": {
    "colab": {
     "base_uri": "https://localhost:8080/"
    },
    "id": "S8PINLnMLHCO",
    "outputId": "bd6159d9-825b-411f-8caf-522ac3c92be3"
   },
   "outputs": [
    {
     "data": {
      "text/plain": [
       "0        2016-05-27\n",
       "1        2018-09-27\n",
       "2        2014-08-24\n",
       "3        2014-04-12\n",
       "4        2015-07-28\n",
       "            ...    \n",
       "14357    2018-01-12\n",
       "14358    2016-06-30\n",
       "14359    2016-04-10\n",
       "14360    2015-07-19\n",
       "14361    2017-02-24\n",
       "Name: Date, Length: 14362, dtype: object"
      ]
     },
     "execution_count": 41,
     "metadata": {
      "tags": []
     },
     "output_type": "execute_result"
    }
   ],
   "source": [
    "df['Date'] = df['Date'].astype('datetime64')\n",
    "df['Date'].dt.date"
   ]
  },
  {
   "cell_type": "code",
   "execution_count": 42,
   "metadata": {
    "colab": {
     "base_uri": "https://localhost:8080/"
    },
    "id": "xbUSIV8QKzt3",
    "outputId": "7a0df2e8-38a3-49f2-f1a8-988f7b187a18"
   },
   "outputs": [
    {
     "data": {
      "text/plain": [
       "0              May\n",
       "1        September\n",
       "2           August\n",
       "3            April\n",
       "4             July\n",
       "           ...    \n",
       "14357      January\n",
       "14358         June\n",
       "14359        April\n",
       "14360         July\n",
       "14361     February\n",
       "Name: Date, Length: 14362, dtype: object"
      ]
     },
     "execution_count": 42,
     "metadata": {
      "tags": []
     },
     "output_type": "execute_result"
    }
   ],
   "source": [
    "df['Date'].dt.month_name()"
   ]
  },
  {
   "cell_type": "code",
   "execution_count": 49,
   "metadata": {
    "colab": {
     "base_uri": "https://localhost:8080/"
    },
    "id": "qgh3So3eKzxC",
    "outputId": "ab5d029b-786c-405a-ddc0-8c9fbaf9e734"
   },
   "outputs": [
    {
     "data": {
      "text/plain": [
       "0        4\n",
       "1        3\n",
       "2        6\n",
       "3        5\n",
       "4        1\n",
       "        ..\n",
       "14357    4\n",
       "14358    3\n",
       "14359    6\n",
       "14360    6\n",
       "14361    4\n",
       "Name: Date, Length: 14362, dtype: int64"
      ]
     },
     "execution_count": 49,
     "metadata": {
      "tags": []
     },
     "output_type": "execute_result"
    }
   ],
   "source": [
    "df['Date'].dt.weekday"
   ]
  },
  {
   "cell_type": "code",
   "execution_count": 53,
   "metadata": {
    "colab": {
     "base_uri": "https://localhost:8080/"
    },
    "id": "BVgQl9AUQQ5a",
    "outputId": "a0e59d69-28ee-459a-b2c9-e9ff2b9c75fa"
   },
   "outputs": [
    {
     "data": {
      "text/plain": [
       "0        2\n",
       "1        3\n",
       "2        3\n",
       "3        2\n",
       "4        3\n",
       "        ..\n",
       "14357    1\n",
       "14358    2\n",
       "14359    2\n",
       "14360    3\n",
       "14361    1\n",
       "Name: Date, Length: 14362, dtype: int64"
      ]
     },
     "execution_count": 53,
     "metadata": {
      "tags": []
     },
     "output_type": "execute_result"
    }
   ],
   "source": [
    "df['Date'].dt.quarter"
   ]
  },
  {
   "cell_type": "code",
   "execution_count": 55,
   "metadata": {
    "colab": {
     "base_uri": "https://localhost:8080/"
    },
    "id": "7SpOSGIZP9cL",
    "outputId": "0383d470-d900-4667-d503-3d496d18ad29"
   },
   "outputs": [
    {
     "data": {
      "text/plain": [
       "0          Friday\n",
       "1        Thursday\n",
       "2          Sunday\n",
       "3        Saturday\n",
       "4         Tuesday\n",
       "           ...   \n",
       "14357      Friday\n",
       "14358    Thursday\n",
       "14359      Sunday\n",
       "14360      Sunday\n",
       "14361      Friday\n",
       "Name: Date, Length: 14362, dtype: object"
      ]
     },
     "execution_count": 55,
     "metadata": {
      "tags": []
     },
     "output_type": "execute_result"
    }
   ],
   "source": [
    "df['Date'].dt.day_name()"
   ]
  },
  {
   "cell_type": "code",
   "execution_count": 57,
   "metadata": {
    "colab": {
     "base_uri": "https://localhost:8080/"
    },
    "id": "rdshOrrTP9fm",
    "outputId": "47e1f549-d7bf-4555-ed4a-15547cb7ff3f"
   },
   "outputs": [
    {
     "data": {
      "text/plain": [
       "0        2016\n",
       "1        2018\n",
       "2        2014\n",
       "3        2014\n",
       "4        2015\n",
       "         ... \n",
       "14357    2018\n",
       "14358    2016\n",
       "14359    2016\n",
       "14360    2015\n",
       "14361    2017\n",
       "Name: Date, Length: 14362, dtype: int64"
      ]
     },
     "execution_count": 57,
     "metadata": {
      "tags": []
     },
     "output_type": "execute_result"
    }
   ],
   "source": [
    "df['Date'].dt.year"
   ]
  },
  {
   "cell_type": "code",
   "execution_count": 61,
   "metadata": {
    "colab": {
     "base_uri": "https://localhost:8080/"
    },
    "id": "hboSrEbrRiXY",
    "outputId": "bef963c7-8632-4483-9ee8-99078059a67b"
   },
   "outputs": [
    {
     "data": {
      "text/plain": [
       "0       2016-05-27\n",
       "1       2018-09-27\n",
       "2       2014-08-24\n",
       "3       2014-04-12\n",
       "4       2015-07-28\n",
       "           ...    \n",
       "14357   2018-01-12\n",
       "14358   2016-06-30\n",
       "14359   2016-04-10\n",
       "14360   2015-07-19\n",
       "14361   2017-02-24\n",
       "Name: Date, Length: 14362, dtype: datetime64[ns]"
      ]
     },
     "execution_count": 61,
     "metadata": {
      "tags": []
     },
     "output_type": "execute_result"
    }
   ],
   "source": [
    "df['Date']"
   ]
  },
  {
   "cell_type": "code",
   "execution_count": 60,
   "metadata": {
    "colab": {
     "base_uri": "https://localhost:8080/"
    },
    "id": "2zB6LhuNRfQF",
    "outputId": "4177d8cd-397b-42ce-ad5d-96e76c9e772c"
   },
   "outputs": [
    {
     "data": {
      "text/plain": [
       "0       2016-05-27\n",
       "1       2018-09-27\n",
       "2       2014-08-24\n",
       "3       2014-04-12\n",
       "4       2015-07-28\n",
       "           ...    \n",
       "14357   2018-01-12\n",
       "14358   2016-06-30\n",
       "14359   2016-04-10\n",
       "14360   2015-07-19\n",
       "14361   2017-02-24\n",
       "Name: Date, Length: 14362, dtype: datetime64[ns]"
      ]
     },
     "execution_count": 60,
     "metadata": {
      "tags": []
     },
     "output_type": "execute_result"
    }
   ],
   "source": [
    "df.Date"
   ]
  },
  {
   "cell_type": "code",
   "execution_count": null,
   "metadata": {
    "id": "KlFDYnaKQuha"
   },
   "outputs": [],
   "source": [
    "#2. Assuming the data is very dirty"
   ]
  },
  {
   "cell_type": "code",
   "execution_count": 116,
   "metadata": {
    "id": "_McKKdjLP9i3"
   },
   "outputs": [],
   "source": [
    "df_date = pd.DataFrame([\n",
    "                        [['']],\n",
    "                        [['January 14th, 2020']],\n",
    "                        [['24/11/1996']],\n",
    "                        [['07-07-2010']],\n",
    "                        [['08/2010']],\n",
    "                        [['2001']],\n",
    "                        [['2008']]\n",
    "                        ],columns = ['date'])"
   ]
  },
  {
   "cell_type": "code",
   "execution_count": 117,
   "metadata": {
    "id": "JhXj9KgiP9mS"
   },
   "outputs": [],
   "source": [
    "df_date['date_converted'] = df_date.date.apply(lambda x: pd.to_datetime(x).strftime(\"%m/%d/%Y\")[0])"
   ]
  },
  {
   "cell_type": "code",
   "execution_count": 118,
   "metadata": {
    "colab": {
     "base_uri": "https://localhost:8080/",
     "height": 266
    },
    "id": "_BGkiDlyWJ0w",
    "outputId": "55de95bb-03bc-4455-cd90-823c46828c4d"
   },
   "outputs": [
    {
     "data": {
      "text/html": [
       "<div>\n",
       "<style scoped>\n",
       "    .dataframe tbody tr th:only-of-type {\n",
       "        vertical-align: middle;\n",
       "    }\n",
       "\n",
       "    .dataframe tbody tr th {\n",
       "        vertical-align: top;\n",
       "    }\n",
       "\n",
       "    .dataframe thead th {\n",
       "        text-align: right;\n",
       "    }\n",
       "</style>\n",
       "<table border=\"1\" class=\"dataframe\">\n",
       "  <thead>\n",
       "    <tr style=\"text-align: right;\">\n",
       "      <th></th>\n",
       "      <th>date</th>\n",
       "      <th>date_converted</th>\n",
       "    </tr>\n",
       "  </thead>\n",
       "  <tbody>\n",
       "    <tr>\n",
       "      <th>0</th>\n",
       "      <td>[]</td>\n",
       "      <td>NaN</td>\n",
       "    </tr>\n",
       "    <tr>\n",
       "      <th>1</th>\n",
       "      <td>[January 14th, 2020]</td>\n",
       "      <td>01/14/2020</td>\n",
       "    </tr>\n",
       "    <tr>\n",
       "      <th>2</th>\n",
       "      <td>[24/11/1996]</td>\n",
       "      <td>11/24/1996</td>\n",
       "    </tr>\n",
       "    <tr>\n",
       "      <th>3</th>\n",
       "      <td>[07-07-2010]</td>\n",
       "      <td>07/07/2010</td>\n",
       "    </tr>\n",
       "    <tr>\n",
       "      <th>4</th>\n",
       "      <td>[08/2010]</td>\n",
       "      <td>08/01/2010</td>\n",
       "    </tr>\n",
       "    <tr>\n",
       "      <th>5</th>\n",
       "      <td>[2001]</td>\n",
       "      <td>01/01/2001</td>\n",
       "    </tr>\n",
       "    <tr>\n",
       "      <th>6</th>\n",
       "      <td>[2008]</td>\n",
       "      <td>01/01/2008</td>\n",
       "    </tr>\n",
       "  </tbody>\n",
       "</table>\n",
       "</div>"
      ],
      "text/plain": [
       "                   date date_converted\n",
       "0                    []            NaN\n",
       "1  [January 14th, 2020]     01/14/2020\n",
       "2          [24/11/1996]     11/24/1996\n",
       "3          [07-07-2010]     07/07/2010\n",
       "4             [08/2010]     08/01/2010\n",
       "5                [2001]     01/01/2001\n",
       "6                [2008]     01/01/2008"
      ]
     },
     "execution_count": 118,
     "metadata": {
      "tags": []
     },
     "output_type": "execute_result"
    }
   ],
   "source": [
    "df_date"
   ]
  },
  {
   "cell_type": "code",
   "execution_count": 101,
   "metadata": {
    "colab": {
     "base_uri": "https://localhost:8080/"
    },
    "id": "A6w3VyrUV7Fm",
    "outputId": "fb663060-9928-4404-8cb5-ed9b3f56838e"
   },
   "outputs": [
    {
     "data": {
      "text/plain": [
       "0           NaN\n",
       "1    01-14-2020\n",
       "2    11-24-1996\n",
       "3    07-07-2010\n",
       "4    08-01-2010\n",
       "5    01-01-2001\n",
       "6    01-22-2002\n",
       "Name: date_proper, dtype: object"
      ]
     },
     "execution_count": 101,
     "metadata": {
      "tags": []
     },
     "output_type": "execute_result"
    }
   ],
   "source": [
    "df_date['date_proper']"
   ]
  },
  {
   "cell_type": "code",
   "execution_count": 90,
   "metadata": {
    "id": "AY1WX5LcKzz9"
   },
   "outputs": [],
   "source": [
    "df['Meal Price'] = df['Meal Price'].apply(lambda x: x+100)"
   ]
  },
  {
   "cell_type": "code",
   "execution_count": 73,
   "metadata": {
    "colab": {
     "base_uri": "https://localhost:8080/"
    },
    "id": "VOlck120Swbz",
    "outputId": "48828a32-bef8-40b3-c11f-07c3c43271ba"
   },
   "outputs": [
    {
     "data": {
      "text/plain": [
       "0        669.0\n",
       "1        222.0\n",
       "2        514.0\n",
       "3        638.0\n",
       "4        890.0\n",
       "         ...  \n",
       "14357    480.0\n",
       "14358    249.0\n",
       "14359    281.0\n",
       "14360    410.0\n",
       "14361      NaN\n",
       "Name: Meal Price, Length: 14362, dtype: float64"
      ]
     },
     "execution_count": 73,
     "metadata": {
      "tags": []
     },
     "output_type": "execute_result"
    }
   ],
   "source": [
    "df['Meal Price']"
   ]
  },
  {
   "cell_type": "code",
   "execution_count": 78,
   "metadata": {
    "colab": {
     "base_uri": "https://localhost:8080/"
    },
    "id": "NlE6G1h6S-pb",
    "outputId": "61468f35-d990-443b-e8d2-e7aab0a1bc1f"
   },
   "outputs": [
    {
     "data": {
      "text/plain": [
       "0        breakfast\n",
       "1           dinner\n",
       "2            lunch\n",
       "3           dinner\n",
       "4            lunch\n",
       "           ...    \n",
       "14357        lunch\n",
       "14358       dinner\n",
       "14359    breakfast\n",
       "14360    breakfast\n",
       "14361          NaN\n",
       "Name: Type of Meal, Length: 14362, dtype: object"
      ]
     },
     "execution_count": 78,
     "metadata": {
      "tags": []
     },
     "output_type": "execute_result"
    }
   ],
   "source": [
    "df['Type of Meal'].str.lower()"
   ]
  },
  {
   "cell_type": "code",
   "execution_count": 80,
   "metadata": {
    "colab": {
     "base_uri": "https://localhost:8080/"
    },
    "id": "dDXoVcEyTg0a",
    "outputId": "35cb1e74-1e42-49f7-ae4a-bc39421840a5"
   },
   "outputs": [
    {
     "data": {
      "text/plain": [
       "0        0Breakfast\n",
       "1        0000Dinner\n",
       "2        00000Lunch\n",
       "3        0000Dinner\n",
       "4        00000Lunch\n",
       "            ...    \n",
       "14357    00000Lunch\n",
       "14358    0000Dinner\n",
       "14359    0Breakfast\n",
       "14360    0Breakfast\n",
       "14361           NaN\n",
       "Name: Type of Meal, Length: 14362, dtype: object"
      ]
     },
     "execution_count": 80,
     "metadata": {
      "tags": []
     },
     "output_type": "execute_result"
    }
   ],
   "source": [
    "df['Type of Meal'].str.zfill(width=10)"
   ]
  },
  {
   "cell_type": "code",
   "execution_count": 91,
   "metadata": {
    "colab": {
     "base_uri": "https://localhost:8080/"
    },
    "id": "xXGKt-SbUfK9",
    "outputId": "6b2229db-cf5c-4f44-e90d-8e0883c6395f"
   },
   "outputs": [
    {
     "data": {
      "text/plain": [
       "0        Breakfast00000000000\n",
       "1        Dinner00000000000000\n",
       "2        Lunch000000000000000\n",
       "3        Dinner00000000000000\n",
       "4        Lunch000000000000000\n",
       "                 ...         \n",
       "14357    Lunch000000000000000\n",
       "14358    Dinner00000000000000\n",
       "14359    Breakfast00000000000\n",
       "14360    Breakfast00000000000\n",
       "14361                     NaN\n",
       "Name: Type of Meal, Length: 14362, dtype: object"
      ]
     },
     "execution_count": 91,
     "metadata": {
      "tags": []
     },
     "output_type": "execute_result"
    }
   ],
   "source": [
    "df['Type of Meal'].str.pad(width = 20,side = 'right',fillchar= '0')"
   ]
  },
  {
   "cell_type": "code",
   "execution_count": 120,
   "metadata": {
    "id": "r83qHlv5TZFv"
   },
   "outputs": [],
   "source": [
    "#Apply \n",
    "def square(x):\n",
    "  return x*x\n",
    "df['Meal_squared_function'] = df['Meal Price'].apply(square)"
   ]
  },
  {
   "cell_type": "code",
   "execution_count": 121,
   "metadata": {
    "colab": {
     "base_uri": "https://localhost:8080/",
     "height": 306
    },
    "id": "wc-ZXwXSYT27",
    "outputId": "e9a9e51c-78c7-40f4-ded9-36cc6ae73a87"
   },
   "outputs": [
    {
     "data": {
      "text/html": [
       "<div>\n",
       "<style scoped>\n",
       "    .dataframe tbody tr th:only-of-type {\n",
       "        vertical-align: middle;\n",
       "    }\n",
       "\n",
       "    .dataframe tbody tr th {\n",
       "        vertical-align: top;\n",
       "    }\n",
       "\n",
       "    .dataframe thead th {\n",
       "        text-align: right;\n",
       "    }\n",
       "</style>\n",
       "<table border=\"1\" class=\"dataframe\">\n",
       "  <thead>\n",
       "    <tr style=\"text-align: right;\">\n",
       "      <th></th>\n",
       "      <th>Order Id</th>\n",
       "      <th>Date</th>\n",
       "      <th>Meal Id</th>\n",
       "      <th>Company Id</th>\n",
       "      <th>Date of Meal</th>\n",
       "      <th>Participants</th>\n",
       "      <th>Meal Price</th>\n",
       "      <th>Type of Meal</th>\n",
       "      <th>Heroes Adjustment</th>\n",
       "      <th>Meal_squared_function</th>\n",
       "    </tr>\n",
       "  </thead>\n",
       "  <tbody>\n",
       "    <tr>\n",
       "      <th>0</th>\n",
       "      <td>839FKFW2LLX4LMBB</td>\n",
       "      <td>2016-05-27</td>\n",
       "      <td>INBUX904GIHI8YBD</td>\n",
       "      <td>LJKS5NK6788CYMUU</td>\n",
       "      <td>2016-05-31 07:00:00+02:00</td>\n",
       "      <td>['David Bishop']</td>\n",
       "      <td>769.0</td>\n",
       "      <td>Breakfast</td>\n",
       "      <td>False</td>\n",
       "      <td>591361.0</td>\n",
       "    </tr>\n",
       "    <tr>\n",
       "      <th>1</th>\n",
       "      <td>97OX39BGVMHODLJM</td>\n",
       "      <td>2018-09-27</td>\n",
       "      <td>J0MMOOPP709DIDIE</td>\n",
       "      <td>LJKS5NK6788CYMUU</td>\n",
       "      <td>2018-10-01 20:00:00+02:00</td>\n",
       "      <td>['David Bishop']</td>\n",
       "      <td>322.0</td>\n",
       "      <td>Dinner</td>\n",
       "      <td>False</td>\n",
       "      <td>103684.0</td>\n",
       "    </tr>\n",
       "    <tr>\n",
       "      <th>2</th>\n",
       "      <td>041ORQM5OIHTIU6L</td>\n",
       "      <td>2014-08-24</td>\n",
       "      <td>E4UJLQNCI16UX5CS</td>\n",
       "      <td>LJKS5NK6788CYMUU</td>\n",
       "      <td>2014-08-23 14:00:00+02:00</td>\n",
       "      <td>['Karen Stansell']</td>\n",
       "      <td>614.0</td>\n",
       "      <td>Lunch</td>\n",
       "      <td>False</td>\n",
       "      <td>376996.0</td>\n",
       "    </tr>\n",
       "    <tr>\n",
       "      <th>3</th>\n",
       "      <td>YT796QI18WNGZ7ZJ</td>\n",
       "      <td>2014-04-12</td>\n",
       "      <td>C9SDFHF7553BE247</td>\n",
       "      <td>LJKS5NK6788CYMUU</td>\n",
       "      <td>2014-04-07 21:00:00+02:00</td>\n",
       "      <td>['Addie Patino']</td>\n",
       "      <td>738.0</td>\n",
       "      <td>Dinner</td>\n",
       "      <td>False</td>\n",
       "      <td>544644.0</td>\n",
       "    </tr>\n",
       "    <tr>\n",
       "      <th>4</th>\n",
       "      <td>6YLROQT27B6HRF4E</td>\n",
       "      <td>2015-07-28</td>\n",
       "      <td>48EQXS6IHYNZDDZ5</td>\n",
       "      <td>LJKS5NK6788CYMUU</td>\n",
       "      <td>2015-07-27 14:00:00+02:00</td>\n",
       "      <td>['Addie Patino' 'Susan Guerrero']</td>\n",
       "      <td>990.0</td>\n",
       "      <td>Lunch</td>\n",
       "      <td>False</td>\n",
       "      <td>980100.0</td>\n",
       "    </tr>\n",
       "  </tbody>\n",
       "</table>\n",
       "</div>"
      ],
      "text/plain": [
       "           Order Id       Date  ... Heroes Adjustment Meal_squared_function\n",
       "0  839FKFW2LLX4LMBB 2016-05-27  ...             False              591361.0\n",
       "1  97OX39BGVMHODLJM 2018-09-27  ...             False              103684.0\n",
       "2  041ORQM5OIHTIU6L 2014-08-24  ...             False              376996.0\n",
       "3  YT796QI18WNGZ7ZJ 2014-04-12  ...             False              544644.0\n",
       "4  6YLROQT27B6HRF4E 2015-07-28  ...             False              980100.0\n",
       "\n",
       "[5 rows x 10 columns]"
      ]
     },
     "execution_count": 121,
     "metadata": {
      "tags": []
     },
     "output_type": "execute_result"
    }
   ],
   "source": [
    "df.head()"
   ]
  },
  {
   "cell_type": "code",
   "execution_count": null,
   "metadata": {
    "id": "FL0mRO51YZeS"
   },
   "outputs": [],
   "source": [
    "Meal_squared_func tion \n",
    "insert a value 'A String Value' into 6000th index"
   ]
  },
  {
   "cell_type": "code",
   "execution_count": 127,
   "metadata": {
    "id": "vQyysCXWYchF"
   },
   "outputs": [],
   "source": [
    "df.loc[60000,'Meal_squared_function'] = 'A string Value'"
   ]
  },
  {
   "cell_type": "code",
   "execution_count": 128,
   "metadata": {
    "colab": {
     "base_uri": "https://localhost:8080/",
     "height": 340
    },
    "id": "J9nRqDMoYcjn",
    "outputId": "12c05e9a-2982-4526-efb7-dbbaa877f967"
   },
   "outputs": [
    {
     "data": {
      "text/html": [
       "<div>\n",
       "<style scoped>\n",
       "    .dataframe tbody tr th:only-of-type {\n",
       "        vertical-align: middle;\n",
       "    }\n",
       "\n",
       "    .dataframe tbody tr th {\n",
       "        vertical-align: top;\n",
       "    }\n",
       "\n",
       "    .dataframe thead th {\n",
       "        text-align: right;\n",
       "    }\n",
       "</style>\n",
       "<table border=\"1\" class=\"dataframe\">\n",
       "  <thead>\n",
       "    <tr style=\"text-align: right;\">\n",
       "      <th></th>\n",
       "      <th>Order Id</th>\n",
       "      <th>Date</th>\n",
       "      <th>Meal Id</th>\n",
       "      <th>Company Id</th>\n",
       "      <th>Date of Meal</th>\n",
       "      <th>Participants</th>\n",
       "      <th>Meal Price</th>\n",
       "      <th>Type of Meal</th>\n",
       "      <th>Heroes Adjustment</th>\n",
       "      <th>Meal_squared_function</th>\n",
       "      <th>Meal Squared</th>\n",
       "    </tr>\n",
       "  </thead>\n",
       "  <tbody>\n",
       "    <tr>\n",
       "      <th>14358</th>\n",
       "      <td>RFK2C21CD7IAOUZT</td>\n",
       "      <td>2016-06-30</td>\n",
       "      <td>EGQRRRN5D1Y97WGD</td>\n",
       "      <td>I27J9NPYES4BIXBR</td>\n",
       "      <td>2016-06-26 20:00:00+02:00</td>\n",
       "      <td>['Kenisha Ordonez']</td>\n",
       "      <td>349.0</td>\n",
       "      <td>Dinner</td>\n",
       "      <td>False</td>\n",
       "      <td>121801</td>\n",
       "      <td>NaN</td>\n",
       "    </tr>\n",
       "    <tr>\n",
       "      <th>14359</th>\n",
       "      <td>2UMDU938DTE7D808</td>\n",
       "      <td>2016-04-10</td>\n",
       "      <td>AV323CBF7N78MCYD</td>\n",
       "      <td>I27J9NPYES4BIXBR</td>\n",
       "      <td>2016-04-10 07:00:00+02:00</td>\n",
       "      <td>['Douglas Villanueva']</td>\n",
       "      <td>381.0</td>\n",
       "      <td>Breakfast</td>\n",
       "      <td>False</td>\n",
       "      <td>145161</td>\n",
       "      <td>NaN</td>\n",
       "    </tr>\n",
       "    <tr>\n",
       "      <th>14360</th>\n",
       "      <td>NEER4D5TN6GQV9WA</td>\n",
       "      <td>2015-07-19</td>\n",
       "      <td>RDLHP30JLO9RYWDR</td>\n",
       "      <td>I27J9NPYES4BIXBR</td>\n",
       "      <td>2015-07-21 09:00:00+02:00</td>\n",
       "      <td>['Douglas Villanueva' 'Kenisha Ordonez']</td>\n",
       "      <td>510.0</td>\n",
       "      <td>Breakfast</td>\n",
       "      <td>False</td>\n",
       "      <td>260100</td>\n",
       "      <td>NaN</td>\n",
       "    </tr>\n",
       "    <tr>\n",
       "      <th>14361</th>\n",
       "      <td>2NF38UES2LW6TR2A</td>\n",
       "      <td>2017-02-24</td>\n",
       "      <td>MOEZTCDKASD8Z0UP</td>\n",
       "      <td>I</td>\n",
       "      <td>NaN</td>\n",
       "      <td>NaN</td>\n",
       "      <td>NaN</td>\n",
       "      <td>NaN</td>\n",
       "      <td>NaN</td>\n",
       "      <td>NaN</td>\n",
       "      <td>NaN</td>\n",
       "    </tr>\n",
       "    <tr>\n",
       "      <th>60000</th>\n",
       "      <td>NaN</td>\n",
       "      <td>NaT</td>\n",
       "      <td>NaN</td>\n",
       "      <td>NaN</td>\n",
       "      <td>NaN</td>\n",
       "      <td>NaN</td>\n",
       "      <td>NaN</td>\n",
       "      <td>NaN</td>\n",
       "      <td>NaN</td>\n",
       "      <td>A string Value</td>\n",
       "      <td>A string Value</td>\n",
       "    </tr>\n",
       "  </tbody>\n",
       "</table>\n",
       "</div>"
      ],
      "text/plain": [
       "               Order Id       Date  ... Meal_squared_function    Meal Squared\n",
       "14358  RFK2C21CD7IAOUZT 2016-06-30  ...                121801             NaN\n",
       "14359  2UMDU938DTE7D808 2016-04-10  ...                145161             NaN\n",
       "14360  NEER4D5TN6GQV9WA 2015-07-19  ...                260100             NaN\n",
       "14361  2NF38UES2LW6TR2A 2017-02-24  ...                   NaN             NaN\n",
       "60000               NaN        NaT  ...        A string Value  A string Value\n",
       "\n",
       "[5 rows x 11 columns]"
      ]
     },
     "execution_count": 128,
     "metadata": {
      "tags": []
     },
     "output_type": "execute_result"
    }
   ],
   "source": [
    "df.tail()"
   ]
  },
  {
   "cell_type": "code",
   "execution_count": null,
   "metadata": {
    "id": "QTc7jHE3bo1M"
   },
   "outputs": [],
   "source": [
    "df['Col_name | Col_criteria']['Row_index_label | Row_criteria']"
   ]
  },
  {
   "cell_type": "code",
   "execution_count": 129,
   "metadata": {
    "colab": {
     "base_uri": "https://localhost:8080/"
    },
    "id": "NS1_mSTla4rM",
    "outputId": "ad8d60fe-03d2-4598-d976-122cd7f78bc8"
   },
   "outputs": [
    {
     "data": {
      "text/plain": [
       "Int64Index([60000], dtype='int64')"
      ]
     },
     "execution_count": 129,
     "metadata": {
      "tags": []
     },
     "output_type": "execute_result"
    }
   ],
   "source": [
    "df['Meal_squared_function'][df['Meal_squared_function'].apply(lambda x: isinstance(x,str))].index"
   ]
  },
  {
   "cell_type": "code",
   "execution_count": null,
   "metadata": {
    "id": "wa1EHWQpYcnC"
   },
   "outputs": [],
   "source": [
    "1. Dropping null values \n",
    "2. Replace the null values"
   ]
  },
  {
   "cell_type": "code",
   "execution_count": 133,
   "metadata": {
    "id": "Q_wQA8Tsb1gG"
   },
   "outputs": [],
   "source": [
    "#Arithmetic Mean = Average  = Sum(All the values)/total \n",
    "df['Meal Price'] = df['Meal Price'].fillna(df['Meal Price'].mean())\n",
    "df['Meal Price'] = df['Meal Price'].replace(0,df['Meal Price'].mean())"
   ]
  },
  {
   "cell_type": "code",
   "execution_count": 132,
   "metadata": {
    "colab": {
     "base_uri": "https://localhost:8080/"
    },
    "id": "ww9at0EUb1i9",
    "outputId": "9e5cba4b-574b-42ce-eaa3-9c8871c2567d"
   },
   "outputs": [
    {
     "data": {
      "text/plain": [
       "14358    349.000000\n",
       "14359    381.000000\n",
       "14360    510.000000\n",
       "14361    703.973404\n",
       "60000    703.973404\n",
       "Name: Meal Price, dtype: float64"
      ]
     },
     "execution_count": 132,
     "metadata": {
      "tags": []
     },
     "output_type": "execute_result"
    }
   ],
   "source": [
    "df['Meal Price'].tail()"
   ]
  },
  {
   "cell_type": "code",
   "execution_count": 134,
   "metadata": {
    "id": "0KPvRYjGb1mK"
   },
   "outputs": [],
   "source": [
    "df['Meal Squared'] = df['Meal Squared'].fillna(df['Meal Price'].mean())"
   ]
  },
  {
   "cell_type": "code",
   "execution_count": 135,
   "metadata": {
    "colab": {
     "base_uri": "https://localhost:8080/"
    },
    "id": "gjyUIiL7YbWp",
    "outputId": "f3a2c880-09a8-4eea-bc18-5039fc3a09d1"
   },
   "outputs": [
    {
     "data": {
      "text/plain": [
       "0               704.071\n",
       "1               704.071\n",
       "2               704.071\n",
       "3               704.071\n",
       "4               704.071\n",
       "              ...      \n",
       "14358           704.071\n",
       "14359           704.071\n",
       "14360           704.071\n",
       "14361           704.071\n",
       "60000    A string Value\n",
       "Name: Meal Squared, Length: 14363, dtype: object"
      ]
     },
     "execution_count": 135,
     "metadata": {
      "tags": []
     },
     "output_type": "execute_result"
    }
   ],
   "source": [
    "df['Meal Squared']"
   ]
  },
  {
   "cell_type": "code",
   "execution_count": null,
   "metadata": {
    "id": "H2tKJhGcdji2"
   },
   "outputs": [],
   "source": [
    "#Default Functions for Pandas\n",
    "df['Meal Squared'].apply()\n",
    "df['Meal Price'].fillna()\n",
    "df['Meal Price'].replace()\n",
    "\n",
    "#Custom Function \n",
    "def cube(x):\n",
    "  return x*x*x\n",
    "\n",
    "df['Meal Price'].apply(lambda x: x*x*x)"
   ]
  },
  {
   "cell_type": "code",
   "execution_count": 137,
   "metadata": {
    "colab": {
     "base_uri": "https://localhost:8080/"
    },
    "id": "02cEOZH3eZKe",
    "outputId": "79b28ba9-acec-451b-a70a-fa20b9872f05"
   },
   "outputs": [
    {
     "data": {
      "text/plain": [
       "0        591361.000000\n",
       "1        103684.000000\n",
       "2        376996.000000\n",
       "3        544644.000000\n",
       "4        980100.000000\n",
       "             ...      \n",
       "14358    121801.000000\n",
       "14359    145161.000000\n",
       "14360    260100.000000\n",
       "14361    495578.553377\n",
       "60000    495578.553377\n",
       "Name: Meal Price, Length: 14363, dtype: float64"
      ]
     },
     "execution_count": 137,
     "metadata": {
      "tags": []
     },
     "output_type": "execute_result"
    }
   ],
   "source": [
    "df['Meal Price'].map(lambda x:x*x)"
   ]
  },
  {
   "cell_type": "code",
   "execution_count": 139,
   "metadata": {
    "colab": {
     "base_uri": "https://localhost:8080/",
     "height": 306
    },
    "id": "3gNjiuLYe5s9",
    "outputId": "d59add49-46d8-49e2-ee7d-fc1d562992e9"
   },
   "outputs": [
    {
     "data": {
      "text/html": [
       "<div>\n",
       "<style scoped>\n",
       "    .dataframe tbody tr th:only-of-type {\n",
       "        vertical-align: middle;\n",
       "    }\n",
       "\n",
       "    .dataframe tbody tr th {\n",
       "        vertical-align: top;\n",
       "    }\n",
       "\n",
       "    .dataframe thead th {\n",
       "        text-align: right;\n",
       "    }\n",
       "</style>\n",
       "<table border=\"1\" class=\"dataframe\">\n",
       "  <thead>\n",
       "    <tr style=\"text-align: right;\">\n",
       "      <th></th>\n",
       "      <th>Order Id</th>\n",
       "      <th>Date</th>\n",
       "      <th>Meal Id</th>\n",
       "      <th>Company Id</th>\n",
       "      <th>Date of Meal</th>\n",
       "      <th>Participants</th>\n",
       "      <th>Meal Price</th>\n",
       "      <th>Type of Meal</th>\n",
       "      <th>Heroes Adjustment</th>\n",
       "      <th>Meal_squared_function</th>\n",
       "      <th>Meal Squared</th>\n",
       "    </tr>\n",
       "  </thead>\n",
       "  <tbody>\n",
       "    <tr>\n",
       "      <th>0</th>\n",
       "      <td>839FKFW2LLX4LMBB</td>\n",
       "      <td>2016-05-27</td>\n",
       "      <td>INBUX904GIHI8YBD</td>\n",
       "      <td>LJKS5NK6788CYMUU</td>\n",
       "      <td>2016-05-31 07:00:00+02:00</td>\n",
       "      <td>['David Bishop']</td>\n",
       "      <td>769.0</td>\n",
       "      <td>Breakfast</td>\n",
       "      <td>False</td>\n",
       "      <td>591361</td>\n",
       "      <td>704.071</td>\n",
       "    </tr>\n",
       "    <tr>\n",
       "      <th>1</th>\n",
       "      <td>97OX39BGVMHODLJM</td>\n",
       "      <td>2018-09-27</td>\n",
       "      <td>J0MMOOPP709DIDIE</td>\n",
       "      <td>LJKS5NK6788CYMUU</td>\n",
       "      <td>2018-10-01 20:00:00+02:00</td>\n",
       "      <td>['David Bishop']</td>\n",
       "      <td>322.0</td>\n",
       "      <td>Dinner</td>\n",
       "      <td>False</td>\n",
       "      <td>103684</td>\n",
       "      <td>704.071</td>\n",
       "    </tr>\n",
       "    <tr>\n",
       "      <th>2</th>\n",
       "      <td>041ORQM5OIHTIU6L</td>\n",
       "      <td>2014-08-24</td>\n",
       "      <td>E4UJLQNCI16UX5CS</td>\n",
       "      <td>LJKS5NK6788CYMUU</td>\n",
       "      <td>2014-08-23 14:00:00+02:00</td>\n",
       "      <td>['Karen Stansell']</td>\n",
       "      <td>614.0</td>\n",
       "      <td>Lunch</td>\n",
       "      <td>False</td>\n",
       "      <td>376996</td>\n",
       "      <td>704.071</td>\n",
       "    </tr>\n",
       "    <tr>\n",
       "      <th>3</th>\n",
       "      <td>YT796QI18WNGZ7ZJ</td>\n",
       "      <td>2014-04-12</td>\n",
       "      <td>C9SDFHF7553BE247</td>\n",
       "      <td>LJKS5NK6788CYMUU</td>\n",
       "      <td>2014-04-07 21:00:00+02:00</td>\n",
       "      <td>['Addie Patino']</td>\n",
       "      <td>738.0</td>\n",
       "      <td>Dinner</td>\n",
       "      <td>False</td>\n",
       "      <td>544644</td>\n",
       "      <td>704.071</td>\n",
       "    </tr>\n",
       "    <tr>\n",
       "      <th>4</th>\n",
       "      <td>6YLROQT27B6HRF4E</td>\n",
       "      <td>2015-07-28</td>\n",
       "      <td>48EQXS6IHYNZDDZ5</td>\n",
       "      <td>LJKS5NK6788CYMUU</td>\n",
       "      <td>2015-07-27 14:00:00+02:00</td>\n",
       "      <td>['Addie Patino' 'Susan Guerrero']</td>\n",
       "      <td>990.0</td>\n",
       "      <td>Lunch</td>\n",
       "      <td>False</td>\n",
       "      <td>980100</td>\n",
       "      <td>704.071</td>\n",
       "    </tr>\n",
       "  </tbody>\n",
       "</table>\n",
       "</div>"
      ],
      "text/plain": [
       "           Order Id       Date  ... Meal_squared_function Meal Squared\n",
       "0  839FKFW2LLX4LMBB 2016-05-27  ...                591361      704.071\n",
       "1  97OX39BGVMHODLJM 2018-09-27  ...                103684      704.071\n",
       "2  041ORQM5OIHTIU6L 2014-08-24  ...                376996      704.071\n",
       "3  YT796QI18WNGZ7ZJ 2014-04-12  ...                544644      704.071\n",
       "4  6YLROQT27B6HRF4E 2015-07-28  ...                980100      704.071\n",
       "\n",
       "[5 rows x 11 columns]"
      ]
     },
     "execution_count": 139,
     "metadata": {
      "tags": []
     },
     "output_type": "execute_result"
    }
   ],
   "source": [
    "df.head()"
   ]
  },
  {
   "cell_type": "code",
   "execution_count": 138,
   "metadata": {
    "id": "4vjovyhNeZWN"
   },
   "outputs": [],
   "source": [
    "#Adding rows or Combining DataFrames"
   ]
  },
  {
   "cell_type": "code",
   "execution_count": 140,
   "metadata": {
    "id": "s3evKpSDevoC"
   },
   "outputs": [],
   "source": [
    "new_rows = {'Order Id': ['97OX39BGVMHODL23223','97OX39BGVMHODL323123'],\n",
    "            'Date':['2014-08-24','2014-08-24'],\n",
    "            'Meal Id':['J0MMOOPP709DIDI23','J0MMOOPP709DIDIE23']}"
   ]
  },
  {
   "cell_type": "code",
   "execution_count": 141,
   "metadata": {
    "id": "UsMmYwOIevry"
   },
   "outputs": [],
   "source": [
    "df = df.append(new_rows,ignore_index=True) #adds row by row"
   ]
  },
  {
   "cell_type": "code",
   "execution_count": 143,
   "metadata": {
    "id": "uGI7M-veevzT"
   },
   "outputs": [],
   "source": [
    "df_rows = pd.DataFrame(new_rows)"
   ]
  },
  {
   "cell_type": "code",
   "execution_count": 144,
   "metadata": {
    "colab": {
     "base_uri": "https://localhost:8080/",
     "height": 111
    },
    "id": "2R_5Aoy_eZbC",
    "outputId": "a8a41c80-f981-4b43-db62-d265ca68c306"
   },
   "outputs": [
    {
     "data": {
      "text/html": [
       "<div>\n",
       "<style scoped>\n",
       "    .dataframe tbody tr th:only-of-type {\n",
       "        vertical-align: middle;\n",
       "    }\n",
       "\n",
       "    .dataframe tbody tr th {\n",
       "        vertical-align: top;\n",
       "    }\n",
       "\n",
       "    .dataframe thead th {\n",
       "        text-align: right;\n",
       "    }\n",
       "</style>\n",
       "<table border=\"1\" class=\"dataframe\">\n",
       "  <thead>\n",
       "    <tr style=\"text-align: right;\">\n",
       "      <th></th>\n",
       "      <th>Order Id</th>\n",
       "      <th>Date</th>\n",
       "      <th>Meal Id</th>\n",
       "    </tr>\n",
       "  </thead>\n",
       "  <tbody>\n",
       "    <tr>\n",
       "      <th>0</th>\n",
       "      <td>97OX39BGVMHODL23223</td>\n",
       "      <td>2014-08-24</td>\n",
       "      <td>J0MMOOPP709DIDI23</td>\n",
       "    </tr>\n",
       "    <tr>\n",
       "      <th>1</th>\n",
       "      <td>97OX39BGVMHODL323123</td>\n",
       "      <td>2014-08-24</td>\n",
       "      <td>J0MMOOPP709DIDIE23</td>\n",
       "    </tr>\n",
       "  </tbody>\n",
       "</table>\n",
       "</div>"
      ],
      "text/plain": [
       "               Order Id        Date             Meal Id\n",
       "0   97OX39BGVMHODL23223  2014-08-24   J0MMOOPP709DIDI23\n",
       "1  97OX39BGVMHODL323123  2014-08-24  J0MMOOPP709DIDIE23"
      ]
     },
     "execution_count": 144,
     "metadata": {
      "tags": []
     },
     "output_type": "execute_result"
    }
   ],
   "source": [
    "df_rows.head()"
   ]
  },
  {
   "cell_type": "code",
   "execution_count": 145,
   "metadata": {
    "id": "z9DGACPjfoBG"
   },
   "outputs": [],
   "source": [
    "df_new = pd.concat([df,df_rows],ignore_index = True)"
   ]
  },
  {
   "cell_type": "code",
   "execution_count": 146,
   "metadata": {
    "colab": {
     "base_uri": "https://localhost:8080/",
     "height": 306
    },
    "id": "KrH-5157fvtc",
    "outputId": "1f94aee8-69a3-4564-920b-84e5ad565520"
   },
   "outputs": [
    {
     "data": {
      "text/html": [
       "<div>\n",
       "<style scoped>\n",
       "    .dataframe tbody tr th:only-of-type {\n",
       "        vertical-align: middle;\n",
       "    }\n",
       "\n",
       "    .dataframe tbody tr th {\n",
       "        vertical-align: top;\n",
       "    }\n",
       "\n",
       "    .dataframe thead th {\n",
       "        text-align: right;\n",
       "    }\n",
       "</style>\n",
       "<table border=\"1\" class=\"dataframe\">\n",
       "  <thead>\n",
       "    <tr style=\"text-align: right;\">\n",
       "      <th></th>\n",
       "      <th>Order Id</th>\n",
       "      <th>Date</th>\n",
       "      <th>Meal Id</th>\n",
       "      <th>Company Id</th>\n",
       "      <th>Date of Meal</th>\n",
       "      <th>Participants</th>\n",
       "      <th>Meal Price</th>\n",
       "      <th>Type of Meal</th>\n",
       "      <th>Heroes Adjustment</th>\n",
       "      <th>Meal_squared_function</th>\n",
       "      <th>Meal Squared</th>\n",
       "    </tr>\n",
       "  </thead>\n",
       "  <tbody>\n",
       "    <tr>\n",
       "      <th>14361</th>\n",
       "      <td>2NF38UES2LW6TR2A</td>\n",
       "      <td>2017-02-24 00:00:00</td>\n",
       "      <td>MOEZTCDKASD8Z0UP</td>\n",
       "      <td>I</td>\n",
       "      <td>NaN</td>\n",
       "      <td>NaN</td>\n",
       "      <td>703.973404</td>\n",
       "      <td>NaN</td>\n",
       "      <td>NaN</td>\n",
       "      <td>NaN</td>\n",
       "      <td>704.071</td>\n",
       "    </tr>\n",
       "    <tr>\n",
       "      <th>14362</th>\n",
       "      <td>NaN</td>\n",
       "      <td>NaT</td>\n",
       "      <td>NaN</td>\n",
       "      <td>NaN</td>\n",
       "      <td>NaN</td>\n",
       "      <td>NaN</td>\n",
       "      <td>703.973404</td>\n",
       "      <td>NaN</td>\n",
       "      <td>NaN</td>\n",
       "      <td>A string Value</td>\n",
       "      <td>A string Value</td>\n",
       "    </tr>\n",
       "    <tr>\n",
       "      <th>14363</th>\n",
       "      <td>[97OX39BGVMHODL23223, 97OX39BGVMHODL323123]</td>\n",
       "      <td>[2014-08-24, 2014-08-24]</td>\n",
       "      <td>[J0MMOOPP709DIDI23, J0MMOOPP709DIDIE23]</td>\n",
       "      <td>NaN</td>\n",
       "      <td>NaN</td>\n",
       "      <td>NaN</td>\n",
       "      <td>NaN</td>\n",
       "      <td>NaN</td>\n",
       "      <td>NaN</td>\n",
       "      <td>NaN</td>\n",
       "      <td>NaN</td>\n",
       "    </tr>\n",
       "    <tr>\n",
       "      <th>14364</th>\n",
       "      <td>97OX39BGVMHODL23223</td>\n",
       "      <td>2014-08-24</td>\n",
       "      <td>J0MMOOPP709DIDI23</td>\n",
       "      <td>NaN</td>\n",
       "      <td>NaN</td>\n",
       "      <td>NaN</td>\n",
       "      <td>NaN</td>\n",
       "      <td>NaN</td>\n",
       "      <td>NaN</td>\n",
       "      <td>NaN</td>\n",
       "      <td>NaN</td>\n",
       "    </tr>\n",
       "    <tr>\n",
       "      <th>14365</th>\n",
       "      <td>97OX39BGVMHODL323123</td>\n",
       "      <td>2014-08-24</td>\n",
       "      <td>J0MMOOPP709DIDIE23</td>\n",
       "      <td>NaN</td>\n",
       "      <td>NaN</td>\n",
       "      <td>NaN</td>\n",
       "      <td>NaN</td>\n",
       "      <td>NaN</td>\n",
       "      <td>NaN</td>\n",
       "      <td>NaN</td>\n",
       "      <td>NaN</td>\n",
       "    </tr>\n",
       "  </tbody>\n",
       "</table>\n",
       "</div>"
      ],
      "text/plain": [
       "                                          Order Id  ...    Meal Squared\n",
       "14361                             2NF38UES2LW6TR2A  ...         704.071\n",
       "14362                                          NaN  ...  A string Value\n",
       "14363  [97OX39BGVMHODL23223, 97OX39BGVMHODL323123]  ...             NaN\n",
       "14364                          97OX39BGVMHODL23223  ...             NaN\n",
       "14365                         97OX39BGVMHODL323123  ...             NaN\n",
       "\n",
       "[5 rows x 11 columns]"
      ]
     },
     "execution_count": 146,
     "metadata": {
      "tags": []
     },
     "output_type": "execute_result"
    }
   ],
   "source": [
    "df_new.tail()"
   ]
  },
  {
   "cell_type": "code",
   "execution_count": 147,
   "metadata": {
    "id": "7xdmRp0Ifw9k"
   },
   "outputs": [],
   "source": [
    "df_new_withoutignore = pd.concat([df,df_rows])"
   ]
  },
  {
   "cell_type": "code",
   "execution_count": 157,
   "metadata": {
    "colab": {
     "base_uri": "https://localhost:8080/"
    },
    "id": "eOzwJr24f6S9",
    "outputId": "3c0dde2b-1927-4e5b-82b9-da5194ff4896"
   },
   "outputs": [
    {
     "data": {
      "text/plain": [
       "0       839FKFW2LLX4LMBB\n",
       "0    97OX39BGVMHODL23223\n",
       "Name: Order Id, dtype: object"
      ]
     },
     "execution_count": 157,
     "metadata": {
      "tags": []
     },
     "output_type": "execute_result"
    }
   ],
   "source": [
    "df_new_withoutignore['Order Id'][0]"
   ]
  },
  {
   "cell_type": "code",
   "execution_count": 168,
   "metadata": {
    "id": "9WVoEPcMf6WA"
   },
   "outputs": [],
   "source": [
    "df_new_copy = df.copy()"
   ]
  },
  {
   "cell_type": "code",
   "execution_count": 169,
   "metadata": {
    "colab": {
     "base_uri": "https://localhost:8080/",
     "height": 306
    },
    "id": "asq-4Zf6hltK",
    "outputId": "8c34f4ec-35b6-43ab-fe84-f2696f138d3f"
   },
   "outputs": [
    {
     "data": {
      "text/html": [
       "<div>\n",
       "<style scoped>\n",
       "    .dataframe tbody tr th:only-of-type {\n",
       "        vertical-align: middle;\n",
       "    }\n",
       "\n",
       "    .dataframe tbody tr th {\n",
       "        vertical-align: top;\n",
       "    }\n",
       "\n",
       "    .dataframe thead th {\n",
       "        text-align: right;\n",
       "    }\n",
       "</style>\n",
       "<table border=\"1\" class=\"dataframe\">\n",
       "  <thead>\n",
       "    <tr style=\"text-align: right;\">\n",
       "      <th></th>\n",
       "      <th>Order Id</th>\n",
       "      <th>Date</th>\n",
       "      <th>Meal Id</th>\n",
       "      <th>Company Id</th>\n",
       "      <th>Date of Meal</th>\n",
       "      <th>Participants</th>\n",
       "      <th>Meal Price</th>\n",
       "      <th>Type of Meal</th>\n",
       "      <th>Heroes Adjustment</th>\n",
       "    </tr>\n",
       "  </thead>\n",
       "  <tbody>\n",
       "    <tr>\n",
       "      <th>0</th>\n",
       "      <td>839FKFW2LLX4LMBB</td>\n",
       "      <td>2016-05-27</td>\n",
       "      <td>INBUX904GIHI8YBD</td>\n",
       "      <td>LJKS5NK6788CYMUU</td>\n",
       "      <td>2016-05-31 07:00:00+02:00</td>\n",
       "      <td>['David Bishop']</td>\n",
       "      <td>469.0</td>\n",
       "      <td>Breakfast</td>\n",
       "      <td>False</td>\n",
       "    </tr>\n",
       "    <tr>\n",
       "      <th>1</th>\n",
       "      <td>97OX39BGVMHODLJM</td>\n",
       "      <td>2018-09-27</td>\n",
       "      <td>J0MMOOPP709DIDIE</td>\n",
       "      <td>LJKS5NK6788CYMUU</td>\n",
       "      <td>2018-10-01 20:00:00+02:00</td>\n",
       "      <td>['David Bishop']</td>\n",
       "      <td>22.0</td>\n",
       "      <td>Dinner</td>\n",
       "      <td>False</td>\n",
       "    </tr>\n",
       "    <tr>\n",
       "      <th>2</th>\n",
       "      <td>041ORQM5OIHTIU6L</td>\n",
       "      <td>2014-08-24</td>\n",
       "      <td>E4UJLQNCI16UX5CS</td>\n",
       "      <td>LJKS5NK6788CYMUU</td>\n",
       "      <td>2014-08-23 14:00:00+02:00</td>\n",
       "      <td>['Karen Stansell']</td>\n",
       "      <td>314.0</td>\n",
       "      <td>Lunch</td>\n",
       "      <td>False</td>\n",
       "    </tr>\n",
       "    <tr>\n",
       "      <th>3</th>\n",
       "      <td>YT796QI18WNGZ7ZJ</td>\n",
       "      <td>2014-04-12</td>\n",
       "      <td>C9SDFHF7553BE247</td>\n",
       "      <td>LJKS5NK6788CYMUU</td>\n",
       "      <td>2014-04-07 21:00:00+02:00</td>\n",
       "      <td>['Addie Patino']</td>\n",
       "      <td>438.0</td>\n",
       "      <td>Dinner</td>\n",
       "      <td>False</td>\n",
       "    </tr>\n",
       "    <tr>\n",
       "      <th>4</th>\n",
       "      <td>6YLROQT27B6HRF4E</td>\n",
       "      <td>2015-07-28</td>\n",
       "      <td>48EQXS6IHYNZDDZ5</td>\n",
       "      <td>LJKS5NK6788CYMUU</td>\n",
       "      <td>2015-07-27 14:00:00+02:00</td>\n",
       "      <td>['Addie Patino' 'Susan Guerrero']</td>\n",
       "      <td>690.0</td>\n",
       "      <td>Lunch</td>\n",
       "      <td>False</td>\n",
       "    </tr>\n",
       "  </tbody>\n",
       "</table>\n",
       "</div>"
      ],
      "text/plain": [
       "           Order Id        Date  ... Type of Meal Heroes Adjustment\n",
       "0  839FKFW2LLX4LMBB  2016-05-27  ...    Breakfast             False\n",
       "1  97OX39BGVMHODLJM  2018-09-27  ...       Dinner             False\n",
       "2  041ORQM5OIHTIU6L  2014-08-24  ...        Lunch             False\n",
       "3  YT796QI18WNGZ7ZJ  2014-04-12  ...       Dinner             False\n",
       "4  6YLROQT27B6HRF4E  2015-07-28  ...        Lunch             False\n",
       "\n",
       "[5 rows x 9 columns]"
      ]
     },
     "execution_count": 169,
     "metadata": {
      "tags": []
     },
     "output_type": "execute_result"
    }
   ],
   "source": [
    "df_new_copy.head()"
   ]
  },
  {
   "cell_type": "code",
   "execution_count": 179,
   "metadata": {
    "id": "bawXobVLgziF"
   },
   "outputs": [],
   "source": [
    "df_new_dups = pd.concat([df_new_copy,df])"
   ]
  },
  {
   "cell_type": "code",
   "execution_count": 180,
   "metadata": {
    "colab": {
     "base_uri": "https://localhost:8080/"
    },
    "id": "JFCiScr4gzlQ",
    "outputId": "bcb55813-fb54-492a-99cb-6719d5749b0d"
   },
   "outputs": [
    {
     "data": {
      "text/plain": [
       "(28724, 9)"
      ]
     },
     "execution_count": 180,
     "metadata": {
      "tags": []
     },
     "output_type": "execute_result"
    }
   ],
   "source": [
    "df_new_dups.shape"
   ]
  },
  {
   "cell_type": "code",
   "execution_count": 177,
   "metadata": {
    "id": "M13VF6n2gzpk"
   },
   "outputs": [],
   "source": [
    "df_new_dups.drop_duplicates(subset=['Order Id','Date'],inplace = True,keep = 'last')"
   ]
  },
  {
   "cell_type": "code",
   "execution_count": 182,
   "metadata": {
    "colab": {
     "base_uri": "https://localhost:8080/"
    },
    "id": "fkcyqD_Xf6YX",
    "outputId": "b2399b48-2678-410b-f9f8-94a049692257"
   },
   "outputs": [
    {
     "data": {
      "text/plain": [
       "14362"
      ]
     },
     "execution_count": 182,
     "metadata": {
      "tags": []
     },
     "output_type": "execute_result"
    }
   ],
   "source": [
    "df_new_dups.duplicated().sum()"
   ]
  },
  {
   "cell_type": "code",
   "execution_count": 186,
   "metadata": {
    "id": "eYhcYQFHjCMw"
   },
   "outputs": [],
   "source": [
    "df.loc[60000,\"Meal Price\"] = \"A new string\""
   ]
  },
  {
   "cell_type": "code",
   "execution_count": 187,
   "metadata": {
    "colab": {
     "base_uri": "https://localhost:8080/"
    },
    "id": "oFfSvHuEh9aI",
    "outputId": "1c580d32-6187-4e0f-a57c-e825c6a9a97b"
   },
   "outputs": [
    {
     "data": {
      "text/plain": [
       "<class 'float'>    14362\n",
       "<class 'str'>          1\n",
       "Name: Meal Price, dtype: int64"
      ]
     },
     "execution_count": 187,
     "metadata": {
      "tags": []
     },
     "output_type": "execute_result"
    }
   ],
   "source": [
    "df['Meal Price'].apply(lambda x: type(x)).value_counts()"
   ]
  },
  {
   "cell_type": "code",
   "execution_count": 190,
   "metadata": {
    "colab": {
     "base_uri": "https://localhost:8080/"
    },
    "id": "AKQ4-XZGhseF",
    "outputId": "ec268da5-dc1f-4ce9-fa9d-cb6fb0c9ed30"
   },
   "outputs": [
    {
     "data": {
      "text/plain": [
       "Int64Index([60000], dtype='int64')"
      ]
     },
     "execution_count": 190,
     "metadata": {
      "tags": []
     },
     "output_type": "execute_result"
    }
   ],
   "source": [
    "df['Meal Price'][df['Meal Price'].apply(lambda x: isinstance(x,str))].index"
   ]
  },
  {
   "cell_type": "code",
   "execution_count": null,
   "metadata": {
    "id": "O_IShCDojhvk"
   },
   "outputs": [],
   "source": [
    "#Name\n",
    "#?Name\n",
    "df.fillna(0)"
   ]
  },
  {
   "cell_type": "code",
   "execution_count": null,
   "metadata": {
    "id": "sE3NPOU0ky0s"
   },
   "outputs": [],
   "source": [
    "#Merge"
   ]
  },
  {
   "cell_type": "code",
   "execution_count": 191,
   "metadata": {
    "id": "F23dqP4Kjh2Y"
   },
   "outputs": [],
   "source": [
    "order_data = pd.read_csv(\"https://raw.githubusercontent.com/Laxminarayen/Inceptez_batch_16/main/order_leads.csv\")"
   ]
  },
  {
   "cell_type": "code",
   "execution_count": 192,
   "metadata": {
    "id": "Tzyi4ZsGjh4p"
   },
   "outputs": [],
   "source": [
    "sales_data = pd.read_csv(\"https://raw.githubusercontent.com/Laxminarayen/Inceptez_batch_16/main/sales_team.csv\")"
   ]
  },
  {
   "cell_type": "markdown",
   "metadata": {
    "id": "9ZlkH3m2kqik"
   },
   "source": [
    "![Joins-in-SQL-Inner-Outer-Left-and-Right-Join.jpeg](data:image/jpeg;base64,/9j/4AAQSkZJRgABAQEAYABgAAD/4RDSRXhpZgAATU0AKgAAAAgABAE7AAIAAAAEVENQAIdpAAQAAAABAAAISpydAAEAAAAIAAAQwuocAAcAAAgMAAAAPgAAAAAc6gAAAAgAAAAAAAAAAAAAAAAAAAAAAAAAAAAAAAAAAAAAAAAAAAAAAAAAAAAAAAAAAAAAAAAAAAAAAAAAAAAAAAAAAAAAAAAAAAAAAAAAAAAAAAAAAAAAAAAAAAAAAAAAAAAAAAAAAAAAAAAAAAAAAAAAAAAAAAAAAAAAAAAAAAAAAAAAAAAAAAAAAAAAAAAAAAAAAAAAAAAAAAAAAAAAAAAAAAAAAAAAAAAAAAAAAAAAAAAAAAAAAAAAAAAAAAAAAAAAAAAAAAAAAAAAAAAAAAAAAAAAAAAAAAAAAAAAAAAAAAAAAAAAAAAAAAAAAAAAAAAAAAAAAAAAAAAAAAAAAAAAAAAAAAAAAAAAAAAAAAAAAAAAAAAAAAAAAAAAAAAAAAAAAAAAAAAAAAAAAAAAAAAAAAAAAAAAAAAAAAAAAAAAAAAAAAAAAAAAAAAAAAAAAAAAAAAAAAAAAAAAAAAAAAAAAAAAAAAAAAAAAAAAAAAAAAAAAAAAAAAAAAAAAAAAAAAAAAAAAAAAAAAAAAAAAAAAAAAAAAAAAAAAAAAAAAAAAAAAAAAAAAAAAAAAAAAAAAAAAAAAAAAAAAAAAAAAAAAAAAAAAAAAAAAAAAAAAAAAAAAAAAAAAAAAAAAAAAAAAAAAAAAAAAAAAAAAAAAAAAAAAAAAAAAAAAAAAAAAAAAAAAAAAAAAAAAAAAAAAAAAAAAAAAAAAAAAAAAAAAAAAAAAAAAAAAAAAAAAAAAAAAAAAAAAAAAAAAAAAAAAAAAAAAAAAAAAAAAAAAAAAAAAAAAAAAAAAAAAAAAAAAAAAAAAAAAAAAAAAAAAAAAAAAAAAAAAAAAAAAAAAAAAAAAAAAAAAAAAAAAAAAAAAAAAAAAAAAAAAAAAAAAAAAAAAAAAAAAAAAAAAAAAAAAAAAAAAAAAAAAAAAAAAAAAAAAAAAAAAAAAAAAAAAAAAAAAAAAAAAAAAAAAAAAAAAAAAAAAAAAAAAAAAAAAAAAAAAAAAAAAAAAAAAAAAAAAAAAAAAAAAAAAAAAAAAAAAAAAAAAAAAAAAAAAAAAAAAAAAAAAAAAAAAAAAAAAAAAAAAAAAAAAAAAAAAAAAAAAAAAAAAAAAAAAAAAAAAAAAAAAAAAAAAAAAAAAAAAAAAAAAAAAAAAAAAAAAAAAAAAAAAAAAAAAAAAAAAAAAAAAAAAAAAAAAAAAAAAAAAAAAAAAAAAAAAAAAAAAAAAAAAAAAAAAAAAAAAAAAAAAAAAAAAAAAAAAAAAAAAAAAAAAAAAAAAAAAAAAAAAAAAAAAAAAAAAAAAAAAAAAAAAAAAAAAAAAAAAAAAAAAAAAAAAAAAAAAAAAAAAAAAAAAAAAAAAAAAAAAAAAAAAAAAAAAAAAAAAAAAAAAAAAAAAAAAAAAAAAAAAAAAAAAAAAAAAAAAAAAAAAAAAAAAAAAAAAAAAAAAAAAAAAAAAAAAAAAAAAAAAAAAAAAAAAAAAAAAAAAAAAAAAAAAAAAAAAAAAAAAAAAAAAAAAAAAAAAAAAAAAAAAAAAAAAAAAAAAAAAAAAAAAAAAAAAAAAAAAAAAAAAAAAAAAAAAAAAAAAAAAAAAAAAAAAAAAAAAAAAAAAAAAAAAAAAAAAAAAAAAAAAAAAAAAAAAAAAAAAAAAAAAAAAAAAAAAAAAAAAAAAAAAAAAAAAAAAAAAAAAAAAAAAAAAAAAAAAAAAAAAAAAAAAAAAAAAAAAAAAAAAAAAAAAAAAAAAAAAAAAAAAAAAAAAAAAAAAAAAAAAAAAAAAAAAAAAAAAAAAAAAAAAAAAAAAAAAAAAAAAAAAAAAAAAAAAAAAAAAAAAAAAAAAAAAAAAAAAAAAAAAAAAAAAAAAAAAAAAAAAAAAAAAAAAAAAAAAAAAAAAAAAAAAAAAAAAAAAAAAAAAAAAAAAAAAAAAAAAAAAAAAAAAAAAAAAAAAAAAAAAAAAAAAAAAAAAAAAAAAAAAAAAAAAAAAAAAAAAAAAAAAAAAAAAAAAAAAAAAAAAAAAAAAAAAAAAAAAAAAAAAAAAAAAAAAAAAAAAAAAAAAAAAAAAAAAAAAAAAAAAAAAAAAAAAAAAAAAAAAAAAAAAAAAAAAAAAAAAAAAAAAAAAAAAAAAAAAAAAAAAAAAAAAAAAAAAAAAAAAAAAAAAAAAAAAAAAAAAAAAAAAAAAAAAAAAAAAAAAAAAAAAAAAAAAAAAAAAAAAAAAAAAAAAAAAAAAAAAAAAAAAAAAAAAAAAAAAAAAAAAAAAAAAAAAAAAAAAAAAAAAAAAAAAAAAAAAAAAAAAAAAAAAAAAAAAAAAAAAAAAAAAAAAAAAAAAAAAAAAAAAAAAAAAAAAAAAAAAAAAAAAAAAAAAAAAAAAAAAAAAAAAAAAAAAAAAAAAAAAAAAAAAAAAAAAAAAAAAAAAAAAAAAAAAAAAAAAAAAAAAAAAAAAAAAAAAAAAAAAAAAAAAAAAAAAAAAAAAAAAAAAAAAAAAAAAAAAAAAAAAAAAAAAAAAAAAAAAAAAAAAAAAAAAAAAAAAAAAAAAAAAAAAAAAAAAAAAAAAAAAAAAAAAAAAAAAAAAAAAAAAAAAAAAAAAAAAAAAAAAAAAAAAAAAAAAAAAAAAAAAAAAAAAAAAAAAAAAAAAAAAAAAAAAAAAAAAAAAAAAAAAAAAAAAAAAAAAAAAAAAAAAAAAAAAAAAAAAAAAAAAAAAAAAAAAAAAAAAAAAAAAAAAAAAAAAAAAAAAAAAAAAAAAAAAAAAAAAAAAAAAAAAFkAMAAgAAABQAABCYkAQAAgAAABQAABCskpEAAgAAAAMyNQAAkpIAAgAAAAMyNQAA6hwABwAACAwAAAiMAAAAABzqAAAACAAAAAAAAAAAAAAAAAAAAAAAAAAAAAAAAAAAAAAAAAAAAAAAAAAAAAAAAAAAAAAAAAAAAAAAAAAAAAAAAAAAAAAAAAAAAAAAAAAAAAAAAAAAAAAAAAAAAAAAAAAAAAAAAAAAAAAAAAAAAAAAAAAAAAAAAAAAAAAAAAAAAAAAAAAAAAAAAAAAAAAAAAAAAAAAAAAAAAAAAAAAAAAAAAAAAAAAAAAAAAAAAAAAAAAAAAAAAAAAAAAAAAAAAAAAAAAAAAAAAAAAAAAAAAAAAAAAAAAAAAAAAAAAAAAAAAAAAAAAAAAAAAAAAAAAAAAAAAAAAAAAAAAAAAAAAAAAAAAAAAAAAAAAAAAAAAAAAAAAAAAAAAAAAAAAAAAAAAAAAAAAAAAAAAAAAAAAAAAAAAAAAAAAAAAAAAAAAAAAAAAAAAAAAAAAAAAAAAAAAAAAAAAAAAAAAAAAAAAAAAAAAAAAAAAAAAAAAAAAAAAAAAAAAAAAAAAAAAAAAAAAAAAAAAAAAAAAAAAAAAAAAAAAAAAAAAAAAAAAAAAAAAAAAAAAAAAAAAAAAAAAAAAAAAAAAAAAAAAAAAAAAAAAAAAAAAAAAAAAAAAAAAAAAAAAAAAAAAAAAAAAAAAAAAAAAAAAAAAAAAAAAAAAAAAAAAAAAAAAAAAAAAAAAAAAAAAAAAAAAAAAAAAAAAAAAAAAAAAAAAAAAAAAAAAAAAAAAAAAAAAAAAAAAAAAAAAAAAAAAAAAAAAAAAAAAAAAAAAAAAAAAAAAAAAAAAAAAAAAAAAAAAAAAAAAAAAAAAAAAAAAAAAAAAAAAAAAAAAAAAAAAAAAAAAAAAAAAAAAAAAAAAAAAAAAAAAAAAAAAAAAAAAAAAAAAAAAAAAAAAAAAAAAAAAAAAAAAAAAAAAAAAAAAAAAAAAAAAAAAAAAAAAAAAAAAAAAAAAAAAAAAAAAAAAAAAAAAAAAAAAAAAAAAAAAAAAAAAAAAAAAAAAAAAAAAAAAAAAAAAAAAAAAAAAAAAAAAAAAAAAAAAAAAAAAAAAAAAAAAAAAAAAAAAAAAAAAAAAAAAAAAAAAAAAAAAAAAAAAAAAAAAAAAAAAAAAAAAAAAAAAAAAAAAAAAAAAAAAAAAAAAAAAAAAAAAAAAAAAAAAAAAAAAAAAAAAAAAAAAAAAAAAAAAAAAAAAAAAAAAAAAAAAAAAAAAAAAAAAAAAAAAAAAAAAAAAAAAAAAAAAAAAAAAAAAAAAAAAAAAAAAAAAAAAAAAAAAAAAAAAAAAAAAAAAAAAAAAAAAAAAAAAAAAAAAAAAAAAAAAAAAAAAAAAAAAAAAAAAAAAAAAAAAAAAAAAAAAAAAAAAAAAAAAAAAAAAAAAAAAAAAAAAAAAAAAAAAAAAAAAAAAAAAAAAAAAAAAAAAAAAAAAAAAAAAAAAAAAAAAAAAAAAAAAAAAAAAAAAAAAAAAAAAAAAAAAAAAAAAAAAAAAAAAAAAAAAAAAAAAAAAAAAAAAAAAAAAAAAAAAAAAAAAAAAAAAAAAAAAAAAAAAAAAAAAAAAAAAAAAAAAAAAAAAAAAAAAAAAAAAAAAAAAAAAAAAAAAAAAAAAAAAAAAAAAAAAAAAAAAAAAAAAAAAAAAAAAAAAAAAAAAAAAAAAAAAAAAAAAAAAAAAAAAAAAAAAAAAAAAAAAAAAAAAAAAAAAAAAAAAAAAAAAAAAAAAAAAAAAAAAAAAAAAAAAAAAAAAAAAAAAAAAAAAAAAAAAAAAAAAAAAAAAAAAAAAAAAAAAAAAAAAAAAAAAAAAAAAAAAAAAAAAAAAAAAAAAAAAAAAAAAAAAAAAAAAAAAAAAAAAAAAAAAAAAAAAAAAAAAAAAAAAAAAAAAAAAAAAAAAAAAAAAAAAAAAAAAAAAAAAAAAAAAAAAAAAAAAAAAAAAAAAAAAAAAAAAAAAAAAAAAAAAAAAAAAAAAAAAAAAAAAAAAAAAAAAAAAAAAAAAAAAAAAAAAAAAAAAAAAAAAAAAAAAAAAAAAAAAAAAAAAAAAAAAAAAAAAAAAAAAAAAAAAAAAAAAAAAAAAAAAAAAAAAAAAAAAAAAAAAAAAAAAAAAAAAAAAAAAAAAAAAAAAAAAAAAAAAAAAAAAAAAAAAAAAAAAAAAAAAAAAAAAAAAAAAAAAAAAAAAAAAAAAAAAAAAAAAAAAAAAAAAAAAAAAAAAAAAAAAAAAAAAAAAAAAAAAAAAAAAAAAAAAAAAAAAAAAAAAAAAAAAAAAAAAAAAAAAAAAAAAAAAAAAAAAAAAAAAAAAAAAAAAAAAAAAAAAAAAAAAAAAAAAAAAAAAAAAAAAAAAAAAAAAAAAAAAAAAAAAAAAAAAAAAAAAAAAAAAAAAAAAAAAAAAAAAAAAAAAAAAAAAAAAAAAAAAAAAAAAAAAAAAAAAAAAAAAAAAAAAAAAAAAAAAAAAAAAAAAAAAAAAAAAAAAAAAAAAAAAAAAAAAAAAAAAAAAAAAAAAAAAAAAAAAAAAAAAAAAAAAAAAAAAAAAAAAAAAAAAAAAAAAAAAAAAAAAAAAAAAAAAAAAAAAAAAAAAAAAAAAAAAAAAAAAAAAAAAAAAAAAAAAAAAAAAAAAAAAAAAAAAAAAAAAAAAAAAAAAAAAAAAAAAAAAAAAAAAAAAAAAAAAAAAAAAAAAAAAAAAAAAAAAAAAAAAAAAAAAAAAAAAAAAAAAAAAAAAAAAAAAAAAAAAAAAAAAAAAAAAAAAAAAAAAAAAAAAAAAAAAAAAAAAAAAAAAAMjAxOTowNToxOCAxNTo1NjowMQAyMDE5OjA1OjE4IDE1OjU2OjAxAAAAVABDAFAAAAD/4QsWaHR0cDovL25zLmFkb2JlLmNvbS94YXAvMS4wLwA8P3hwYWNrZXQgYmVnaW49J++7vycgaWQ9J1c1TTBNcENlaGlIenJlU3pOVGN6a2M5ZCc/Pg0KPHg6eG1wbWV0YSB4bWxuczp4PSJhZG9iZTpuczptZXRhLyI+PHJkZjpSREYgeG1sbnM6cmRmPSJodHRwOi8vd3d3LnczLm9yZy8xOTk5LzAyLzIyLXJkZi1zeW50YXgtbnMjIj48cmRmOkRlc2NyaXB0aW9uIHJkZjphYm91dD0idXVpZDpmYWY1YmRkNS1iYTNkLTExZGEtYWQzMS1kMzNkNzUxODJmMWIiIHhtbG5zOmRjPSJodHRwOi8vcHVybC5vcmcvZGMvZWxlbWVudHMvMS4xLyIvPjxyZGY6RGVzY3JpcHRpb24gcmRmOmFib3V0PSJ1dWlkOmZhZjViZGQ1LWJhM2QtMTFkYS1hZDMxLWQzM2Q3NTE4MmYxYiIgeG1sbnM6eG1wPSJodHRwOi8vbnMuYWRvYmUuY29tL3hhcC8xLjAvIj48eG1wOkNyZWF0ZURhdGU+MjAxOS0wNS0xOFQxNTo1NjowMS4yNTM8L3htcDpDcmVhdGVEYXRlPjwvcmRmOkRlc2NyaXB0aW9uPjxyZGY6RGVzY3JpcHRpb24gcmRmOmFib3V0PSJ1dWlkOmZhZjViZGQ1LWJhM2QtMTFkYS1hZDMxLWQzM2Q3NTE4MmYxYiIgeG1sbnM6ZGM9Imh0dHA6Ly9wdXJsLm9yZy9kYy9lbGVtZW50cy8xLjEvIj48ZGM6Y3JlYXRvcj48cmRmOlNlcSB4bWxuczpyZGY9Imh0dHA6Ly93d3cudzMub3JnLzE5OTkvMDIvMjItcmRmLXN5bnRheC1ucyMiPjxyZGY6bGk+VENQPC9yZGY6bGk+PC9yZGY6U2VxPg0KCQkJPC9kYzpjcmVhdG9yPjwvcmRmOkRlc2NyaXB0aW9uPjwvcmRmOlJERj48L3g6eG1wbWV0YT4NCiAgICAgICAgICAgICAgICAgICAgICAgICAgICAgICAgICAgICAgICAgICAgICAgICAgICAgICAgICAgICAgICAgICAgICAgICAgICAgICAgICAgICAgICAgICAgICAgICAgICAKICAgICAgICAgICAgICAgICAgICAgICAgICAgICAgICAgICAgICAgICAgICAgICAgICAgICAgICAgICAgICAgICAgICAgICAgICAgICAgICAgICAgICAgICAgICAgICAgICAgIAogICAgICAgICAgICAgICAgICAgICAgICAgICAgICAgICAgICAgICAgICAgICAgICAgICAgICAgICAgICAgICAgICAgICAgICAgICAgICAgICAgICAgICAgICAgICAgICAgICAgCiAgICAgICAgICAgICAgICAgICAgICAgICAgICAgICAgICAgICAgICAgICAgICAgICAgICAgICAgICAgICAgICAgICAgICAgICAgICAgICAgICAgICAgICAgICAgICAgICAgICAKICAgICAgICAgICAgICAgICAgICAgICAgICAgICAgICAgICAgICAgICAgICAgICAgICAgICAgICAgICAgICAgICAgICAgICAgICAgICAgICAgICAgICAgICAgICAgICAgICAgIAogICAgICAgICAgICAgICAgICAgICAgICAgICAgICAgICAgICAgICAgICAgICAgICAgICAgICAgICAgICAgICAgICAgICAgICAgICAgICAgICAgICAgICAgICAgICAgICAgICAgCiAgICAgICAgICAgICAgICAgICAgICAgICAgICAgICAgICAgICAgICAgICAgICAgICAgICAgICAgICAgICAgICAgICAgICAgICAgICAgICAgICAgICAgICAgICAgICAgICAgICAKICAgICAgICAgICAgICAgICAgICAgICAgICAgICAgICAgICAgICAgICAgICAgICAgICAgICAgICAgICAgICAgICAgICAgICAgICAgICAgICAgICAgICAgICAgICAgICAgICAgIAogICAgICAgICAgICAgICAgICAgICAgICAgICAgICAgICAgICAgICAgICAgICAgICAgICAgICAgICAgICAgICAgICAgICAgICAgICAgICAgICAgICAgICAgICAgICAgICAgICAgCiAgICAgICAgICAgICAgICAgICAgICAgICAgICAgICAgICAgICAgICAgICAgICAgICAgICAgICAgICAgICAgICAgICAgICAgICAgICAgICAgICAgICAgICAgICAgICAgICAgICAKICAgICAgICAgICAgICAgICAgICAgICAgICAgICAgICAgICAgICAgICAgICAgICAgICAgICAgICAgICAgICAgICAgICAgICAgICAgICAgICAgICAgICAgICAgICAgICAgICAgIAogICAgICAgICAgICAgICAgICAgICAgICAgICAgICAgICAgICAgICAgICAgICAgICAgICAgICAgICAgICAgICAgICAgICAgICAgICAgICAgICAgICAgICAgICAgICAgICAgICAgCiAgICAgICAgICAgICAgICAgICAgICAgICAgICAgICAgICAgICAgICAgICAgICAgICAgICAgICAgICAgICAgICAgICAgICAgICAgICAgICAgICAgICAgICAgICAgICAgICAgICAKICAgICAgICAgICAgICAgICAgICAgICAgICAgICAgICAgICAgICAgICAgICAgICAgICAgICAgICAgICAgICAgICAgICAgICAgICAgICAgICAgICAgICAgICAgICAgICAgICAgIAogICAgICAgICAgICAgICAgICAgICAgICAgICAgICAgICAgICAgICAgICAgICAgICAgICAgICAgICAgICAgICAgICAgICAgICAgICAgICAgICAgICAgICAgICAgICAgICAgICAgCiAgICAgICAgICAgICAgICAgICAgICAgICAgICAgICAgICAgICAgICAgICAgICAgICAgICAgICAgICAgICAgICAgICAgICAgICAgICAgICAgICAgICAgICAgICAgICAgICAgICAKICAgICAgICAgICAgICAgICAgICAgICAgICAgICAgICAgICAgICAgICAgICAgICAgICAgICAgICAgICAgICAgICAgICAgICAgICAgICAgICAgICAgICAgICAgICAgICAgICAgIAogICAgICAgICAgICAgICAgICAgICAgICAgICAgICAgICAgICAgICAgICAgICAgICAgICAgICAgICAgICAgICAgICAgICAgICAgICAgICAgICAgICAgICAgICAgICAgICAgICAgCiAgICAgICAgICAgICAgICAgICAgICAgICAgICAgICAgICAgICAgICAgICAgICAgICAgICAgICAgICAgICAgICAgICAgICAgICAgICAgICAgICAgICAgICAgICAgICAgICAgICAKICAgICAgICAgICAgICAgICAgICAgICAgICAgICAgICAgICAgICAgICAgICAgICAgICAgICAgICAgICAgICAgICAgICAgICAgICAgICAgICAgICAgICAgICAgICAgICAgICAgIAogICAgICAgICAgICAgICAgICAgICAgICAgICAgPD94cGFja2V0IGVuZD0ndyc/Pv/bAEMABwUFBgUEBwYFBggHBwgKEQsKCQkKFQ8QDBEYFRoZGBUYFxseJyEbHSUdFxgiLiIlKCkrLCsaIC8zLyoyJyorKv/bAEMBBwgICgkKFAsLFCocGBwqKioqKioqKioqKioqKioqKioqKioqKioqKioqKioqKioqKioqKioqKioqKioqKioqKv/AABEIAXEB2gMBIgACEQEDEQH/xAAfAAABBQEBAQEBAQAAAAAAAAAAAQIDBAUGBwgJCgv/xAC1EAACAQMDAgQDBQUEBAAAAX0BAgMABBEFEiExQQYTUWEHInEUMoGRoQgjQrHBFVLR8CQzYnKCCQoWFxgZGiUmJygpKjQ1Njc4OTpDREVGR0hJSlNUVVZXWFlaY2RlZmdoaWpzdHV2d3h5eoOEhYaHiImKkpOUlZaXmJmaoqOkpaanqKmqsrO0tba3uLm6wsPExcbHyMnK0tPU1dbX2Nna4eLj5OXm5+jp6vHy8/T19vf4+fr/xAAfAQADAQEBAQEBAQEBAAAAAAAAAQIDBAUGBwgJCgv/xAC1EQACAQIEBAMEBwUEBAABAncAAQIDEQQFITEGEkFRB2FxEyIygQgUQpGhscEJIzNS8BVictEKFiQ04SXxFxgZGiYnKCkqNTY3ODk6Q0RFRkdISUpTVFVWV1hZWmNkZWZnaGlqc3R1dnd4eXqCg4SFhoeIiYqSk5SVlpeYmZqio6Slpqeoqaqys7S1tre4ubrCw8TFxsfIycrS09TV1tfY2dri4+Tl5ufo6ery8/T19vf4+fr/2gAMAwEAAhEDEQA/APpGiiigAooooAKKKKACiiigAooooAKKKKACiiigAooooAKKKKACiiigAooooAKKKKACiiigAooooAKKKKACiiigAooooAKKKKACiiigAooooAKKKKACiiigAooooAKKKKACiiigAooooAKKKKACiiigAooooAKKKKACiiigAooooAKKKKACiiigAooooAKKKKACikJ965yXx3okEelPcTyRJqt3JZ27PHgeYjMpDf3RlSAT7UAdJRWRqPiSx0ye9hufM32Vn9tlCJn93kjj1PynimReKtLufD9hrNrOZbK/khjgdV5LSuEUEdvmOD6c0AbVFYMPiuK61O4s7PTtQuBa3P2WadIh5aPgE8kjgbh2qu/jnTY5JTNDex2sN2bOS9NufJWUNt5I5AycbsY96AOmoqveXiWNhcXc+fKt4mlfAydqjJ478Csi68XWcIsY7SC5v7rUIBcwWtsgMnlYB3tkgIOQMsRk8UAb9Fc9D400ybSbi+bz4DaXEdrdW0sRWWCV3VVDL6ZcHIyCOQTVix8UabqHiXUdBt5m/tDTgjTxMuMqwBBU9wMjPoTQBs0VS0rVbbWLI3VkWMYlkiO9cHcjFW4+oNXaACiiigAooooAKKKKACiiigAooooAKKKKACiioru5jsrOa6nyI4I2kfAycAZP8qAJaKzH120j8NnXHL/YxbfachPm2Yz09faqa+LIV0e61S706/tLS1tjcs80QG9AMnaATzjtQBv0ViQ+IpZraWYaJqihFDKrRKGkyf4Ru/nTND8VRa/KwtNO1CKJXkjaaeEKiujFWXOeuQRQBvUVRuNWtrXVrPTpSwuLxZGiwvGEALZPbqKw5PH+npFJeLaX0ukwyGOXVI4Q0CkHBPXcVB4LhSvXnigDqqKwtS8XaZpX2z7S8jfY7IX0nlR7sxEkArjqeOlTf8JNpraXpuowz+ba6pLFFbOi53NJ93Pp059KANeigdKKACiiigAooooAKKKKACiiigAooooAKKKKACiiigAooooAKKKKACiiigAooooAKKKKAGn73NeU2Gm2+r2nhrTr9Ga3urrWEkXocF5eQex6EH8a9YpAoHQD8qAPITNqQk8T6frIka/03Qlt2udpC3Sb3McoPqVxkdmBqxrFpceH7nSoYY3fStc1KwmUIOLS7EqM+fRXVc+zA+terbQTnA6Y6UbR6D8qAPN/D95YW3irXku/E4sJjrb7dPaaNPMyseOD8x3f/qrKurW+j0DUtQuLxptGi8QSNeaZ5IXzI/PAzv8AvcNhsdDg164Yoy24xqT6laXaMYwMfSgDnfGms6dpnhXUEv72GCS5s5Ut42cb5mKEAIvVjkgYHrXN6NNH4W8UQy+ImWygv9Es4ILi4+VEkiDb4S3QH5twB68+leitFG5UuisVOVJGcUPGkq7ZUV19GGRQB5Vq0i6s3iXXdPy2mXFxplvDOoOy5eO5TdIvqoztyODg1fuNKvLnWPEGraOD/auk6ss1uvT7RGbeLzISfRlzj0YA16PsUKFCjA6DFLgDoKAOT+Gt0l94LjvIVkSO4urmVFlGGUGZzgj1rrKAABgDFFABRRRQAUUUUAFFFFABRRRQAUUUUAFFFFABWfr4J8NamFBJNpLgD/cNaFFAHnP9v6RffCGWxstStLi7TRTvgjlVpFxHg5Uc8VDeXmnz/DHXIbPxMNYm/sVyYDNG5j/dnnC8/nXpQijU5VFH0FAijX7qKPoKAMvRLG+tIR9u1WW/DIuwSQomzj/Z61m+BONBuww/5it91H/TzJXUUYA6CgDhNbvLbXvG9lp+j3cVxc2tjerceS4YWxZVRd5H3SSenXg1R0rxTo1h8Mo9KuisepWtl9gk0cD/AEh5guzYsfVtx5Bxgg5zXo6xRoxKIqljkkDGaTyozJ5hjXf/AHtoz+dAHkl/Y3Ol6bd2V3n7Ta+FLSKQqc4dXwcH6irer2U/h7xHo2mwxOdH1TWbe7tSoytrOMmWM+it98dgdw716ltB6gflRgHqBQAo6UUUUAFFFFABRRRQAUUUUAFFFFABRRRQAUUUUAFFFFABRRRQAUUUUAFFFFABRSEgj1rm9T8Y2ttqD6Xo9tPrWrIMPaWeMQ+8sh+WMfU59jQB0tRXFzBaRGW6mjhjHVpXCj8zXLjRvFWs861raaTAf+XPR1+bHo07jP8A3yFqa3+HvhqOXzbjTRfT5yZ76Rp3Y+5cmgC9J4v8NxHD6/poPoLpD/WiLxd4cmbEWvaax9PtaZ/nVmPQdHiGItKsUHotsg/pTZfD+jzjbNpFjID1DWyH+lAF6CeG5hEtvKksbdHjYMD+IqSuWm+Hnhx5TNZ2L6ZPnIm06Z7dwf8AgJAqI6Z4u0P5tK1SLXbZetrqaiObH+zOg5P+8p+tAHXUVzmkeL7LUtQ/s28in0nVQMmwvhtdh6o3KyD3Umui3D1oAWiqWraxp+h6e97q15FaW6dXlbGT6Adz7DmucXWfE3iLJ8Paamk2Tfdv9WQ+Y49Utxgge7kfSgDsKzrrxDo1k5S81ext2XqstyikfgTWIPAcF9h/Emq6lrTk5aOecxQ/hFHhf51pWnhDw7Yx7bXQ7CMev2dSfzIzQA0eM/DOcf2/pv8A4FJ/jV6z1vStQfZY6lZ3LHosNwjn9DR/YullcHTbPHp9nX/CqF74L8N6guLrQrBvdYFQ/muDQBu0Zrk/+EIk0/5vDGu6lpZH3YJJPtNv9PLkzgfQg1HJ4k1rw9n/AIS7SxJZqedV0tWkjUeskRy6D3G4D1FAHYUVXsb+01KyivNPuYrm2lXdHLE4ZWHsRVjIoAKKKKACiiigAoozXNeJfHOkeGpBbTO93qDrmOwtF3yt7nso92IFJtJXYXsdJTZJI4YzJM6xovVmOAPxryHUfGPizWCyrPDoNsf+WVqBNOR7yMMA/wC6PxrBk0a1upfN1J7nUpT1kvbh5Tn6E4rhnjqUdtTCVeKPZ5vFXh+3OJtc05D6G6TP86bH4v8ADkrYj17TWPp9rT/GvH49L0+IfutPtE+kK/4Ur6dYyf6ywtW+sC/4Vh/aS/lM/rHke5291b3cfmWk8U6f3onDD8xUteAf2FpqyeZb25tJB0ktJGiYf98kVsWHiLxXohH2PV/7TgX/AJd9VXcx+kq/MD9c1tDH0pb6GirxZ7RRXGeH/iRpmq3UdhqsUmjalJwkF0wKSn/pnIPlb6cH2rss4rujJSV0zZNPYWiq97e21haSXd7cRW9vEu6SWVwqqPcmuXTxLrPiDjwfpYW0bpqupho4m944hh5B7/KD6mqGdhVG81rS9Pk232pWds392adUP5E1gf8ACEy6h83ifXtR1QtjdBFJ9mt/p5ceMj/eJrQsvBXhrT8/ZdBsVJ/iaBXP5tk0AL/wmnhkHH9v6b/4FJ/jVu18Q6NfOEs9Wsbhm6LFcoxP4A08aLpYXb/Ztnj0+zp/hVO78IeHr9Cl3odhIvr9nUH8wM0AbVFcn/wgVvZfN4b1XU9FcHKpBcGSHPvFJuU01tX8T+HxnX9OTWLJet9pKESoPV4CST9UJ+goA66is/SNZ0/XLBL3SbyK6t243xnofQjqCPQ81oZB6UAFFFFABRRRQAUUUUAFFFFABRRRQAUUUUAFFFFAB0pruqoSzAADJJPQetOPSuL1Zn8aa9L4dtnZdGsSP7XnjbBnc8i1Ujtjl/Yhe5oAj+3aj49keHQ7iXTfDqtsl1SI7Zr7HVYD/CnYyd/4fWuq0nR7DQ7BbLSbSO1t1JO1B94nqxPVie5PJq1DClvGkUMaxxxqFREGFUDoAOwqSgAooooAKKKKACiiigDM1rQdO8Qaf9l1a1WdAdyN914m7MjDlW9xXE6n4u1H4fXUWj60w1v7XxpV00qxyE5A23OeABkfvcc9CM12HifxHa+GNAn1O7VpNmEhhX700p4VF9yf8a8eNvNqE11e+ICl3f34xclhlETtCo7Kuce5yTzXNiMRGgtTOdRQ3PUdH8JkaiuteJ511XWOsTFf3FmP7sKHp/vn5j69q6dQRyevevN/h14lmtLxfC2rzNKNhfTLmQ5MkY6wse7L2PdfpXpINbQmqkVJFxkpK6FoooqxhRRRQAU3Bp1FAHIaj4Uu9Ju5dX8ENFa3Tndcaa522t765H/LOT0cfiDWt4d8Q2viGxaS3SS3uLd/Ku7OcYltpO6OP1BHBHIrZrlfE+i3VteL4n8Ox51a0TbPbqcDUIByYm/2h1Rux46E0AdVmiqOkaraa3pVrqWnSeZb3MYkjJGCPUEdiDwR6ir1ABTT2pxOBzXnnxF8UTCUeGNFnaG7nj8y+ukPNrAeMD/bfoPQZPpUTmoRcmJtRV2VvFfj25vLyfR/CUqp5LGO81XG5Yj3SIdGf1PQfWuTs7GCwVhApLyHdLLIxeSZvV2PJNSW9tDZ26W9rGIoYxtVB2/z61JXz2IxM6z7I8+pUcmH0/WiiiuUyCiiigAooooAiubaC8t2t7uJZoX6owyPr7H6Vc074g3fgSBYNbkn1XSHyts24NcwOOiEn76f7R5XvkVTurmKytZbm5bZFEpZj9PT3qhplpJPMdU1SPF1MmI4WGRbxH+DHTJ/iP4V1YetKl719PzNYTcNT1LTPDc2vzQa34wkhvZMCS006Ft1paA8g/8ATV/9s8egFdiuec+teTeBPELeGdWh0G8kP9j30m2wdjn7LMefJz/cb+H0PHpXrK19BTqKpHmR3xkpK6FooorQoKKKKACg9KKKAOX1nwiz3z6z4ZnXStax87hcw3f+zMg+9/vfeHY9qseG/Eq6w09nf2zadrFmALuwdslQejof44z2YfQ4NdARkVzvijw7LqiQ6jpMq2uuaflrO56BvWKT1jboR24I5FAHRA56UVkeG9di8QaMl6kbW8oZorm2f79vMpw6N9D37jB71rA5oAWiiigAooooAKKKKACiiigAooooAKKKKAMTxZrcmh+HJ7m0TzL2Rlt7OM/xzudqD8zn6CpfDWhx+HdCt9PR/NkUF55m+9NKxy7n1JYn9KydUQap8SNGsGO6HTLeXUZFx1kP7qPP/fTkf7tdZigAooooAKKKQnFAC0U3d1p1ABRSbqp6vqCaVol7qEpCpawPMSf9lSaAPK/GOqnxB44kiVs2GhnyYgOj3TD52/4CpCj3JqhVHRopI9Iga4yZ5wbicnqZJDvb9T+lXq+ZxNR1KrZ5tSXNIrahbzT26yWTmO9tnFxaSDqsq8j8D0PqDXsXhfXYvEnhqy1aEbRcxAun9xxwy/gQRXk36V1HwpuzBfa9oxPyJMl7Cv8AdWUfMB7b1b867cvqNSdNm+Hk72PSKKKK9k6wopCcdqQNkZoAdRQOlITigBaD0oooA4/TV/4Rnx7caUPl07XA95aL2iuFx5yD2YEP9d1dhXLfEGExeG49XiB87RrqK+Qj+6rYkH08tnrpkdXVXX7rKCPpQBT13V7fQdBvdUvDiG0haVh64HT8TxXitity6S3upHdqF/Ibi6Y9mbon0UYUfSu3+LN15tlo+jK3y3155sy/3o4hvI+hbYPxrkck9a8jMKj0gjkry+yFFFFeQcgUUUUAFFGKKACiijIHJ6Dk01uMyLsDU9ejsTzbWIWe4Xs8h/1aH6fe/Ktjr1696yfDo8zTHv2+/fzPOT/s5wo/75ArVqpu2iBkF7Zx6hZS2sxKrIOHHVGHKsPcHBr1HwD4hl8Q+FYZb3H9oWrta3gH/PVOCfxGG/GvNa2fh3dmx8e39geItTsluQP+mkRCN/46y/lXoYCo4zdPozow8teU9XopAaWvbO0KKKaGz1GKAHUUgajNAC0EZGKKKAOOv0/4Rnx9a6jF8mn6+wtLtR91bkAmKT6sAUP0WuwFYnjPTH1fwfqNtAD9pWLzrYjqJozvTH/AlFXdD1FNY0Gx1KI/Jd26TD/gSg0AX6KKKACiiigAooooAKKKKACiiigAooooA5Pw/Ibn4jeLJWHFuLO0X2AjMh/9G11lcl4cQwfEPxhE4wZXtLhT6qYdn84zXW0AFITjoM0tNfpQBhQeILuXxfqOkNpkvkWlrDMk6svzl9+Ry3+xgcdQc4GKydb8aEaVNJYw3Ftd2WoWUVxA6K7mOWVAQu0sDuViOD1rQ1bwtJqd9qM0WqTWseo2K2kqRoNylCxV1bqPvnI71RPgLMF2q6kIJLia1mVra0SNYmgcMMKODkjnNAC6x4tkOm3MVlDcadqNpeWcckN0i7vLlnRdwwSCCpYZB49q0ovGOnyajHbCOdYprl7SK6YL5ckykgoPm3dVYZIxkHmqsvg57w3c2oanJPd3M1sxlWIIqRwyrIsarnoSDk9eafpXg+HStUeeJrWSE3EtwiyWaecjOxYgS9SAzNg9ccUAWtKvtQl8TaxY6hJA8VusMlv5MZXar7+GJJyflHPvWd8UpjF8M9XA6zRrB+Duqf1rdt9LFvrl7qIlLG7iijMe3hfL3cg987v0rn/inGX+GmqMORCI5j7BJFY/ypS2A4EjDEDoDikpW5Y/Wkr5N7nlBWr4EkMXxMRV4FzpUgb32SqR/wChmsrtWp4HQyfE+AjpDpcxPtukjA/9BNdmC/jr5mtG/Oet5rD1fxBcab4k0jTItOluU1Dzd8qFf3exQe5Hrz7Vu1katpE17q+k39tcrC9hI5MbpuWVHXaw9Qe4NfQnoFTVPEyQjULJIprW/jsp7i2MyqVl8sckYJ6Erw2Disu38atN4ZhMkdxbajPpJvLeaeALHOyxgsVGexOdpAOD6Ulp4BkhIM+opMRa3Nq03kDzZxKPvyP1Zh+VTJ4Mup7O1ttR1VbiOwsHs7UpAF5ZAhkfnk4GABxyaALMXjWytbG3+2mWWSO1hmvpo0AS38xQQzZI4PXAzgcnAp2r6tq2la1pvz2dxZaherbLAsbCVUZSd4bPOMZPGMVVj8EJBqJnRrK6SaCCG5jvLUSf6tdoZD2yOx471Zj0HVF8XSavNe2txGf3cEUkJ3WsOOVTBxljyWx2A6UAdPRRRQBQ120F/wCHdRs3GVuLWWI/8CQj+tVPCNy974J0W6kO55rCF2J7koKv6vcJZ6LfXMhwkNvJIx9gpNZ3guF7fwJoUMgw0enwKRjoQgoA4L4h3Bm+JNpbn7trpLSD6yS4P/ousitX4gQtF8ToJmHy3GjhV99kxJ/9DFZVfP47+Mzgr/GFFFFcJgUZb6ZNbhsVtWeOSFpDKCPlIIHr05qtqWrmLT9QWEPBdQW5mTdg5AONwwT37VcuLIy30V1HKY2SN4nG3O5Wx0PY5A5qh/wjoaB4pLn71q1ruWMKSCc7ie7V0R9nbU0Vuo++1Zo9OvBGk1tdJatPCZFHzjHUc9vSrDavBEQJAxCMiSyDG1HOODznv6VHc6Q97HN9rut7PbtbxsI8eWG6nHcnApU0dIrtpYzCUkZXdZYA7ZAAO1j06Cj90P3bEonuF177K5jMDWxkUKvzAhgOT+NO1aUwaLeyrwUt3IP/AAE1I1rnVFvN2CITFs9csDnP4VDrUZm0HUI15LW0gH/fJrPRyViNLofpkQg0iziA+5bxj/x0Vaqvp8gl0u0kXkPAh/8AHRViplu2J7hU+hyGD4h+HJFON8s8De6tEWx+aCoKm0ZPN+IHhpByVuZpD7AQsM/mwrowulaJpSvzo9pFYniXX59CXTvs2nzXpu71LZhGVGwNnnkjnjjtW2OlZHiDSZtWtrYWtyLae0u47qNim9SUP3SPQgkV9GeiOl8QQW+tW2nXVvPC102yGZgux32livByDgHkjBx1rn/C/jRrzR9NOrxXCz3sksKXZg2wySqz4TPbhODjBx1qwvgyb/hII9Skv45DHqDXqs8AMpDKR5W88hFzxjtjNM07wZc2lrpun3Wqi40/TrhrmONYQryOSxVWOfuqXzxycDNMA0jxko8P2MmorNeX80ElzKltGoKxq5XeQSBjjGBknsKm8Qa/qFhpMWuaRPY3Ng/kmOBo233AdgPlYHrggjjsaqReA/spspYbi1uZre1e0dby1DxyIZC4IHUEE9utW7zw3qEuvWd5b3VmLKxjVbSxe2ISB+hkAU/exwM8KOnNAHVZ5paavv1p1AAa5j4dqYvBNtbn/l1nuLZfZY5nQD8lrpjXM/D1jJ4Ojn7XF3dTr7q9xIwP5EUAdPRRRQAUUUUAFFFFABRRRQAUUUUAFFFFAHK3T/2Z8ULGZsiLV7F7UnsZYj5iD/vgyflXVVzvjPSrnUfD/naYoOp6dKt7Zj+9InOz/gQyv41p6Jq1vrujWmp2LZguYw4B6qe6n3ByD7igC/RiiigBMClwKKKAE2j0owBS0UAJtHpWb4h0xdZ8NalprdLu2kh/76UgVp0YoA8D0i5a70a0ml4lMQSVe6yL8rA/iDVyrHiLSz4c8b3llt22epk31megDn/Wxj8cN/wKq9fMV6fs6jTPMqR5ZWDuK6T4W2puNe17Vcfu08qwjPqUBd8f8CfH4Vyd/efYLJ51QyycJDGvJlkJwqge5Ir1nwVoB8NeE7PTpSGuQplunH8cznc5/M/pXZl1NuXOb4eOrZv0Yz1oor2zsEwPSjAFLRQAm0elG0UtFABRRRQBy/xAuGHg+4sIyfP1WRNPiAGcmVtrY+ib2/CukijEMCRJ91FCr+ArlN3/AAkfxGXZ82n+HVO49Q95IvT/AIAh/AvXX4oA85+K1t5MmhavjCw3LWsreiSrgf8Aj6pXK4wcHrXrPirQo/Evhi+0qQ7DcRkRyY/1bjlW/BgDXjmn3Mlzaf6VH5V3Cxhuoj/BKpww/Pkexrx8wp6qoceIj1LVFFFeScwUUUUCCiiijQAxSFQ6lW+6wIP40tFO9tRmX4cYjREtpP8AWWcj2zjv8p4/NSDWpWSx/s7xLvP/AB7aoAM9lnUcf99L/KtarqKzuN9wrW8AWpvviNLcAHy9L0/aW7eZMw4+u1P1rFubiK0tZbi5bZFEhdz6ACvRPhpok2leFvteoR+Xf6rIbydT1QMPkT/gKgD867cvp80+fsb0ItyudeOlLgHtRRXunaGBRgUUUAGKMCiigAwKKKRvu+lAGV4q1X+xPCuo6iP9ZBbsYl/vSEYRfxYgfjTvDWmf2N4X03TScm1tY4iT3IUZP51h+IH/AOEg8X6d4eiO62sWXUtRx0wp/cxn3L/Nj0QV169KAFooooAKKKKACiiigAooooAKKKKACiiigAPSuJaT/hBfEkkkmV8O6xPuZsYWwu26k+kch/J/96u2qC9tLe/sZrS8gS4t5kKSRSDKup6g0ASr1p1cPHe33gBltNWM174a6W+okF5LAdkm7lOwk7dG9a7K2miuIVnt5VlikUMkiMGVgehBHWgCaiiigAooooAKKKKAOc8Z+GB4p0E28TiC/t28+yuCP9XKOmf9k8qR6GvKrS5adZY7qE2t5bOYrq3fgwuOv/AT1B7ivcbu8trC0kur24jt7eJd0ksrhVQepJry3XvDtx8Sb463o9ktlZwxiNXu90baygOfLdRysXXDH5jn068mJwyrrzMqlNTF8AaCfEOsReI7pT/Zdkx/s5CP+PiXoZsf3R0X1OT6V6svWsHwz4jsNVQ6els2l6hZIEn0uYBXgA4GAOGT0ZeCPTpXQZrenTjTjyxLjFRVkFFFFaFBRRRQAUUUZoAK5zxTr1xp0UOm6Mi3GuahlLOFukY/imf0RRyfU4A5NJrvilLC8Gk6Nb/2nrkozHZxt8sQ/vzN/wAs0+vJ6AGpPDnhptIkm1DUrk6hrV6B9qvGGAAOkcY/hjHYd+p5NAFrw5okPh3RYdPgZpWXLzTv9+eVjl5G92JJ/StaiigBD/WvL/iJ4ffSNSfxVYRlrSYBdViQfdxwtwB7DhvbB7V6jTJEEiFHUMrAgqwyCPQ1nUgqkXFkyipKzPEgyuoZGDKwBVh0I9RRWl4m8G3XhKSW+0SCW70JiXktIwWksSepQfxR99vVe3FZNvcQ3dus9rIssLjKuhyDXztehKjKzPPqU3BklFFFc5mFFFFABRRRTArahYxajYyW0xKhhlXU4MbDlWB7EGodLvpbkSWl6AmoW2FmQDhx2kX2b9DkVfJCqWYhVUZJJwAPWq1l4Uv/AB/Mk2jyGwtLcMBq5BHnHGDFGOrIe7dPTmuihTlW9z+kaQg56Gn4W0I+MNeVpU3aJpkweZ/4bqdTlYx6qp5Y9M4HrXsiZwc1yfg/WbK1hh8MXOnpoepWabFsM/u5VH/LSF/+Winr/eHcdz1or6CjSjShyo74R5VYWiiitSwooooAKKKQ9DQAprG8Sa/H4f0wSrE11e3D+TZWaH57iU9FHoO5PYAmo/EHii00IxWwjkvtTuci10625lmPr/sqO7nAFVdA8PXa6i2veJZVuNZlTZHHGSYbGM/8s4ge/wDefq2PQAUAWfCehS6Lp8r6hKtxqt9J9pv7gDh5SPur/sKAFA9B7mt6kUYpaACiiigAooooAKKKKACiiigAooooAKKKKACiiigBrqHQqQCDwQRwa5OTwfd6NM9z4IvU03e26TTbhS9nKfZRzET6px/s111FAHIp41k0zEXi7RrvSGHBuY1NxbN9HQEj6MBW/pmuaVrEe7SdStLwYyfImV8fUA8VeYZGKxNQ8GeHNVk33+iWMr/3/JAb8xg0AblFcuvw90OLP2c6lAv92HVLhAPoA/FDfDzQZT/pQ1C6H9241K4kU/UM+DQBran4i0bRVJ1bVLO0IGds0yqx+i5yfwrDbxld6t+78H6HdX+7peXim2tl98sNzfQLWrp3hLQNJbfp2jWVu56usILH8TzWxg0Acpa+DZb+7iv/ABlejWLmJg8NqqbLS3b1WP8AiYf3mz7AV1W0hcLgemO1OooAxdd8L6d4hWJr2N47m35t723fy57c+qOOR9OQe4NZK3Pi7w5hb61XxLYr0ubTEV2o/wBqM/K5/wB0gn0rsKQjIoA52w8eeHLyTyZNRSxue9tfg28gPph8Z/DNdErK6hkYMpGQQcg1WvdNs9RiMeoWcF0hGNs0YYfrWC/w58L799tpgsn/AL1lM8B/8cIoA6imSzRwRNJPIscajLO7AAfia5w+AtJIwbrWcdx/bFz/APHKIvh34WjkEkukRXUgOd927Tn83JoAS68f+H4ZjDYXT6vddrfS0NwxP1X5R+JFVjF4t8S/LKV8L6a33hGyy3sg9M/ci/8AHj9K6m2s7ezi8u0gigj/ALsSBR+lT0AZeieHtO8PWbW+lWwiEjb5ZCS0kz92dzyzH1JrUoooAKKKKACiiigBrA9q4jxB8NLO/uJL/wAPz/2NqDndJ5aboJz/ALcfTP8AtDB+tdzRUyipK0hNJqzPD9Rsdd0AsNf0abylP/H5YAzwkepA+dfxFVbTU7C9JFneQTMOqK4DD6r1H5V7zj5qydT8K6BrP/IV0ayuz6ywKSPxxXBUwEJO8XYwlQi9jyfafQ/lRsb+6fyrvX+FPhBm3R6bLB/swXk0Y/IMBSD4UeEh96xuZPaS/nYfkXrn/s6X8xn9Xfc87ur20s03Xl3Bbj1lkC/zosXv9bcJ4c0m71EnpOVMMC/WRsZ/AGvWdO8EeGdJkD6foVjDIP8AloIAW/M81uKoUAKAAOABW0MvgneTuWsOluedaP8AC03Dpc+Mrpb4qQy6bb5W2U/7WeZD9cD2r0KKJYYljiRUjQAKqjAUdgBUtFehCEYK0UdCikrIy9a8P6b4gshbaparMqtujcEq8TdmRxyp9wawvJ8W+Gvlt2XxPpy9EmcRXsa+m77kv47SfeuxpCOasZzNp4/0CWUW+oXT6RdZwbfVIzbt9AW+U/gTXSQzRXEQkgkSVGGQyMCCPqKjuLSC8iMd5BFPGf4ZUDD8jWBL8PPC0jl4tIitZCc77R2gP5oRQB01IzqilnYKo6knArmh4B0kAAXOsADoBrFzx/4/TV+HPhjfvudN+2t63s8k/wD6GTQBLf8Ajvw5YyeQupR3lyeFtrEG4kJ9MJnH44qkbvxd4j+TT7VfDdi3W5vAJbph/sxA7U+rE/SulstMstNhEWn2dvapjG2GMIP0q1jmgDH0Hwzp/h8yPaxyTXc//HxfXL+ZPOf9pz29hgDsK2aKKACiiigAooooAKKKKACiiigAooooAKKKKACiiigAooooAKKKKACiiigAooooAKKKKACiiigAooooAKKKKACiiigAooooAKKKKACiiigAooooAKKKKACiiigAxRRRQAUUUUAFFFFABRRRQAUUUUAFFFFABRRRQAUUUUAFFFFABRRRQAUUUUAFFFFABRRRQAUUUUAFFFFABRRRQAUUUUAFFFFABRRRQAUUUUAFFFFABRRRQAUUUUAFFFFABRRRQAUUUUAFFFFABRRRQAUUUUAFFFFABRRRQAUUUUAFFFFABRRRQAUUUUAFFFFABRRRQAUUUUAFFFFABRRRQAUUUUAFFFFABRRRQAUUUUAFFFFABRRRQAUUUUAFFFFABRRRQAUUUUAFFFFABRRRQAUUUUAFFFFABRRRQAUUUUAFFFFABRRRQAUUUUAFFFFABRRRQAUUUUAFFFFABRRRQAUUUUAFFFFABRRRQAUUUUAFFFFABRRRQAUUUUAFFFFABRRRQAUUUUAFFFFABRRRQAUUUUAFFFIehoAr3eo2djt+2XUMG8/KJZAu76ZqT7TETGN65kGUG4fOPUetcT4pMy/EHTDbaImsuNIu/wDRnkRMDzIecvx7Y96wtAX7Na+E57Bt7NDqc8UIBC27EA+SAeyn5fwoA9Jutc0qxultr7UrO2nf7sUs6qx+gJzVsTRtI0aurOgBZQwyAemR74NefaLPa6L8KrTxBBpC6zLPai+1GXfGJHfbvkYs3UggjHbGB0qza3Wqn4g67Jo1lbzpLY2Lv9onMZXiXAGAfegDsZ9V0+12/ab62h3MVHmSquWHUcnqKdaahZ36sbG6huQhwxikD4/KuA0y2W9+H/iltVtIGuFvdRJUjeEbcc7SR9Oa63wna29t4U0s20EcReyhL+WgG4+WOTjrQBsCaMu6B1LoAWUHlc9MiqtprOmX9xLb2OoWtzND/rI4pldk+oByK858Y3MtveeMTFI0SSx6XDcSo20xwvI6uc9vlJGe2a2PG+mWOj6LpF3o1pDa31jqFtFp5hUITvcK0fHVWUnI70Adob23GMzxjdJ5Q+ccv/d+vtUnnIJhEXUSEZC55I9cV5Ne6VFrdrDp0zvCJvGN5smjba8UixzMjqfUMAfwrY8P6xcar4606PVUWPVrCxuLW+jHHzhkxIB/ccYYH3x2oA9EooooAKKKKACiiigAooooAKKKKACkZlRCzkKqjJJOABS1leKf+RP1nPA+wT/+i2oAnh1rTLksLbULWYopdgk6ttX1ODwKtNPGiqzOoVyApLAAk9MfWvPI0uD8K7v7RoVvp6/2JxNFKjGQeWP7oyPWtHxA6P4V8MbSG36hYFMfxdDx+AJ+lAHZpNHJu8t1fY21tpB2n0PvRHKkwYxsrBWKkqQcEcEfUGuZ8GDE3iPH/Qcnz/3xHTvApxpOo8f8xi//APSh6AOhu7y3sbdri9njt4UGWklcKq/Unio7fUrK6svtlrdwTWuCfPjlDJx1+YcVy+qxx6l8VNLstTRZLS302W7tYZBlHn8xVZsHgsikY9N5rnvFtvFp2seLrbTUWK3u/DEt1eRRcKJhuVXx2YrkH120AentPGgUu6qHICknG4noB61SHiDRycf2pZZzjH2hevp1rA8VOrWHhbawIbWLPaQevBPH4Uz+ydO/4WrgWFtj+yC3+pXr5w56dfegDpzq+nC6+ym/tftG7b5XnLv3emM5z7UseqWMt19lju4GuB1hEqlx+Gc1xfg2C7bVNXdNMsZbf+3Lom6dv3ow/UDHbtzXMuhl06S3n0mOC2l8St/xPNys0D+eCCFHzAkjZk8fNzQB7G7rHGzuQqqMsScACq93qdlYWour67gtrc4xLNKqKc9OScVR8Vn/AIozW8nH/EvuM5/65tXJ+GIY9S8ZIupRJKdO0KyawjkG4KJA3mSKD3JULn0HvQB3sd9ay2qXUVxE9u4BSZXBRsnAwenWnpcRSSyRxyI7xkB1VgShIzgjtXlWrW8dhe+K9N05Fj05L3SrgwocLDPJcRlwB0GQFY+5qdjNoPjLxB4qtFd4YdRS31SJT962MMeJQPWNjknuu6gD0+KWOZd0Tq65IypyMjg0+uY+HpRvCrPE6yRvfXbK6HKsDO5BB9K6egAooooAKKKKACiiigAooooAKKKKACiiigAooooAKKKKACiiigAooooAKKKKAKj6ZayatFqTIftcMLwJJuPCMVJGOnVF/KqVp4V0mxuYJ7W3ZJLeaaaL94xCNMQZMDOMHHTtWvzS0AcxP8PtDmW6ij+22treFmntLW9kigkLfe/dqQPm7461tWukWdlfXF5bRbJ7iOOKVtx5WMEIMdsbjV2igDOj0LT4rG9s44SIL6SWS4XefnaT75z2zntViKwhg01LGDfFDHEIU2OQyqBgYPXOO9WaKAMbT/Cmk6fZ3tuIZLoagf8AS3vJWnecY2gMzEkgDgDoKgsPBWkafeW1wv2u4azB+ypd3ckyW/bKKxIBxxn04roKM0AZSeG9MjkjdICGjvXv1O9uJnDBm6+jtx05p/8Awj+mjxH/AG8tsF1I2/2ZpwSC0ec4I6Hnv1rRzRzQAtFJmilcBaKM0UwCiiigAooooAKKKKACobu1ivrGe0uV3w3EbRSLnGVYYIyPY1NSUAQw2VvDp8dkkYNvHEIRG3zDYBjBz14rF0/wRo2m3VtNCt1ILPJtIZ7qSWO2yMfu0YkLwSB6DgV0FGaAMNPCGnRalNfW82oQST3H2mWOG+lSN5OMkoG284GRii28IadZ6i93aT6hAXuWuXhjvpRC0jMWYmPdtwSScYxW5k0UAZuseH7DXEg+3LKJbZ/MguIJWilibvtdSCMjgjoaZpnhnTNLgu44YWma9P8ApUtzIZZJ+MYdmySMcY6CtbNGaAOf0zwTo+lXltcQC6lNmCtpHcXUksdsCMfu1YkLxx7DitX+zLX+1v7T8s/a/I+z79x+5u3Yx061booAwYfB+m22pSXttNqEDy3JupIo76VYmkJySU3bcEjkYwasSeGNKl0m50x7cm1uZzcSJ5jDMhcPuBzkfMAeK1c0tAGTrfhuy8QQpBqUl0bccPBFcvGkw9HCkbhx0NJqnhjTdVmtZ5Vmt7i0UpBcWkzQyIh6puUg7eBx0rWzRzQBjQeEtHg0d9NS2YwSTrcSs8jNJLKrhw7uTuY5VeSe2Ku2+k2dtJevFDzfSebcBiWDttC9D2woGKuZozQBR0TRLDw7pMWmaRB5FpCWMce4tt3MWPJ9yav0UUAFFFFABRRRQAUUUUAFFFFABRRRQAUUUUAFFFFABRRRQAUUVgeIfE8ejTw2FnbvqOsXQJttPhYBnA6uxPCIO7H8MmgDZubqGzt5Li7njggjXc8krBVUepJ4Fcv/AMJvLqrFPB+j3OsDp9sc/Z7UH2kYZf8A4CCPei18Hyancx6j43uE1S6U7orJciztT/sofvkf3359AOldaqqqBVACgYAAwBQByn9m+NNR5vtesdKUjmLT7TzT/wB/JD1/4DTx4Mmcf6R4r8QyN3xcxoPyVBXU4ooA5f8A4Qkqcx+J/ESH2vFP80NRnQPFNjk6X4tNwoORFqdmkmfYum0/pXWUUAci3ifX9G/5GXw68luDze6QxnQD1MRw4H0zW7pGuadr1n9q0i9iu4c7WMZ5Q+jKeVPsQDWjXO614PsdQvBqWnyyaRq4Hy39nhWb/ZkXpIvs34Y60AdCKCcGuS0/xVdaffJo/jVIbG9ZSbe+jJFreBRklSfuOByUb8CRXK698QL/AMQM1r4Vmex0wEq+plf3tx/1xB+6v+2fwHes6lSNNXkyZSUVdnbeIfG2ieGWEWpXm+7YZjsrdfNnf6IOfxOBXHXvxJ8RXxYaPpFtpkPabUJDJIffy04H4muatLC2sd5to8PIcySsS0kh9WY8k1YryKmYSekFocsq76Es+s+Krxt114puoj/dsreOFR+YY1X83V8fN4n1wn1+1L/8TT6K5Xiaz+0zH2s+4sWoeJLZgbbxZqeRyBcLFMv45UH9a1bTx94usGBu4tN1mLqQgNtKR7dVrJoqo4ytHrcpVpo77RfiXomq3CWd6ZdHv3IAt79Qm8+iv91vzz7V2CnPWvDZ7eG7t2guokmibrHIoINW9E8Raz4RZVsnl1XSF+9YTPulhHrC56j/AGG/AivRo46M9J6G8K6ejPaaKzdC1zT/ABFpMeo6Tci4t5OM4wyMOqsDyrDuDWlXonSFFFFMAoorH8Q+JNP8L6Yb3VZiAW2RRRjdJM56Ii9zSbtqwNVm2qSSAAMknsK4vV/ijo1nO9royza5dxnDJZYMaH0aU/KPwzXEazq2seLnb+25GstOJ/d6VA/BHrM4++f9kfKPeo4o44IligjWKNBhURcAfgK82tjlHSGpzTrpaI1rrxz4xv2zC2m6PGeirGbmTHuSQuay5L3xDOxNz4s1YknOITHEv4YX+tFFefLF1pdbHO6s2N83Vwfl8T64p9ftSn/2WrEGueLLNs2viiabtsvrWOUH8V2moaKlYqsn8Qe1n3N+x+JuuWTBdd0WK+hH3rjS5PmA9TE/X6A12nh/xfovidW/si+SSZBmS2kGyaP/AHkPI+vSvLKrXVhBdypO2+G5iOYrqBiksR9Qw5/Cuylj5XtUNY4hp+8e8KcrzS15f4c+Id5pc8On+MJBLbyMI4NXVdoBPAWYDhSf744PfFW/E/xFma5m0nwf5c1xGdtxqMg3wW5/uqB99/boO/pXpqtBw576HTzxtc6/XPEuk+G7UXGtX0VqrHEaty8h9FUcsfoK4i++KOp3mV8OaH5UR6XWqP5efcRLlvzxXJxWKLdve3Mkt7fyffvLlt8h9geij2GBVmvNq5g72gc8sQ/sk9x4g8XXx/0nxIbYf3NPtETH/Am3Gqpl1hjl/FGuOe5+0qP0CU+iuJ4qs/tGDqTfUSO71+E5g8WawuOgkeOQfkUrRtvGnjOwIJu9O1WMfwXMBt3P/AkJGfwrPopxxddP4hqrNdTs9N+K+mPIkHiK1n0OZjgST4e3J9pV4H44ruoZUniWWF1kjcZV0OQw9QR1rxFlDqUYBlPVSMg/hTdKudU8LT+d4YnCQZ3S6ZOT9nl/3f8Ank3uOPUV6FHHpu0zohXvoz3Oiue8LeMLDxVZySWu+3urc7bqynGJYG9x3How4NdCOlemmmjpCiiimAUUUUAFFFFABRRRQAUUUUAFFFFABRRTJpEiieSVgiIpZmJ4AHJJoAxfE/iBtFt4YLGEXerXz+TYWpOPMfHLNjoijlj6e5FM8M+Gl0OKe4up2vdXvCHvr9x80rdlX+6i9FUcAe+azvB0Emt31z4wvkYNfL5OmxuP9RaA/KfYufnJ9NvpXYjpQADpRRRQAUUUUAFFFFABSNSmuD+J+uy22n2+gabMYr3VtyvKp5gt1/1jj0JyFHu1TKSirsTdldnJeNtaj8f3M2lplvDdtIVYjrfTKeoPZFI4x94j0rE065mtrr+ytQffKi5tp8Y8+Mcf99L0I/GtGGGO3gjhgQRxRqFRAOFA6Cquq2DX9niBxHdQsJbeT+5IOn4HofY18/VrutLXY8+U+d6l2iqum3y6lp8Vyq+WzDEkZ6o44ZfwINWq5GrOxmwooopCCiiigAooooAbY6je+F9XbWdHRpVfH2+xU8XSD+JR2kHY9+hr2bSdUtNa0m31HTZlmtblBJG47g/19q8c/StbwBq/9g+KW0WVtunauWltQTxFcgZdB7OPm+oPrXrYHEv+HI66FS+jPWaKQUV7B1mZ4g1yz8OaNcanqTlYIVyAoy0jHhUUd2JwAPevHpZr/WtWbW9ex9tcFYLcHKWUZ/5Zr/tHu3UnjpWn4w1c+JfGLwxnOm6JIY4x2lusfO/uEHyj3LH0qjXjY3EO/s4nHWqa8qCiiivKOUKKKKACiiigAooqlq189hp5aBd9zMwit0/vO3T8ByT7Cmld2HYq6hJJq91JpFq22BVAv5gM4U/8sx/tEdfQVHZovhuaHTwMaVK2y1Y/8u7n/lmx9D1B9eD2rR06xXTrBLdG3tktLIRzI5+8x9yaku7SG+s5bW6XdFKu1h3HoR7jgitedfB0Kv8AZ6E2MHvn3orO0a5mkgls75s3lk4ilP8Az0GMo/4jH45rRrKUeV2EFFFFIkKKKKACiiimBA63VtqEOq6PMLbVLUfu5D92VepjkHdD+h5FeteFPE1v4p0Rb2FDBMjGK6tnPzW8o+8p9fUHuCDXllO0jVj4V8UwatnFjeMlrqSg8AE4jl+qk4J9DXpYLEcr9nLY6aNRp2Z7dRSAjHB4pa9s7QooooAKKKKACiiigAooooAKKKKACuW8evJcaPbaJbsyS63dJZFl6rEctKR9I1auprlb91u/ippFqxyLHTri72+jOyxqfy3/AJ0AdPBFHb28cMCLHFGoREUYCgDAAp9IOlLQAUUVSm1iwt9Xt9MmuUS8uY2liiJ5ZVKg/qw+vPpQBdpMis7U9btdO0TUNRV1uVsIHnkjicFiFUnHseKbda3aW+iXupKyzLZ2zXEkUbgsAELYPoeKANMEHpS1TttQt7i3tnMiRNcxrJHEzgN8wz071Autwf8ACSDRmguFnMBmWVoiI3AIBAbuRuHSgDSNeJanfHWvGmtamxzHHN9gt/aOLhsfVy35CvZ765WzsJ7p/uwRNIfoAT/SvBtAVh4fsmkOZJI/Nc+rN8xP5mvOx8+Wnbuc+IdomgOBR9ODRRXhHCZNoPsfiW9tR8sV5GLuP2cfK4/ka1qytV/dazotx/03eA+4df8AEVq1pLWzKl0YUVFcXMNqitcSLGrOEUsepPSpAys23cuSM4zzj1qLOy0FZi0VXsLyO/gDx/IWd0CsRk7WKn8MjNFlepe2YuU/doXZPnI6g4PPvinyy7BZosUVVvL+OxG6eOYxgbmkSPKoPUmrQIPTB9x3pWaVw1CqWrJN/ZzXFmdt3aMt1bt6SIdw/PGKu0AZYA9DwacZcslJAnZ3PY9I1GLV9Fs9Rt/9VdwJMo9AwBx+tUvFms/8I94S1PVVGXtrdmjHq54Qf99EVi/Ci4Mvw/trduTZTzW2T/syHH6EVV+LVwP7A03T8n/T9SiRh/eVcuR/46K+ocvc5vI9O/u3OD0y0NhpsFu53SKu6VieXc8sfrkmrVKTkkmkr5eT5pNs8x6sKKKhubuC0EZuZVjEjiNSe5NJJvYRNRSK6GQIHXfjOM849cVW06+j1G2jlj+QybsRlgWGCR0p8rtcdmWqKq2V/FeWS3JxCrOyAOw6qxX+lOub2O1nghkVybhxGrBcqCemTRyu9rBYsVlH/TfFYB5i02DIHYyyd/wUfrWr14HSsrQcSf2ldHkz38gz/sphR/KnF2TkNbGrRR2FFQSZV7/ofiKxuxwl2DaTD3xujP5gj8a1ayvEw26FJOPvW0kc6n/dcH+Wa1jgk46VpLWKZXS4lFMmmjt4HmmYJHGpZmPYChJo5I0dJEKyDKHcPm+lTyt7CsPoqvFeJLeXNv8Ada2ZFJYjDFhkAUQXiT3V3AAwNq6q5PQ5GePajlfYLMsUVDPciCNXWKWfd0ECbyR6/SltriK6to57dt8UgypAxRZ2uFiWo7m2jvLWW2nG6KZDG49jwako75pJ2dw21PRvhzq0ur+BrJrxt93alrS4b1eIlc/iAD+NdVXnHwqmMd74jsR0W5iulHp5kYB/VCfxr0evqKUuaCZ6cXeKYUUUVqUFFFFABRRRQAUUUUAFFFFABXIrx8Z58/xaBHt98XD5/mK66uW1jFj8RvD18wAW8gudPZv9ohZUH/kJ/wA6AOpHSikHSloAK5fWbCT/AITfR9Ri0oXix21xCZginyXJjaMsTyB8rcjOM+9dRTdvNAHljaHrt7Dqc0mkvbXN9oNzbypHFFFH57Z2oNpy3JOGb9M1buNAubuO5/sjQJNL2aFcWkynYpupWTCR4BO7BGdx9fc16QFPrRtoA81PhjULjU5odQjvY45xatbz28EUhgCRRqyh2O6Mh1Y8cYORySK7G4s7h/Gun3axMbeKznR5OyszRkD17H8q2dvOSfypQMUAZnidWfwjrCp95rGcD6+Wa8Y0kg6LYlen2ePH/fIr3e4iWe3khkGUkUow9iMV4HoaPBo8VrLxLZs9tIPRo2KH+VeZmMbwTObEL3TQooorxDiMrXOZNJHf+0Y8fkc1q1lah+/8RaRbjkRGS5b22rtH6mtWtJaRSKexm65b/aLGI+R54iuIpCgXcdobnAPtVS6S5m1SJ47V4jFdx7CkQ+aLHLFuvtt7Vu/zoycYzTjU5Vaw1KxzdrYyLDDElnLDeC/ab7QRwqeYSfm9x2psVndR21t9oicQKZwyeQJNrM+VO30255rpqP8A9VV7Z9g5zDumeOyt9LeG7mgaIefOISSy5+5x0J7+grbXBUbRgY4BGMfhTqSs5SutBOVwpR94fWkpGkEQMjHCopY/Qc1Fr6C3Z23wj/5FW/PY6rckf99CqHxbBF74VbHyjUJAfqYWxW58L7NrT4d6a0i7ZLoPdP7+Y5YH8iKqfFm33eDo78DnTb2G5Y9wu7a36NX08ot0XHyPRa9yxxFFKwwxHvSV8yeaH0rP1i3M8NrItv8AaBBcpK8YUE7RnOAetaFH+fpTi3F3Q07GJNFeS6xby/ZmQRXinKIoDRbSMlupPPSq+n6dLFa2EP2JoLmC5MstyQMBNzE89TkHGK6MUVq6r7Fc5zMGm3kUUH2mOXytkyGNIlk2FpSc4b1U9RWpPZyC10uGLzJfIuImdnPzbQMZNaVFKVVsXNcVeXHuevrzWR4a/wCQRID1F3Pn/vs1rZxz3rK0UeTeatZnjyrwyKP9mQBs/wA6hfBJAtmatFFFSSZniUj/AIRfUf8Arg3+fzrST/VqP9kfyrK8R/vNKS0X715cRQ49i2T+gNax61b+BfMp7FbU4DdaVdQKgdpIWVVPc44rEvoprjS1ggsZIVFp+7IgG/ze68/c6Zz3zXSUfTiiNTlVgUrHOT2bPPqrz2Es0t1HEsDhejiPBOc/KQe9Eljf77okO4NxA8hCbvOVY8MQP4hu7V0f0o4q1WfYfOYolm07TttqlzM9zKdpFvgQZ6nYOQOMgetaOnRxQ6dBHbpIkSrhRKu1vckepPNWQaKiU7qwm7hRRRWZPQ6L4YZ/4SzxGewtrMfj+9/xr06vO/hRbl49f1Ejie/ECN6rEiqf/Ht1eiV9RQVqUUenTVooKKKK2LCiiigAooooAKKKKACiiigArnPHNhcXnhmSfTk33+nSJfWq4+9JE27b/wACAK/jXR0h60AVNK1S21jSbXUbFt9vdRLLGfYjPPv2q5XGaQf+ER8Uy6DP8mlapI9xpchPyxynLS2/tzl1HcFh2rsx0oAKKKKACiiigAooooAQ1414n086J8QL+3Axb6qv263/AN8YWVfz2t+Jr2Y1ynj/AMMy+ItAVtOwNVsH+0WTnjLAcoT6MMr+NYYil7Wm4kVI80bHnVAGTUFleR39qs8SsnJV424aJhwyEdiDkVU1i6lCx6dYti9u8hGH/LKP+KQ/QcD3NfN8j5uVnm8rvYj0s/bdUv8AU+seRa25PdEPzMPYtn8q1vpUVrbRWVpFbWq7YYVCIPYdKlonJOWg2FFFFQSFFFFABRRRQMKqahbzaiLfR7M/6TqkwtUI/hU8yN9AoJq2SFVmYhVUEsxOAo9a6X4Z6K97dS+LLyMrHIhg0xHGCIc/NLjtvIGPYD1rrwtF1amuyNaUOaR6La20VpZw21uuyGGNY419FAwB+QqtrWlw63ol7plz/qruBoWPpkYz+HWry9KCK+isegeCaY832H7PfDbeWbtbXK+kiHafz4P0NXK3PiNo39ia4viW3XFhebIdRwOIpBxHMfbojf8AAT2rDPFfOYmi6VR9jzqsOWQUUUVymYUUUUCCiiigArKusWHiO1vDxDeJ9kmPo4OYyf1FatV9Qso9Q0+W1mJVZB8rjqjDow9wcVcXZ69SkWPrRVDSb6S6t3hvAEvrU+XcJ6nsw9mHIqTUtQGnWZlC+bKx8uCFeskh6Af19AKOV81hW1Krn7f4oRBzDpkZdz286QYA/Bc/nWrVPSrA6fY+XK/mTyMZbiX+/I3X8B0/CrlE2m7IG9bBRRRUCCiiigAooooAKr6he/2fp811t3tGP3aDrI5OFUfViKs4z05PpV7wZov/AAk/ihb2Vd2k6NLncfu3F0OgHqqDk/7RHpXRh6LqzS6GlOLmz0PwXoR8O+DtP02XBnSLfcH+9Kx3Of8Avomt6kHNLX0qVlY9LYKKKKYBRRRQAUUUUAFFFFABRRRQAUUUUAZmvaHZeINJlsNQVvLfDLIjbXhdTlZFPZlPINY+h+Ibuz1CPw54qZY9Vwfst3jbFqKD+JfR8feT8RkV1RAPWs/WtD07X9Oex1a3WeEkMvJDRsOjKw5Vh2I5oA0RRXGLeeI/CH7vUY5vEejr927gQG8gX0kjH+sA/vLz6iuh0fxBpev25m0e+hu0X74RvnQ+jKeVPsRQBpUUUUAFFFBoAMZprDpUF7fW+n2j3N9cQ20CDLSzOEUfUmuWfxVqPiTdB4Js90JOG1m+Qpbp7xrw0p+mF96AOW+JOlJo2sR6r4fj+06lqBPn6NFy93gf65QPulR94ngj3xnltCgjkt21Bp1u7u75mmUYC4/5ZgHkBemOuete0eH/AAvaaG8100st/qd1g3OoXJBll9AOyoOyjAH61geKfh1Hf3kuq+G5007U5OZo2XNvdn1dR0b/AGxz65rhxOFVRXhozCpT5tjis5oqtc3U2lXYs/EdpJpNyeFMxzDL7pKPlP0ODVnB4PZuh9fpXhzpypu0kcUoyjuFFFFZkhRRRg54pgFBIAJJAAGSScYFVJtRhjuxZwrLeXzcJZ2q+ZKT7gdPqcV1Oh/De91eRLrxntgtAQyaRBJuD/8AXZx97/dHHrmumjhalV9kawpSkZPhvw3N44vEkmVo/DcLZkk6HUGB+4v/AEyB6t/F0HFeyxRJFGscahEUBVVRgADoBSRQxwxJFDGsccYCqijAUDoAPSpAMV79KlGlHlR3xioqyADFGKKK1KIbqzt720mtbuJZoJkKSRuMq6kYIIrxjXdCuPBF8La4Ly6HK22yvWOfIPaGU9v9lu/Q817bUF3Z299aS2t5BHPbzKVkikXcrg9iDWNajGrG0iJwU1Zni3fHeitjWvh7qmglp/C+7U9OGSdNmf8AfQDr+6c/eH+y3I7GudttRtrqdoFZorpDh7SdDHMn1U8n6jivAq4adJ6q6OGdOUWWqKOnB7GiuYyCiiigAoHHSkPyqWYhVHVicAVBYSXmvXBtvC9k2pyg4e4zstoj/tSd/ouTWkKUqjtFFRjKT0KGuILTytTtXEd9HiKNMZ+1gn/U4HJJPTHQ03Sllv8AUJr7VI2t763Ywiwk+9Yg9dw/vH16Y6d69W8J/D+20S5XU9WnGp6xjiZlxHb56iJf4f8AePJ/SrHizwPZ+JnW7ilbT9ViXbDfQgEkf3HXo6+x6diK9ZYKXs9/eOr2Pu+Z51RUepxan4al8rxRZG3jzhNQtwXtpPx6ofZvzp0bpNEJYXWSNhlXRgQfoRXlTpTpv3kc0oSjuOooorIgKKKKACj6DNVrzULWwKrdTBZH/wBXEoLSOfRUHJra0bwTrniQrJqol0LSm5MWf9LuF9OOIh/499K6KOGqVXotDSNOUjM0/Tr7xVqj6VojmKGJtt/qQ+7bL/dT+9KfyXqa9k0jSLLRNJt9O02EQW1umyNB/MnuT1J7mjStJsdG0yGw0u1jtbWEYjijGAPf3J9augYGB0r36NGNGNlud8IKCshQMDAooorcsKKKKACiiigAooooAKKKKACiiigAooooAKKKKAE2gdqwtW8HaJrN19qurMQ3o+7eWrmGYe+9SD+db1FAHKL4f8S6fgaR4reeNTxDq1qs/wCG9Sjn6kmnrP46hbbJZ6Bdjs63M0GfwKP/ADrqKKAOYa58cvwmmaDF/tNfTPj8PKFMOl+Mb7AvfEllp6fxLpthlv8AvqVmH/jtdVRQBzFp4D0ZLpLvU/tGs3i8rPqcxn2/7qn5V/ACumCgKAAAB0HpS0UAGKMCiigCC8srXULV7a+t4rmBxho5UDKfwNcVe/CfRmZn0O7vdEcnOy1k3Rf9+3yo/DFd5RUyjGXxITSe55ZP8N/E0Gfsms6beL2FxavEf++lYj9Kr/8ACC+Mx/yy0I+4u5h/7Tr1qiud4Sg94mfsoPoeUxfD3xbN/r77RrMesccs5/UrWna/CeCTB13XNQvx3hhItoz7YT5iPqTXolIOtVHD0o7RKVOC6Gdovh7SPD9t5Gi6fb2cZ6+UmC31PU/jWjgelLRXQWFFFFABRRRQAUUUUAGKydc8L6L4ihCa1psF2VHyu64dfow5Fa1FJpPcDzq6+FAiz/YfiG+tV/hhu1W5Qfi2G/8AHqzJfh94vibEN3ot2P7zLLB+g3V6xSVhLD0pboh04PdHkv8AwgvjM8eXoY9/tUp/9p1Zg+GniO4x9u12wtFPVbS0Z2H/AAJ2x+leo0VMcLRW0RKlBdDh7D4U6DFIsmsSXetyDkfbpMxg+0agL+ldrBbw2tusFtDHDEgwscahVA9gKkFFdEYqKslYtJLYMCjFFFUMa8UckbJIiujDDKwyCPcVxupfC3w7eStcafHPo1yxyZNOk8sE+6cqfyrtKKTipboTSe55fP8ADLXoM/2f4htblB0W9s8N+LIwH/jtVP8AhBPGikjZobj+99plX9Nhr1qiuZ4Wi/smbpQfQ8oj+H/jCU4ln0S1H95WllI/DC1o23wquJiDrPiW6kX+KKwhW3U/8C5b9a9GpRVRw9KL0iNU4roYeg+DdA8OZfSdNiimb71w/wA8rH3dsmtzFFFbpJbGmwYooopgFFFFABRRRQAUUUUAFFFFABRRRQAUUUUAFFFFABRRRQAUUUUAFFFFABRRRQAUUUUAFFFFABRRRQAUUUUAFFFFABRRRQAUUUUAFFFFABRRRQAUUUUAFFFFABRRRQAUUUUAFFFFABRRRQAUUUUAFFFFABRRRQAUUUUAFFFFABRRRQAUUUUAFFFFABRRRQAUUUUAFFFFABRRRQAUUUUAFFFFABRRRQAUUUUAFFFFABRRRQAUUUUAFFFFABRRRQAUUUUAFFFFABRRRQAUUUUAFFFFABRRRQAUUUUAFFFFABRRRQAUUUUAFFFFABRRRQAUUUUAFFFFABRRRQAUUUUAFFFFAH//2Q==)"
   ]
  },
  {
   "cell_type": "code",
   "execution_count": 193,
   "metadata": {
    "colab": {
     "base_uri": "https://localhost:8080/",
     "height": 204
    },
    "id": "rRWuhZGPjh-Y",
    "outputId": "25736d54-f1c8-4bf5-890e-f68492691fa3"
   },
   "outputs": [
    {
     "data": {
      "text/html": [
       "<div>\n",
       "<style scoped>\n",
       "    .dataframe tbody tr th:only-of-type {\n",
       "        vertical-align: middle;\n",
       "    }\n",
       "\n",
       "    .dataframe tbody tr th {\n",
       "        vertical-align: top;\n",
       "    }\n",
       "\n",
       "    .dataframe thead th {\n",
       "        text-align: right;\n",
       "    }\n",
       "</style>\n",
       "<table border=\"1\" class=\"dataframe\">\n",
       "  <thead>\n",
       "    <tr style=\"text-align: right;\">\n",
       "      <th></th>\n",
       "      <th>Order Id</th>\n",
       "      <th>Company Id</th>\n",
       "      <th>Company Name</th>\n",
       "      <th>Date</th>\n",
       "      <th>Order Value</th>\n",
       "      <th>Converted</th>\n",
       "    </tr>\n",
       "  </thead>\n",
       "  <tbody>\n",
       "    <tr>\n",
       "      <th>0</th>\n",
       "      <td>80EYLOKP9E762WKG</td>\n",
       "      <td>LJKS5NK6788CYMUU</td>\n",
       "      <td>Chimera-Chasing Casbah</td>\n",
       "      <td>2017-02-18</td>\n",
       "      <td>4875.0</td>\n",
       "      <td>1.0</td>\n",
       "    </tr>\n",
       "    <tr>\n",
       "      <th>1</th>\n",
       "      <td>TLEXR1HZWTUTBHPB</td>\n",
       "      <td>LJKS5NK6788CYMUU</td>\n",
       "      <td>Chimera-Chasing Casbah</td>\n",
       "      <td>2015-07-30</td>\n",
       "      <td>8425.0</td>\n",
       "      <td>0.0</td>\n",
       "    </tr>\n",
       "    <tr>\n",
       "      <th>2</th>\n",
       "      <td>839FKFW2LLX4LMBB</td>\n",
       "      <td>LJKS5NK6788CYMUU</td>\n",
       "      <td>Chimera-Chasing Casbah</td>\n",
       "      <td>2016-05-27</td>\n",
       "      <td>4837.0</td>\n",
       "      <td>0.0</td>\n",
       "    </tr>\n",
       "    <tr>\n",
       "      <th>3</th>\n",
       "      <td>97OX39BGVMHODLJM</td>\n",
       "      <td>LJKS5NK6788CYMUU</td>\n",
       "      <td>Chimera-Chasing Casbah</td>\n",
       "      <td>2018-09-27</td>\n",
       "      <td>343.0</td>\n",
       "      <td>0.0</td>\n",
       "    </tr>\n",
       "    <tr>\n",
       "      <th>4</th>\n",
       "      <td>5T4LGH4XGBWOD49Z</td>\n",
       "      <td>LJKS5NK6788CYMUU</td>\n",
       "      <td>Chimera-Chasing Casbah</td>\n",
       "      <td>2016-01-14</td>\n",
       "      <td>983.0</td>\n",
       "      <td>0.0</td>\n",
       "    </tr>\n",
       "  </tbody>\n",
       "</table>\n",
       "</div>"
      ],
      "text/plain": [
       "           Order Id        Company Id  ... Order Value Converted\n",
       "0  80EYLOKP9E762WKG  LJKS5NK6788CYMUU  ...      4875.0       1.0\n",
       "1  TLEXR1HZWTUTBHPB  LJKS5NK6788CYMUU  ...      8425.0       0.0\n",
       "2  839FKFW2LLX4LMBB  LJKS5NK6788CYMUU  ...      4837.0       0.0\n",
       "3  97OX39BGVMHODLJM  LJKS5NK6788CYMUU  ...       343.0       0.0\n",
       "4  5T4LGH4XGBWOD49Z  LJKS5NK6788CYMUU  ...       983.0       0.0\n",
       "\n",
       "[5 rows x 6 columns]"
      ]
     },
     "execution_count": 193,
     "metadata": {
      "tags": []
     },
     "output_type": "execute_result"
    }
   ],
   "source": [
    "order_data.head()"
   ]
  },
  {
   "cell_type": "code",
   "execution_count": 194,
   "metadata": {
    "colab": {
     "base_uri": "https://localhost:8080/",
     "height": 204
    },
    "id": "gprvs-PqjiBe",
    "outputId": "5202406e-147a-4a85-91f2-e4e99692d67c"
   },
   "outputs": [
    {
     "data": {
      "text/html": [
       "<div>\n",
       "<style scoped>\n",
       "    .dataframe tbody tr th:only-of-type {\n",
       "        vertical-align: middle;\n",
       "    }\n",
       "\n",
       "    .dataframe tbody tr th {\n",
       "        vertical-align: top;\n",
       "    }\n",
       "\n",
       "    .dataframe thead th {\n",
       "        text-align: right;\n",
       "    }\n",
       "</style>\n",
       "<table border=\"1\" class=\"dataframe\">\n",
       "  <thead>\n",
       "    <tr style=\"text-align: right;\">\n",
       "      <th></th>\n",
       "      <th>Sales Rep</th>\n",
       "      <th>Sales Rep Id</th>\n",
       "      <th>Company Name</th>\n",
       "      <th>Company Id</th>\n",
       "    </tr>\n",
       "  </thead>\n",
       "  <tbody>\n",
       "    <tr>\n",
       "      <th>0</th>\n",
       "      <td>Jessie Mcallister</td>\n",
       "      <td>97UNNAT790E0WM4N</td>\n",
       "      <td>Chimera-Chasing Casbah</td>\n",
       "      <td>LJKS5NK6788CYMUU</td>\n",
       "    </tr>\n",
       "    <tr>\n",
       "      <th>1</th>\n",
       "      <td>Jessie Mcallister</td>\n",
       "      <td>97UNNAT790E0WM4N</td>\n",
       "      <td>Tangential Sheds</td>\n",
       "      <td>36MFTZOYMTAJP1RK</td>\n",
       "    </tr>\n",
       "    <tr>\n",
       "      <th>2</th>\n",
       "      <td>Jessie Mcallister</td>\n",
       "      <td>97UNNAT790E0WM4N</td>\n",
       "      <td>Two-Mile Grab</td>\n",
       "      <td>H3JRC7XX7WJAD4ZO</td>\n",
       "    </tr>\n",
       "    <tr>\n",
       "      <th>3</th>\n",
       "      <td>Jessie Mcallister</td>\n",
       "      <td>97UNNAT790E0WM4N</td>\n",
       "      <td>Three-Men-And-A-Helper Congo'S</td>\n",
       "      <td>HB25MDZR0MGCQUGX</td>\n",
       "    </tr>\n",
       "    <tr>\n",
       "      <th>4</th>\n",
       "      <td>Jessie Mcallister</td>\n",
       "      <td>97UNNAT790E0WM4N</td>\n",
       "      <td>Biophysical Battleground</td>\n",
       "      <td>7RVA8TIVBLBXMNO4</td>\n",
       "    </tr>\n",
       "  </tbody>\n",
       "</table>\n",
       "</div>"
      ],
      "text/plain": [
       "           Sales Rep  ...        Company Id\n",
       "0  Jessie Mcallister  ...  LJKS5NK6788CYMUU\n",
       "1  Jessie Mcallister  ...  36MFTZOYMTAJP1RK\n",
       "2  Jessie Mcallister  ...  H3JRC7XX7WJAD4ZO\n",
       "3  Jessie Mcallister  ...  HB25MDZR0MGCQUGX\n",
       "4  Jessie Mcallister  ...  7RVA8TIVBLBXMNO4\n",
       "\n",
       "[5 rows x 4 columns]"
      ]
     },
     "execution_count": 194,
     "metadata": {
      "tags": []
     },
     "output_type": "execute_result"
    }
   ],
   "source": [
    "sales_data.head()"
   ]
  },
  {
   "cell_type": "code",
   "execution_count": 195,
   "metadata": {
    "colab": {
     "base_uri": "https://localhost:8080/",
     "height": 306
    },
    "id": "-2Yls6YcjiGG",
    "outputId": "0e02da4e-fea3-4f15-e355-ec170999de43"
   },
   "outputs": [
    {
     "data": {
      "text/html": [
       "<div>\n",
       "<style scoped>\n",
       "    .dataframe tbody tr th:only-of-type {\n",
       "        vertical-align: middle;\n",
       "    }\n",
       "\n",
       "    .dataframe tbody tr th {\n",
       "        vertical-align: top;\n",
       "    }\n",
       "\n",
       "    .dataframe thead th {\n",
       "        text-align: right;\n",
       "    }\n",
       "</style>\n",
       "<table border=\"1\" class=\"dataframe\">\n",
       "  <thead>\n",
       "    <tr style=\"text-align: right;\">\n",
       "      <th></th>\n",
       "      <th>Order Id</th>\n",
       "      <th>Date</th>\n",
       "      <th>Meal Id</th>\n",
       "      <th>Company Id</th>\n",
       "      <th>Date of Meal</th>\n",
       "      <th>Participants</th>\n",
       "      <th>Meal Price</th>\n",
       "      <th>Type of Meal</th>\n",
       "      <th>Heroes Adjustment</th>\n",
       "    </tr>\n",
       "  </thead>\n",
       "  <tbody>\n",
       "    <tr>\n",
       "      <th>0</th>\n",
       "      <td>839FKFW2LLX4LMBB</td>\n",
       "      <td>2016-05-27</td>\n",
       "      <td>INBUX904GIHI8YBD</td>\n",
       "      <td>LJKS5NK6788CYMUU</td>\n",
       "      <td>2016-05-31 07:00:00+02:00</td>\n",
       "      <td>['David Bishop']</td>\n",
       "      <td>469</td>\n",
       "      <td>Breakfast</td>\n",
       "      <td>False</td>\n",
       "    </tr>\n",
       "    <tr>\n",
       "      <th>1</th>\n",
       "      <td>97OX39BGVMHODLJM</td>\n",
       "      <td>2018-09-27</td>\n",
       "      <td>J0MMOOPP709DIDIE</td>\n",
       "      <td>LJKS5NK6788CYMUU</td>\n",
       "      <td>2018-10-01 20:00:00+02:00</td>\n",
       "      <td>['David Bishop']</td>\n",
       "      <td>22</td>\n",
       "      <td>Dinner</td>\n",
       "      <td>False</td>\n",
       "    </tr>\n",
       "    <tr>\n",
       "      <th>2</th>\n",
       "      <td>041ORQM5OIHTIU6L</td>\n",
       "      <td>2014-08-24</td>\n",
       "      <td>E4UJLQNCI16UX5CS</td>\n",
       "      <td>LJKS5NK6788CYMUU</td>\n",
       "      <td>2014-08-23 14:00:00+02:00</td>\n",
       "      <td>['Karen Stansell']</td>\n",
       "      <td>314</td>\n",
       "      <td>Lunch</td>\n",
       "      <td>False</td>\n",
       "    </tr>\n",
       "    <tr>\n",
       "      <th>3</th>\n",
       "      <td>YT796QI18WNGZ7ZJ</td>\n",
       "      <td>2014-04-12</td>\n",
       "      <td>C9SDFHF7553BE247</td>\n",
       "      <td>LJKS5NK6788CYMUU</td>\n",
       "      <td>2014-04-07 21:00:00+02:00</td>\n",
       "      <td>['Addie Patino']</td>\n",
       "      <td>438</td>\n",
       "      <td>Dinner</td>\n",
       "      <td>False</td>\n",
       "    </tr>\n",
       "    <tr>\n",
       "      <th>4</th>\n",
       "      <td>6YLROQT27B6HRF4E</td>\n",
       "      <td>2015-07-28</td>\n",
       "      <td>48EQXS6IHYNZDDZ5</td>\n",
       "      <td>LJKS5NK6788CYMUU</td>\n",
       "      <td>2015-07-27 14:00:00+02:00</td>\n",
       "      <td>['Addie Patino' 'Susan Guerrero']</td>\n",
       "      <td>690</td>\n",
       "      <td>Lunch</td>\n",
       "      <td>False</td>\n",
       "    </tr>\n",
       "  </tbody>\n",
       "</table>\n",
       "</div>"
      ],
      "text/plain": [
       "           Order Id        Date  ... Type of Meal Heroes Adjustment\n",
       "0  839FKFW2LLX4LMBB  2016-05-27  ...    Breakfast             False\n",
       "1  97OX39BGVMHODLJM  2018-09-27  ...       Dinner             False\n",
       "2  041ORQM5OIHTIU6L  2014-08-24  ...        Lunch             False\n",
       "3  YT796QI18WNGZ7ZJ  2014-04-12  ...       Dinner             False\n",
       "4  6YLROQT27B6HRF4E  2015-07-28  ...        Lunch             False\n",
       "\n",
       "[5 rows x 9 columns]"
      ]
     },
     "execution_count": 195,
     "metadata": {
      "tags": []
     },
     "output_type": "execute_result"
    }
   ],
   "source": [
    "df.head()"
   ]
  },
  {
   "cell_type": "code",
   "execution_count": 196,
   "metadata": {
    "colab": {
     "base_uri": "https://localhost:8080/",
     "height": 745
    },
    "id": "hW7eXE9njiIh",
    "outputId": "56a8f671-6aa8-418f-d343-473930245857"
   },
   "outputs": [
    {
     "data": {
      "text/html": [
       "<div>\n",
       "<style scoped>\n",
       "    .dataframe tbody tr th:only-of-type {\n",
       "        vertical-align: middle;\n",
       "    }\n",
       "\n",
       "    .dataframe tbody tr th {\n",
       "        vertical-align: top;\n",
       "    }\n",
       "\n",
       "    .dataframe thead th {\n",
       "        text-align: right;\n",
       "    }\n",
       "</style>\n",
       "<table border=\"1\" class=\"dataframe\">\n",
       "  <thead>\n",
       "    <tr style=\"text-align: right;\">\n",
       "      <th></th>\n",
       "      <th>Order Id</th>\n",
       "      <th>Date_x</th>\n",
       "      <th>Meal Id</th>\n",
       "      <th>Company Id_x</th>\n",
       "      <th>Date of Meal</th>\n",
       "      <th>Participants</th>\n",
       "      <th>Meal Price</th>\n",
       "      <th>Type of Meal</th>\n",
       "      <th>Heroes Adjustment</th>\n",
       "      <th>Company Id_y</th>\n",
       "      <th>Company Name</th>\n",
       "      <th>Date_y</th>\n",
       "      <th>Order Value</th>\n",
       "      <th>Converted</th>\n",
       "    </tr>\n",
       "  </thead>\n",
       "  <tbody>\n",
       "    <tr>\n",
       "      <th>0</th>\n",
       "      <td>839FKFW2LLX4LMBB</td>\n",
       "      <td>2016-05-27</td>\n",
       "      <td>INBUX904GIHI8YBD</td>\n",
       "      <td>LJKS5NK6788CYMUU</td>\n",
       "      <td>2016-05-31 07:00:00+02:00</td>\n",
       "      <td>['David Bishop']</td>\n",
       "      <td>469</td>\n",
       "      <td>Breakfast</td>\n",
       "      <td>False</td>\n",
       "      <td>LJKS5NK6788CYMUU</td>\n",
       "      <td>Chimera-Chasing Casbah</td>\n",
       "      <td>2016-05-27</td>\n",
       "      <td>4837.0</td>\n",
       "      <td>0.0</td>\n",
       "    </tr>\n",
       "    <tr>\n",
       "      <th>1</th>\n",
       "      <td>97OX39BGVMHODLJM</td>\n",
       "      <td>2018-09-27</td>\n",
       "      <td>J0MMOOPP709DIDIE</td>\n",
       "      <td>LJKS5NK6788CYMUU</td>\n",
       "      <td>2018-10-01 20:00:00+02:00</td>\n",
       "      <td>['David Bishop']</td>\n",
       "      <td>22</td>\n",
       "      <td>Dinner</td>\n",
       "      <td>False</td>\n",
       "      <td>LJKS5NK6788CYMUU</td>\n",
       "      <td>Chimera-Chasing Casbah</td>\n",
       "      <td>2018-09-27</td>\n",
       "      <td>343.0</td>\n",
       "      <td>0.0</td>\n",
       "    </tr>\n",
       "    <tr>\n",
       "      <th>2</th>\n",
       "      <td>041ORQM5OIHTIU6L</td>\n",
       "      <td>2014-08-24</td>\n",
       "      <td>E4UJLQNCI16UX5CS</td>\n",
       "      <td>LJKS5NK6788CYMUU</td>\n",
       "      <td>2014-08-23 14:00:00+02:00</td>\n",
       "      <td>['Karen Stansell']</td>\n",
       "      <td>314</td>\n",
       "      <td>Lunch</td>\n",
       "      <td>False</td>\n",
       "      <td>LJKS5NK6788CYMUU</td>\n",
       "      <td>Chimera-Chasing Casbah</td>\n",
       "      <td>2014-08-24</td>\n",
       "      <td>4185.0</td>\n",
       "      <td>0.0</td>\n",
       "    </tr>\n",
       "    <tr>\n",
       "      <th>3</th>\n",
       "      <td>YT796QI18WNGZ7ZJ</td>\n",
       "      <td>2014-04-12</td>\n",
       "      <td>C9SDFHF7553BE247</td>\n",
       "      <td>LJKS5NK6788CYMUU</td>\n",
       "      <td>2014-04-07 21:00:00+02:00</td>\n",
       "      <td>['Addie Patino']</td>\n",
       "      <td>438</td>\n",
       "      <td>Dinner</td>\n",
       "      <td>False</td>\n",
       "      <td>LJKS5NK6788CYMUU</td>\n",
       "      <td>Chimera-Chasing Casbah</td>\n",
       "      <td>2014-04-12</td>\n",
       "      <td>5839.0</td>\n",
       "      <td>0.0</td>\n",
       "    </tr>\n",
       "    <tr>\n",
       "      <th>4</th>\n",
       "      <td>6YLROQT27B6HRF4E</td>\n",
       "      <td>2015-07-28</td>\n",
       "      <td>48EQXS6IHYNZDDZ5</td>\n",
       "      <td>LJKS5NK6788CYMUU</td>\n",
       "      <td>2015-07-27 14:00:00+02:00</td>\n",
       "      <td>['Addie Patino' 'Susan Guerrero']</td>\n",
       "      <td>690</td>\n",
       "      <td>Lunch</td>\n",
       "      <td>False</td>\n",
       "      <td>LJKS5NK6788CYMUU</td>\n",
       "      <td>Chimera-Chasing Casbah</td>\n",
       "      <td>2015-07-28</td>\n",
       "      <td>8841.0</td>\n",
       "      <td>0.0</td>\n",
       "    </tr>\n",
       "    <tr>\n",
       "      <th>...</th>\n",
       "      <td>...</td>\n",
       "      <td>...</td>\n",
       "      <td>...</td>\n",
       "      <td>...</td>\n",
       "      <td>...</td>\n",
       "      <td>...</td>\n",
       "      <td>...</td>\n",
       "      <td>...</td>\n",
       "      <td>...</td>\n",
       "      <td>...</td>\n",
       "      <td>...</td>\n",
       "      <td>...</td>\n",
       "      <td>...</td>\n",
       "      <td>...</td>\n",
       "    </tr>\n",
       "    <tr>\n",
       "      <th>13381</th>\n",
       "      <td>344K78BVPMQ3UKX4</td>\n",
       "      <td>2017-05-15</td>\n",
       "      <td>S30KDKX1JA90MV7G</td>\n",
       "      <td>I9SNN0NI7ETOAN9C</td>\n",
       "      <td>2017-05-18 22:00:00+02:00</td>\n",
       "      <td>['Richard Flores' 'Barbara Braziel' 'Chris Mor...</td>\n",
       "      <td>213</td>\n",
       "      <td>Dinner</td>\n",
       "      <td>False</td>\n",
       "      <td>I9SNN0NI7ETOAN9C</td>\n",
       "      <td>Hunkerish Bottineau</td>\n",
       "      <td>2017-05-15</td>\n",
       "      <td>2839.0</td>\n",
       "      <td>1.0</td>\n",
       "    </tr>\n",
       "    <tr>\n",
       "      <th>13382</th>\n",
       "      <td>KWIAJ8L4YW5SZWZG</td>\n",
       "      <td>2018-07-17</td>\n",
       "      <td>23YSFGABUPN92QIS</td>\n",
       "      <td>I9SNN0NI7ETOAN9C</td>\n",
       "      <td>2018-07-18 07:00:00+02:00</td>\n",
       "      <td>['Richard Flores']</td>\n",
       "      <td>541</td>\n",
       "      <td>Breakfast</td>\n",
       "      <td>False</td>\n",
       "      <td>I9SNN0NI7ETOAN9C</td>\n",
       "      <td>Hunkerish Bottineau</td>\n",
       "      <td>2018-07-17</td>\n",
       "      <td>7517.0</td>\n",
       "      <td>0.0</td>\n",
       "    </tr>\n",
       "    <tr>\n",
       "      <th>13383</th>\n",
       "      <td>4BG0QG7Z0GP2VLHJ</td>\n",
       "      <td>2014-07-14</td>\n",
       "      <td>GRDNQR5P1CCT6NIP</td>\n",
       "      <td>LF85GK2DBRYS10ZA</td>\n",
       "      <td>2014-07-17 12:00:00+02:00</td>\n",
       "      <td>['Nancy Avery' 'Dennis Powell']</td>\n",
       "      <td>145</td>\n",
       "      <td>Lunch</td>\n",
       "      <td>False</td>\n",
       "      <td>LF85GK2DBRYS10ZA</td>\n",
       "      <td>Watery Barge</td>\n",
       "      <td>2014-07-14</td>\n",
       "      <td>1785.0</td>\n",
       "      <td>0.0</td>\n",
       "    </tr>\n",
       "    <tr>\n",
       "      <th>13384</th>\n",
       "      <td>RHWPAUYMZAUR4790</td>\n",
       "      <td>2015-05-04</td>\n",
       "      <td>49KFEY8GRRWND4T2</td>\n",
       "      <td>LF85GK2DBRYS10ZA</td>\n",
       "      <td>2015-05-03 08:00:00+02:00</td>\n",
       "      <td>['Dennis Powell' 'Bryan Perkins']</td>\n",
       "      <td>193</td>\n",
       "      <td>Breakfast</td>\n",
       "      <td>False</td>\n",
       "      <td>LF85GK2DBRYS10ZA</td>\n",
       "      <td>Watery Barge</td>\n",
       "      <td>2015-05-04</td>\n",
       "      <td>2164.0</td>\n",
       "      <td>0.0</td>\n",
       "    </tr>\n",
       "    <tr>\n",
       "      <th>13385</th>\n",
       "      <td>7ZU10X0S71A9ISB2</td>\n",
       "      <td>2014-11-17</td>\n",
       "      <td>XZGW93T06NGWCWSP</td>\n",
       "      <td>LF85GK2DBRYS10ZA</td>\n",
       "      <td>2014-11-17 13:00:00+01:00</td>\n",
       "      <td>['Bryan Perkins']</td>\n",
       "      <td>637</td>\n",
       "      <td>Lunch</td>\n",
       "      <td>False</td>\n",
       "      <td>LF85GK2DBRYS10ZA</td>\n",
       "      <td>Watery Barge</td>\n",
       "      <td>2014-11-17</td>\n",
       "      <td>8608.0</td>\n",
       "      <td>0.0</td>\n",
       "    </tr>\n",
       "  </tbody>\n",
       "</table>\n",
       "<p>13386 rows × 14 columns</p>\n",
       "</div>"
      ],
      "text/plain": [
       "               Order Id      Date_x  ... Order Value Converted\n",
       "0      839FKFW2LLX4LMBB  2016-05-27  ...      4837.0       0.0\n",
       "1      97OX39BGVMHODLJM  2018-09-27  ...       343.0       0.0\n",
       "2      041ORQM5OIHTIU6L  2014-08-24  ...      4185.0       0.0\n",
       "3      YT796QI18WNGZ7ZJ  2014-04-12  ...      5839.0       0.0\n",
       "4      6YLROQT27B6HRF4E  2015-07-28  ...      8841.0       0.0\n",
       "...                 ...         ...  ...         ...       ...\n",
       "13381  344K78BVPMQ3UKX4  2017-05-15  ...      2839.0       1.0\n",
       "13382  KWIAJ8L4YW5SZWZG  2018-07-17  ...      7517.0       0.0\n",
       "13383  4BG0QG7Z0GP2VLHJ  2014-07-14  ...      1785.0       0.0\n",
       "13384  RHWPAUYMZAUR4790  2015-05-04  ...      2164.0       0.0\n",
       "13385  7ZU10X0S71A9ISB2  2014-11-17  ...      8608.0       0.0\n",
       "\n",
       "[13386 rows x 14 columns]"
      ]
     },
     "execution_count": 196,
     "metadata": {
      "tags": []
     },
     "output_type": "execute_result"
    }
   ],
   "source": [
    "pd.merge(df,order_data,on = 'Order Id')"
   ]
  },
  {
   "cell_type": "code",
   "execution_count": 204,
   "metadata": {
    "colab": {
     "base_uri": "https://localhost:8080/",
     "height": 419
    },
    "id": "A4QmGedxjiKn",
    "outputId": "f2db39cd-c25b-41e5-e21f-999522168c7f"
   },
   "outputs": [
    {
     "data": {
      "text/html": [
       "<div>\n",
       "<style scoped>\n",
       "    .dataframe tbody tr th:only-of-type {\n",
       "        vertical-align: middle;\n",
       "    }\n",
       "\n",
       "    .dataframe tbody tr th {\n",
       "        vertical-align: top;\n",
       "    }\n",
       "\n",
       "    .dataframe thead th {\n",
       "        text-align: right;\n",
       "    }\n",
       "</style>\n",
       "<table border=\"1\" class=\"dataframe\">\n",
       "  <thead>\n",
       "    <tr style=\"text-align: right;\">\n",
       "      <th></th>\n",
       "      <th>Order Id</th>\n",
       "      <th>Meal Id</th>\n",
       "      <th>Alternate Id</th>\n",
       "      <th>Company Id</th>\n",
       "      <th>Company Name</th>\n",
       "      <th>Date</th>\n",
       "      <th>Order Value</th>\n",
       "      <th>Converted</th>\n",
       "    </tr>\n",
       "  </thead>\n",
       "  <tbody>\n",
       "    <tr>\n",
       "      <th>0</th>\n",
       "      <td>839FKFW2LLX4LMBB</td>\n",
       "      <td>INBUX904GIHI8YBD</td>\n",
       "      <td>839FKFW2LLX4LMBB</td>\n",
       "      <td>LJKS5NK6788CYMUU</td>\n",
       "      <td>Chimera-Chasing Casbah</td>\n",
       "      <td>2016-05-27</td>\n",
       "      <td>4837.0</td>\n",
       "      <td>0.0</td>\n",
       "    </tr>\n",
       "    <tr>\n",
       "      <th>1</th>\n",
       "      <td>97OX39BGVMHODLJM</td>\n",
       "      <td>J0MMOOPP709DIDIE</td>\n",
       "      <td>97OX39BGVMHODLJM</td>\n",
       "      <td>LJKS5NK6788CYMUU</td>\n",
       "      <td>Chimera-Chasing Casbah</td>\n",
       "      <td>2018-09-27</td>\n",
       "      <td>343.0</td>\n",
       "      <td>0.0</td>\n",
       "    </tr>\n",
       "    <tr>\n",
       "      <th>2</th>\n",
       "      <td>041ORQM5OIHTIU6L</td>\n",
       "      <td>E4UJLQNCI16UX5CS</td>\n",
       "      <td>041ORQM5OIHTIU6L</td>\n",
       "      <td>LJKS5NK6788CYMUU</td>\n",
       "      <td>Chimera-Chasing Casbah</td>\n",
       "      <td>2014-08-24</td>\n",
       "      <td>4185.0</td>\n",
       "      <td>0.0</td>\n",
       "    </tr>\n",
       "    <tr>\n",
       "      <th>3</th>\n",
       "      <td>YT796QI18WNGZ7ZJ</td>\n",
       "      <td>C9SDFHF7553BE247</td>\n",
       "      <td>YT796QI18WNGZ7ZJ</td>\n",
       "      <td>LJKS5NK6788CYMUU</td>\n",
       "      <td>Chimera-Chasing Casbah</td>\n",
       "      <td>2014-04-12</td>\n",
       "      <td>5839.0</td>\n",
       "      <td>0.0</td>\n",
       "    </tr>\n",
       "    <tr>\n",
       "      <th>4</th>\n",
       "      <td>6YLROQT27B6HRF4E</td>\n",
       "      <td>48EQXS6IHYNZDDZ5</td>\n",
       "      <td>6YLROQT27B6HRF4E</td>\n",
       "      <td>LJKS5NK6788CYMUU</td>\n",
       "      <td>Chimera-Chasing Casbah</td>\n",
       "      <td>2015-07-28</td>\n",
       "      <td>8841.0</td>\n",
       "      <td>0.0</td>\n",
       "    </tr>\n",
       "    <tr>\n",
       "      <th>...</th>\n",
       "      <td>...</td>\n",
       "      <td>...</td>\n",
       "      <td>...</td>\n",
       "      <td>...</td>\n",
       "      <td>...</td>\n",
       "      <td>...</td>\n",
       "      <td>...</td>\n",
       "      <td>...</td>\n",
       "    </tr>\n",
       "    <tr>\n",
       "      <th>13381</th>\n",
       "      <td>344K78BVPMQ3UKX4</td>\n",
       "      <td>S30KDKX1JA90MV7G</td>\n",
       "      <td>344K78BVPMQ3UKX4</td>\n",
       "      <td>I9SNN0NI7ETOAN9C</td>\n",
       "      <td>Hunkerish Bottineau</td>\n",
       "      <td>2017-05-15</td>\n",
       "      <td>2839.0</td>\n",
       "      <td>1.0</td>\n",
       "    </tr>\n",
       "    <tr>\n",
       "      <th>13382</th>\n",
       "      <td>KWIAJ8L4YW5SZWZG</td>\n",
       "      <td>23YSFGABUPN92QIS</td>\n",
       "      <td>KWIAJ8L4YW5SZWZG</td>\n",
       "      <td>I9SNN0NI7ETOAN9C</td>\n",
       "      <td>Hunkerish Bottineau</td>\n",
       "      <td>2018-07-17</td>\n",
       "      <td>7517.0</td>\n",
       "      <td>0.0</td>\n",
       "    </tr>\n",
       "    <tr>\n",
       "      <th>13383</th>\n",
       "      <td>4BG0QG7Z0GP2VLHJ</td>\n",
       "      <td>GRDNQR5P1CCT6NIP</td>\n",
       "      <td>4BG0QG7Z0GP2VLHJ</td>\n",
       "      <td>LF85GK2DBRYS10ZA</td>\n",
       "      <td>Watery Barge</td>\n",
       "      <td>2014-07-14</td>\n",
       "      <td>1785.0</td>\n",
       "      <td>0.0</td>\n",
       "    </tr>\n",
       "    <tr>\n",
       "      <th>13384</th>\n",
       "      <td>RHWPAUYMZAUR4790</td>\n",
       "      <td>49KFEY8GRRWND4T2</td>\n",
       "      <td>RHWPAUYMZAUR4790</td>\n",
       "      <td>LF85GK2DBRYS10ZA</td>\n",
       "      <td>Watery Barge</td>\n",
       "      <td>2015-05-04</td>\n",
       "      <td>2164.0</td>\n",
       "      <td>0.0</td>\n",
       "    </tr>\n",
       "    <tr>\n",
       "      <th>13385</th>\n",
       "      <td>7ZU10X0S71A9ISB2</td>\n",
       "      <td>XZGW93T06NGWCWSP</td>\n",
       "      <td>7ZU10X0S71A9ISB2</td>\n",
       "      <td>LF85GK2DBRYS10ZA</td>\n",
       "      <td>Watery Barge</td>\n",
       "      <td>2014-11-17</td>\n",
       "      <td>8608.0</td>\n",
       "      <td>0.0</td>\n",
       "    </tr>\n",
       "  </tbody>\n",
       "</table>\n",
       "<p>13386 rows × 8 columns</p>\n",
       "</div>"
      ],
      "text/plain": [
       "               Order Id           Meal Id  ... Order Value Converted\n",
       "0      839FKFW2LLX4LMBB  INBUX904GIHI8YBD  ...      4837.0       0.0\n",
       "1      97OX39BGVMHODLJM  J0MMOOPP709DIDIE  ...       343.0       0.0\n",
       "2      041ORQM5OIHTIU6L  E4UJLQNCI16UX5CS  ...      4185.0       0.0\n",
       "3      YT796QI18WNGZ7ZJ  C9SDFHF7553BE247  ...      5839.0       0.0\n",
       "4      6YLROQT27B6HRF4E  48EQXS6IHYNZDDZ5  ...      8841.0       0.0\n",
       "...                 ...               ...  ...         ...       ...\n",
       "13381  344K78BVPMQ3UKX4  S30KDKX1JA90MV7G  ...      2839.0       1.0\n",
       "13382  KWIAJ8L4YW5SZWZG  23YSFGABUPN92QIS  ...      7517.0       0.0\n",
       "13383  4BG0QG7Z0GP2VLHJ  GRDNQR5P1CCT6NIP  ...      1785.0       0.0\n",
       "13384  RHWPAUYMZAUR4790  49KFEY8GRRWND4T2  ...      2164.0       0.0\n",
       "13385  7ZU10X0S71A9ISB2  XZGW93T06NGWCWSP  ...      8608.0       0.0\n",
       "\n",
       "[13386 rows x 8 columns]"
      ]
     },
     "execution_count": 204,
     "metadata": {
      "tags": []
     },
     "output_type": "execute_result"
    }
   ],
   "source": [
    "pd.merge(df[['Order Id','Meal Id']],\n",
    "         order_data.rename(columns = {'Order Id':'Alternate Id'}),\n",
    "         left_on = 'Order Id',\n",
    "         right_on = 'Alternate Id')"
   ]
  },
  {
   "cell_type": "code",
   "execution_count": 211,
   "metadata": {
    "id": "XrBghmBWjiPQ"
   },
   "outputs": [],
   "source": [
    "#Reshape our Dataframe! \n",
    "import numpy as np\n",
    "df_grouped = df.groupby(['Type of Meal','Company Id']).agg({\"Meal Price\":np.mean})"
   ]
  },
  {
   "cell_type": "code",
   "execution_count": 212,
   "metadata": {
    "colab": {
     "base_uri": "https://localhost:8080/",
     "height": 450
    },
    "id": "I9z6IJx-ow7S",
    "outputId": "b38e8c02-5a5a-4cfc-f790-d8504a1e9dc1"
   },
   "outputs": [
    {
     "data": {
      "text/html": [
       "<div>\n",
       "<style scoped>\n",
       "    .dataframe tbody tr th:only-of-type {\n",
       "        vertical-align: middle;\n",
       "    }\n",
       "\n",
       "    .dataframe tbody tr th {\n",
       "        vertical-align: top;\n",
       "    }\n",
       "\n",
       "    .dataframe thead th {\n",
       "        text-align: right;\n",
       "    }\n",
       "</style>\n",
       "<table border=\"1\" class=\"dataframe\">\n",
       "  <thead>\n",
       "    <tr style=\"text-align: right;\">\n",
       "      <th></th>\n",
       "      <th></th>\n",
       "      <th>Meal Price</th>\n",
       "    </tr>\n",
       "    <tr>\n",
       "      <th>Type of Meal</th>\n",
       "      <th>Company Id</th>\n",
       "      <th></th>\n",
       "    </tr>\n",
       "  </thead>\n",
       "  <tbody>\n",
       "    <tr>\n",
       "      <th rowspan=\"5\" valign=\"top\">Breakfast</th>\n",
       "      <th>00CVEIVO8C92FFBO</th>\n",
       "      <td>346.500000</td>\n",
       "    </tr>\n",
       "    <tr>\n",
       "      <th>00WJ866YXWT58K2S</th>\n",
       "      <td>392.166667</td>\n",
       "    </tr>\n",
       "    <tr>\n",
       "      <th>01W2DWJSSYIMC2CP</th>\n",
       "      <td>611.333333</td>\n",
       "    </tr>\n",
       "    <tr>\n",
       "      <th>0215YHE3CHAJKSYO</th>\n",
       "      <td>243.500000</td>\n",
       "    </tr>\n",
       "    <tr>\n",
       "      <th>02JRY9T4F276E98L</th>\n",
       "      <td>486.666667</td>\n",
       "    </tr>\n",
       "    <tr>\n",
       "      <th>...</th>\n",
       "      <th>...</th>\n",
       "      <td>...</td>\n",
       "    </tr>\n",
       "    <tr>\n",
       "      <th rowspan=\"5\" valign=\"top\">Lunch</th>\n",
       "      <th>ZXS1AR3G66YR07K4</th>\n",
       "      <td>160.000000</td>\n",
       "    </tr>\n",
       "    <tr>\n",
       "      <th>ZY7DXD1BH8M8N2UW</th>\n",
       "      <td>492.666667</td>\n",
       "    </tr>\n",
       "    <tr>\n",
       "      <th>ZZ2R72YGH1JQH2OB</th>\n",
       "      <td>606.000000</td>\n",
       "    </tr>\n",
       "    <tr>\n",
       "      <th>ZZY3WSHGJWPKJBCV</th>\n",
       "      <td>511.333333</td>\n",
       "    </tr>\n",
       "    <tr>\n",
       "      <th>ZZYB9JLJKXRH7U6O</th>\n",
       "      <td>149.000000</td>\n",
       "    </tr>\n",
       "  </tbody>\n",
       "</table>\n",
       "<p>3976 rows × 1 columns</p>\n",
       "</div>"
      ],
      "text/plain": [
       "                               Meal Price\n",
       "Type of Meal Company Id                  \n",
       "Breakfast    00CVEIVO8C92FFBO  346.500000\n",
       "             00WJ866YXWT58K2S  392.166667\n",
       "             01W2DWJSSYIMC2CP  611.333333\n",
       "             0215YHE3CHAJKSYO  243.500000\n",
       "             02JRY9T4F276E98L  486.666667\n",
       "...                                   ...\n",
       "Lunch        ZXS1AR3G66YR07K4  160.000000\n",
       "             ZY7DXD1BH8M8N2UW  492.666667\n",
       "             ZZ2R72YGH1JQH2OB  606.000000\n",
       "             ZZY3WSHGJWPKJBCV  511.333333\n",
       "             ZZYB9JLJKXRH7U6O  149.000000\n",
       "\n",
       "[3976 rows x 1 columns]"
      ]
     },
     "execution_count": 212,
     "metadata": {
      "tags": []
     },
     "output_type": "execute_result"
    }
   ],
   "source": [
    "df_grouped"
   ]
  },
  {
   "cell_type": "code",
   "execution_count": 215,
   "metadata": {
    "colab": {
     "base_uri": "https://localhost:8080/",
     "height": 450
    },
    "id": "kzebaun1m1cj",
    "outputId": "e9905b24-8cfa-42db-c609-e7f42b901e62"
   },
   "outputs": [
    {
     "data": {
      "text/html": [
       "<div>\n",
       "<style scoped>\n",
       "    .dataframe tbody tr th:only-of-type {\n",
       "        vertical-align: middle;\n",
       "    }\n",
       "\n",
       "    .dataframe tbody tr th {\n",
       "        vertical-align: top;\n",
       "    }\n",
       "\n",
       "    .dataframe thead th {\n",
       "        text-align: right;\n",
       "    }\n",
       "</style>\n",
       "<table border=\"1\" class=\"dataframe\">\n",
       "  <thead>\n",
       "    <tr style=\"text-align: right;\">\n",
       "      <th></th>\n",
       "      <th></th>\n",
       "      <th>Meal Price</th>\n",
       "    </tr>\n",
       "    <tr>\n",
       "      <th>Type of Meal</th>\n",
       "      <th>Company Id</th>\n",
       "      <th></th>\n",
       "    </tr>\n",
       "  </thead>\n",
       "  <tbody>\n",
       "    <tr>\n",
       "      <th rowspan=\"5\" valign=\"top\">Breakfast</th>\n",
       "      <th>00CVEIVO8C92FFBO</th>\n",
       "      <td>346.500000</td>\n",
       "    </tr>\n",
       "    <tr>\n",
       "      <th>00WJ866YXWT58K2S</th>\n",
       "      <td>392.166667</td>\n",
       "    </tr>\n",
       "    <tr>\n",
       "      <th>01W2DWJSSYIMC2CP</th>\n",
       "      <td>611.333333</td>\n",
       "    </tr>\n",
       "    <tr>\n",
       "      <th>0215YHE3CHAJKSYO</th>\n",
       "      <td>243.500000</td>\n",
       "    </tr>\n",
       "    <tr>\n",
       "      <th>02JRY9T4F276E98L</th>\n",
       "      <td>486.666667</td>\n",
       "    </tr>\n",
       "    <tr>\n",
       "      <th>...</th>\n",
       "      <th>...</th>\n",
       "      <td>...</td>\n",
       "    </tr>\n",
       "    <tr>\n",
       "      <th rowspan=\"5\" valign=\"top\">Lunch</th>\n",
       "      <th>ZXS1AR3G66YR07K4</th>\n",
       "      <td>160.000000</td>\n",
       "    </tr>\n",
       "    <tr>\n",
       "      <th>ZY7DXD1BH8M8N2UW</th>\n",
       "      <td>492.666667</td>\n",
       "    </tr>\n",
       "    <tr>\n",
       "      <th>ZZ2R72YGH1JQH2OB</th>\n",
       "      <td>606.000000</td>\n",
       "    </tr>\n",
       "    <tr>\n",
       "      <th>ZZY3WSHGJWPKJBCV</th>\n",
       "      <td>511.333333</td>\n",
       "    </tr>\n",
       "    <tr>\n",
       "      <th>ZZYB9JLJKXRH7U6O</th>\n",
       "      <td>149.000000</td>\n",
       "    </tr>\n",
       "  </tbody>\n",
       "</table>\n",
       "<p>3976 rows × 1 columns</p>\n",
       "</div>"
      ],
      "text/plain": [
       "                               Meal Price\n",
       "Type of Meal Company Id                  \n",
       "Breakfast    00CVEIVO8C92FFBO  346.500000\n",
       "             00WJ866YXWT58K2S  392.166667\n",
       "             01W2DWJSSYIMC2CP  611.333333\n",
       "             0215YHE3CHAJKSYO  243.500000\n",
       "             02JRY9T4F276E98L  486.666667\n",
       "...                                   ...\n",
       "Lunch        ZXS1AR3G66YR07K4  160.000000\n",
       "             ZY7DXD1BH8M8N2UW  492.666667\n",
       "             ZZ2R72YGH1JQH2OB  606.000000\n",
       "             ZZY3WSHGJWPKJBCV  511.333333\n",
       "             ZZYB9JLJKXRH7U6O  149.000000\n",
       "\n",
       "[3976 rows x 1 columns]"
      ]
     },
     "execution_count": 215,
     "metadata": {
      "tags": []
     },
     "output_type": "execute_result"
    }
   ],
   "source": [
    "pd.pivot_table(df,index= ['Type of Meal','Company Id'],values = 'Meal Price',aggfunc = np.mean)"
   ]
  },
  {
   "cell_type": "code",
   "execution_count": 217,
   "metadata": {
    "colab": {
     "base_uri": "https://localhost:8080/",
     "height": 606
    },
    "id": "_N4iZqR9jiQ0",
    "outputId": "37907050-324b-43e8-aa50-03063ab394e7"
   },
   "outputs": [
    {
     "data": {
      "text/html": [
       "<div>\n",
       "<style scoped>\n",
       "    .dataframe tbody tr th:only-of-type {\n",
       "        vertical-align: middle;\n",
       "    }\n",
       "\n",
       "    .dataframe tbody tr th {\n",
       "        vertical-align: top;\n",
       "    }\n",
       "\n",
       "    .dataframe thead th {\n",
       "        text-align: right;\n",
       "    }\n",
       "</style>\n",
       "<table border=\"1\" class=\"dataframe\">\n",
       "  <thead>\n",
       "    <tr style=\"text-align: right;\">\n",
       "      <th></th>\n",
       "      <th>Order Id</th>\n",
       "      <th>Date</th>\n",
       "      <th>Meal Id</th>\n",
       "      <th>Company Id</th>\n",
       "      <th>Date of Meal</th>\n",
       "      <th>Participants</th>\n",
       "      <th>Meal Price</th>\n",
       "      <th>Type of Meal</th>\n",
       "      <th>Heroes Adjustment</th>\n",
       "    </tr>\n",
       "  </thead>\n",
       "  <tbody>\n",
       "    <tr>\n",
       "      <th>8052</th>\n",
       "      <td>WXM0QNI0RBRCSUC6</td>\n",
       "      <td>2015-10-14</td>\n",
       "      <td>TT1GL112YCQMH24T</td>\n",
       "      <td>YDXCCT6EBWNFPHKC</td>\n",
       "      <td>2015-10-15 21:00:00+02:00</td>\n",
       "      <td>['Michael Halton' 'Nathaniel Smartt']</td>\n",
       "      <td>1065.0</td>\n",
       "      <td>Dinner</td>\n",
       "      <td>False</td>\n",
       "    </tr>\n",
       "    <tr>\n",
       "      <th>6598</th>\n",
       "      <td>SRMNI57PCS3K3RHC</td>\n",
       "      <td>2018-03-08</td>\n",
       "      <td>HVB3I2BB7N6EXS0A</td>\n",
       "      <td>9Y6AVL8O0FHJLIZU</td>\n",
       "      <td>2018-03-11 07:00:00+01:00</td>\n",
       "      <td>['Bruce Rotz' 'Virginia Felix']</td>\n",
       "      <td>1059.0</td>\n",
       "      <td>Breakfast</td>\n",
       "      <td>True</td>\n",
       "    </tr>\n",
       "    <tr>\n",
       "      <th>8019</th>\n",
       "      <td>WBOAII20GC0UBG5N</td>\n",
       "      <td>2014-07-04</td>\n",
       "      <td>6WDW30TEDZ65NLL9</td>\n",
       "      <td>NDNF1LAUEOKZC7OL</td>\n",
       "      <td>2014-07-03 07:00:00+02:00</td>\n",
       "      <td>['Bobby Boren']</td>\n",
       "      <td>1032.0</td>\n",
       "      <td>Breakfast</td>\n",
       "      <td>False</td>\n",
       "    </tr>\n",
       "    <tr>\n",
       "      <th>10265</th>\n",
       "      <td>YK6EV3OK571JWNZ5</td>\n",
       "      <td>2014-11-13</td>\n",
       "      <td>ZV9P8OEGV5DVODIQ</td>\n",
       "      <td>9JNCAL2QWZ7J71CN</td>\n",
       "      <td>2014-11-14 13:00:00+01:00</td>\n",
       "      <td>['Carl Loza']</td>\n",
       "      <td>1022.0</td>\n",
       "      <td>Lunch</td>\n",
       "      <td>False</td>\n",
       "    </tr>\n",
       "    <tr>\n",
       "      <th>8658</th>\n",
       "      <td>QSBHI10J2TQDL4WZ</td>\n",
       "      <td>2016-10-30</td>\n",
       "      <td>NZW0D0543YZWR0N6</td>\n",
       "      <td>DWZ3RFGP1W0YZ75P</td>\n",
       "      <td>2016-10-28 14:00:00+02:00</td>\n",
       "      <td>['Mae Coffee']</td>\n",
       "      <td>1005.0</td>\n",
       "      <td>Lunch</td>\n",
       "      <td>False</td>\n",
       "    </tr>\n",
       "    <tr>\n",
       "      <th>...</th>\n",
       "      <td>...</td>\n",
       "      <td>...</td>\n",
       "      <td>...</td>\n",
       "      <td>...</td>\n",
       "      <td>...</td>\n",
       "      <td>...</td>\n",
       "      <td>...</td>\n",
       "      <td>...</td>\n",
       "      <td>...</td>\n",
       "    </tr>\n",
       "    <tr>\n",
       "      <th>1041</th>\n",
       "      <td>F0V2MJRPKZ7BWHWT</td>\n",
       "      <td>2014-09-09</td>\n",
       "      <td>QKA5WM62J5SLU800</td>\n",
       "      <td>1E8UMY3GLYW9NX51</td>\n",
       "      <td>2014-09-08 20:00:00+02:00</td>\n",
       "      <td>['Carol Salazar']</td>\n",
       "      <td>7.0</td>\n",
       "      <td>Dinner</td>\n",
       "      <td>False</td>\n",
       "    </tr>\n",
       "    <tr>\n",
       "      <th>984</th>\n",
       "      <td>KSA52K4CEJ6X6TMO</td>\n",
       "      <td>2014-04-28</td>\n",
       "      <td>NJFKAPUUJN23PQSI</td>\n",
       "      <td>A5LFM40Z21P7VS3V</td>\n",
       "      <td>2014-04-29 09:00:00+02:00</td>\n",
       "      <td>['Tonya Hargrove' 'Laura Maldonado' 'Kyong Fre...</td>\n",
       "      <td>7.0</td>\n",
       "      <td>Breakfast</td>\n",
       "      <td>False</td>\n",
       "    </tr>\n",
       "    <tr>\n",
       "      <th>8565</th>\n",
       "      <td>EO1MAD8J9A6VCK9A</td>\n",
       "      <td>2018-03-27</td>\n",
       "      <td>AN7KC30NR6BHZ1QW</td>\n",
       "      <td>FEVHP1BBGYIR3Y6P</td>\n",
       "      <td>2018-03-23 21:00:00+01:00</td>\n",
       "      <td>['Christina Mandrell' 'Thomas Patel']</td>\n",
       "      <td>7.0</td>\n",
       "      <td>Dinner</td>\n",
       "      <td>False</td>\n",
       "    </tr>\n",
       "    <tr>\n",
       "      <th>9814</th>\n",
       "      <td>DRN2P0A0ONAEPXTE</td>\n",
       "      <td>2014-11-19</td>\n",
       "      <td>HD219FNP8G5DD3GU</td>\n",
       "      <td>3HHXK7ISUA0DB6ZO</td>\n",
       "      <td>2014-11-22 13:00:00+01:00</td>\n",
       "      <td>['Steven Franks']</td>\n",
       "      <td>7.0</td>\n",
       "      <td>Lunch</td>\n",
       "      <td>False</td>\n",
       "    </tr>\n",
       "    <tr>\n",
       "      <th>14361</th>\n",
       "      <td>2NF38UES2LW6TR2A</td>\n",
       "      <td>2017-02-24</td>\n",
       "      <td>MOEZTCDKASD8Z0UP</td>\n",
       "      <td>I</td>\n",
       "      <td>NaN</td>\n",
       "      <td>NaN</td>\n",
       "      <td>NaN</td>\n",
       "      <td>NaN</td>\n",
       "      <td>NaN</td>\n",
       "    </tr>\n",
       "  </tbody>\n",
       "</table>\n",
       "<p>14362 rows × 9 columns</p>\n",
       "</div>"
      ],
      "text/plain": [
       "               Order Id        Date  ... Type of Meal Heroes Adjustment\n",
       "8052   WXM0QNI0RBRCSUC6  2015-10-14  ...       Dinner             False\n",
       "6598   SRMNI57PCS3K3RHC  2018-03-08  ...    Breakfast              True\n",
       "8019   WBOAII20GC0UBG5N  2014-07-04  ...    Breakfast             False\n",
       "10265  YK6EV3OK571JWNZ5  2014-11-13  ...        Lunch             False\n",
       "8658   QSBHI10J2TQDL4WZ  2016-10-30  ...        Lunch             False\n",
       "...                 ...         ...  ...          ...               ...\n",
       "1041   F0V2MJRPKZ7BWHWT  2014-09-09  ...       Dinner             False\n",
       "984    KSA52K4CEJ6X6TMO  2014-04-28  ...    Breakfast             False\n",
       "8565   EO1MAD8J9A6VCK9A  2018-03-27  ...       Dinner             False\n",
       "9814   DRN2P0A0ONAEPXTE  2014-11-19  ...        Lunch             False\n",
       "14361  2NF38UES2LW6TR2A  2017-02-24  ...          NaN               NaN\n",
       "\n",
       "[14362 rows x 9 columns]"
      ]
     },
     "execution_count": 217,
     "metadata": {
      "tags": []
     },
     "output_type": "execute_result"
    }
   ],
   "source": [
    "df.sort_values(by = 'Meal Price',ascending=False)"
   ]
  },
  {
   "cell_type": "code",
   "execution_count": null,
   "metadata": {
    "id": "xmXWYeaEjiT6"
   },
   "outputs": [],
   "source": [
    "#Homeworks: \n",
    "#Stack and unstack\n",
    "#reduce \n",
    "#filter\n",
    "\n",
    "#Quiz - not objective quiz! share your screen and do it! \n",
    "#Test next Sunday! - Scholarship Test! "
   ]
  },
  {
   "cell_type": "code",
   "execution_count": null,
   "metadata": {
    "id": "DErJOcsCjVj4"
   },
   "outputs": [],
   "source": []
  }
 ],
 "metadata": {
  "colab": {
   "collapsed_sections": [],
   "name": "Pandas_advanced.ipynb",
   "provenance": []
  },
  "kernelspec": {
   "display_name": "Python 3",
   "language": "python",
   "name": "python3"
  },
  "language_info": {
   "codemirror_mode": {
    "name": "ipython",
    "version": 3
   },
   "file_extension": ".py",
   "mimetype": "text/x-python",
   "name": "python",
   "nbconvert_exporter": "python",
   "pygments_lexer": "ipython3",
   "version": "3.8.5"
  }
 },
 "nbformat": 4,
 "nbformat_minor": 1
}
