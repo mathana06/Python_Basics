{
 "cells": [
  {
   "cell_type": "code",
   "execution_count": 1,
   "metadata": {},
   "outputs": [],
   "source": [
    "#dictionary\n",
    "'''\n",
    "1.Key value pair\n",
    "2.Key is unique\n",
    "3.Values can be duplicated\n",
    "4.Can retrive values using key\n",
    "5.Key is immutable(cannot change the key directly)\n",
    "Dictionaries are like hashmap\n",
    "'''"
   ]
  },
  {
   "cell_type": "code",
   "execution_count": 4,
   "metadata": {},
   "outputs": [
    {
     "data": {
      "text/plain": [
       "{'A': 'ALpha', 'B': 'Beta', '1': 'One'}"
      ]
     },
     "execution_count": 4,
     "metadata": {},
     "output_type": "execute_result"
    }
   ],
   "source": [
    "sample_dict={\"A\":\"ALpha\",\"B\":\"Beta\",\"1\":'One'}\n",
    "sample_dict"
   ]
  },
  {
   "cell_type": "code",
   "execution_count": 5,
   "metadata": {},
   "outputs": [],
   "source": [
    "l=[1,2,3,4,5,6,20]\n",
    "n=6"
   ]
  },
  {
   "cell_type": "code",
   "execution_count": 6,
   "metadata": {},
   "outputs": [
    {
     "name": "stdout",
     "output_type": "stream",
     "text": [
      "4\n"
     ]
    }
   ],
   "source": [
    "'''Input 1: Array of number\n",
    "Input 2 :A number n \n",
    "Find the indices of the pair of numbers that sums up n '''\n",
    "\n",
    "l=[1,2,3,4,5,6]\n",
    "n=5\n",
    "Rdict={}\n",
    "sum1 = n-l[0]\n",
    "if l.contains(sum1):\n",
    "    add in dictionary"
   ]
  },
  {
   "cell_type": "markdown",
   "metadata": {},
   "source": [
    "# STRING"
   ]
  },
  {
   "cell_type": "code",
   "execution_count": 8,
   "metadata": {},
   "outputs": [
    {
     "data": {
      "text/plain": [
       "14"
      ]
     },
     "execution_count": 8,
     "metadata": {},
     "output_type": "execute_result"
    }
   ],
   "source": [
    "#Strings\n",
    "'''\n",
    "1.Strings can be retrived using index\n",
    "2.Strings are immutable\n",
    "'''\n",
    "\n",
    "a=\"Hi how are you\"\n",
    "type(a)\n",
    "len(a)"
   ]
  },
  {
   "cell_type": "code",
   "execution_count": 9,
   "metadata": {},
   "outputs": [
    {
     "name": "stdout",
     "output_type": "stream",
     "text": [
      " ho\n"
     ]
    }
   ],
   "source": [
    "print(a[2:5])"
   ]
  },
  {
   "cell_type": "code",
   "execution_count": 10,
   "metadata": {},
   "outputs": [
    {
     "name": "stdout",
     "output_type": "stream",
     "text": [
      "Enter the number:5\n"
     ]
    },
    {
     "data": {
      "text/plain": [
       "str"
      ]
     },
     "execution_count": 10,
     "metadata": {},
     "output_type": "execute_result"
    }
   ],
   "source": [
    "in_ = input(\"Enter the number:\")\n",
    "type(in_)"
   ]
  },
  {
   "cell_type": "code",
   "execution_count": 11,
   "metadata": {},
   "outputs": [
    {
     "data": {
      "text/plain": [
       "'Inceptez is great'"
      ]
     },
     "execution_count": 11,
     "metadata": {},
     "output_type": "execute_result"
    }
   ],
   "source": [
    "A=\"Inceptez is great\"\n",
    "A.capitalize()\n"
   ]
  },
  {
   "cell_type": "code",
   "execution_count": 12,
   "metadata": {},
   "outputs": [
    {
     "data": {
      "text/plain": [
       "'INCEPTEZ IS GREAT'"
      ]
     },
     "execution_count": 12,
     "metadata": {},
     "output_type": "execute_result"
    }
   ],
   "source": [
    "A.upper()\n"
   ]
  },
  {
   "cell_type": "code",
   "execution_count": 13,
   "metadata": {},
   "outputs": [
    {
     "data": {
      "text/plain": [
       "'inceptez is great'"
      ]
     },
     "execution_count": 13,
     "metadata": {},
     "output_type": "execute_result"
    }
   ],
   "source": [
    "A.lower()"
   ]
  },
  {
   "cell_type": "code",
   "execution_count": 14,
   "metadata": {},
   "outputs": [
    {
     "data": {
      "text/plain": [
       "'Inceptez is great'"
      ]
     },
     "execution_count": 14,
     "metadata": {},
     "output_type": "execute_result"
    }
   ],
   "source": [
    "A"
   ]
  },
  {
   "cell_type": "code",
   "execution_count": null,
   "metadata": {},
   "outputs": [],
   "source": [
    "#The value of A doesn't change"
   ]
  },
  {
   "cell_type": "markdown",
   "metadata": {},
   "source": [
    "# Multi Line String"
   ]
  },
  {
   "cell_type": "code",
   "execution_count": 15,
   "metadata": {},
   "outputs": [
    {
     "data": {
      "text/plain": [
       "'Hello, how are you\\nLong time, no see!\\n'"
      ]
     },
     "execution_count": 15,
     "metadata": {},
     "output_type": "execute_result"
    }
   ],
   "source": [
    "#First method - ''''''\n",
    "d='''Hello, how are you\n",
    "Long time, no see!\n",
    "'''\n",
    "d"
   ]
  },
  {
   "cell_type": "code",
   "execution_count": null,
   "metadata": {},
   "outputs": [],
   "source": [
    "#How are strings stored\n",
    "#UNICODE characters.UTF-8 is the default format for storing the characters.1x1 byte  -  4x1 byte units to store the data"
   ]
  },
  {
   "cell_type": "code",
   "execution_count": 35,
   "metadata": {},
   "outputs": [
    {
     "data": {
      "text/plain": [
       "{'646': 'ascii',\n",
       " 'ansi_x3.4_1968': 'ascii',\n",
       " 'ansi_x3_4_1968': 'ascii',\n",
       " 'ansi_x3.4_1986': 'ascii',\n",
       " 'cp367': 'ascii',\n",
       " 'csascii': 'ascii',\n",
       " 'ibm367': 'ascii',\n",
       " 'iso646_us': 'ascii',\n",
       " 'iso_646.irv_1991': 'ascii',\n",
       " 'iso_ir_6': 'ascii',\n",
       " 'us': 'ascii',\n",
       " 'us_ascii': 'ascii',\n",
       " 'base64': 'base64_codec',\n",
       " 'base_64': 'base64_codec',\n",
       " 'big5_tw': 'big5',\n",
       " 'csbig5': 'big5',\n",
       " 'big5_hkscs': 'big5hkscs',\n",
       " 'hkscs': 'big5hkscs',\n",
       " 'bz2': 'bz2_codec',\n",
       " '037': 'cp037',\n",
       " 'csibm037': 'cp037',\n",
       " 'ebcdic_cp_ca': 'cp037',\n",
       " 'ebcdic_cp_nl': 'cp037',\n",
       " 'ebcdic_cp_us': 'cp037',\n",
       " 'ebcdic_cp_wt': 'cp037',\n",
       " 'ibm037': 'cp037',\n",
       " 'ibm039': 'cp037',\n",
       " '1026': 'cp1026',\n",
       " 'csibm1026': 'cp1026',\n",
       " 'ibm1026': 'cp1026',\n",
       " '1125': 'cp1125',\n",
       " 'ibm1125': 'cp1125',\n",
       " 'cp866u': 'cp1125',\n",
       " 'ruscii': 'cp1125',\n",
       " '1140': 'cp1140',\n",
       " 'ibm1140': 'cp1140',\n",
       " '1250': 'cp1250',\n",
       " 'windows_1250': 'cp1250',\n",
       " '1251': 'cp1251',\n",
       " 'windows_1251': 'cp1251',\n",
       " '1252': 'cp1252',\n",
       " 'windows_1252': 'cp1252',\n",
       " '1253': 'cp1253',\n",
       " 'windows_1253': 'cp1253',\n",
       " '1254': 'cp1254',\n",
       " 'windows_1254': 'cp1254',\n",
       " '1255': 'cp1255',\n",
       " 'windows_1255': 'cp1255',\n",
       " '1256': 'cp1256',\n",
       " 'windows_1256': 'cp1256',\n",
       " '1257': 'cp1257',\n",
       " 'windows_1257': 'cp1257',\n",
       " '1258': 'cp1258',\n",
       " 'windows_1258': 'cp1258',\n",
       " '273': 'cp273',\n",
       " 'ibm273': 'cp273',\n",
       " 'csibm273': 'cp273',\n",
       " '424': 'cp424',\n",
       " 'csibm424': 'cp424',\n",
       " 'ebcdic_cp_he': 'cp424',\n",
       " 'ibm424': 'cp424',\n",
       " '437': 'cp437',\n",
       " 'cspc8codepage437': 'cp437',\n",
       " 'ibm437': 'cp437',\n",
       " '500': 'cp500',\n",
       " 'csibm500': 'cp500',\n",
       " 'ebcdic_cp_be': 'cp500',\n",
       " 'ebcdic_cp_ch': 'cp500',\n",
       " 'ibm500': 'cp500',\n",
       " '775': 'cp775',\n",
       " 'cspc775baltic': 'cp775',\n",
       " 'ibm775': 'cp775',\n",
       " '850': 'cp850',\n",
       " 'cspc850multilingual': 'cp850',\n",
       " 'ibm850': 'cp850',\n",
       " '852': 'cp852',\n",
       " 'cspcp852': 'cp852',\n",
       " 'ibm852': 'cp852',\n",
       " '855': 'cp855',\n",
       " 'csibm855': 'cp855',\n",
       " 'ibm855': 'cp855',\n",
       " '857': 'cp857',\n",
       " 'csibm857': 'cp857',\n",
       " 'ibm857': 'cp857',\n",
       " '858': 'cp858',\n",
       " 'csibm858': 'cp858',\n",
       " 'ibm858': 'cp858',\n",
       " '860': 'cp860',\n",
       " 'csibm860': 'cp860',\n",
       " 'ibm860': 'cp860',\n",
       " '861': 'cp861',\n",
       " 'cp_is': 'cp861',\n",
       " 'csibm861': 'cp861',\n",
       " 'ibm861': 'cp861',\n",
       " '862': 'cp862',\n",
       " 'cspc862latinhebrew': 'cp862',\n",
       " 'ibm862': 'cp862',\n",
       " '863': 'cp863',\n",
       " 'csibm863': 'cp863',\n",
       " 'ibm863': 'cp863',\n",
       " '864': 'cp864',\n",
       " 'csibm864': 'cp864',\n",
       " 'ibm864': 'cp864',\n",
       " '865': 'cp865',\n",
       " 'csibm865': 'cp865',\n",
       " 'ibm865': 'cp865',\n",
       " '866': 'cp866',\n",
       " 'csibm866': 'cp866',\n",
       " 'ibm866': 'cp866',\n",
       " '869': 'cp869',\n",
       " 'cp_gr': 'cp869',\n",
       " 'csibm869': 'cp869',\n",
       " 'ibm869': 'cp869',\n",
       " '932': 'cp932',\n",
       " 'ms932': 'cp932',\n",
       " 'mskanji': 'cp932',\n",
       " 'ms_kanji': 'cp932',\n",
       " '949': 'cp949',\n",
       " 'ms949': 'cp949',\n",
       " 'uhc': 'cp949',\n",
       " '950': 'cp950',\n",
       " 'ms950': 'cp950',\n",
       " 'jisx0213': 'euc_jis_2004',\n",
       " 'eucjis2004': 'euc_jis_2004',\n",
       " 'euc_jis2004': 'euc_jis_2004',\n",
       " 'eucjisx0213': 'euc_jisx0213',\n",
       " 'eucjp': 'euc_jp',\n",
       " 'ujis': 'euc_jp',\n",
       " 'u_jis': 'euc_jp',\n",
       " 'euckr': 'euc_kr',\n",
       " 'korean': 'euc_kr',\n",
       " 'ksc5601': 'euc_kr',\n",
       " 'ks_c_5601': 'euc_kr',\n",
       " 'ks_c_5601_1987': 'euc_kr',\n",
       " 'ksx1001': 'euc_kr',\n",
       " 'ks_x_1001': 'euc_kr',\n",
       " 'gb18030_2000': 'gb18030',\n",
       " 'chinese': 'gb2312',\n",
       " 'csiso58gb231280': 'gb2312',\n",
       " 'euc_cn': 'gb2312',\n",
       " 'euccn': 'gb2312',\n",
       " 'eucgb2312_cn': 'gb2312',\n",
       " 'gb2312_1980': 'gb2312',\n",
       " 'gb2312_80': 'gb2312',\n",
       " 'iso_ir_58': 'gb2312',\n",
       " '936': 'gbk',\n",
       " 'cp936': 'gbk',\n",
       " 'ms936': 'gbk',\n",
       " 'hex': 'hex_codec',\n",
       " 'roman8': 'hp_roman8',\n",
       " 'r8': 'hp_roman8',\n",
       " 'csHPRoman8': 'hp_roman8',\n",
       " 'cp1051': 'hp_roman8',\n",
       " 'ibm1051': 'hp_roman8',\n",
       " 'hzgb': 'hz',\n",
       " 'hz_gb': 'hz',\n",
       " 'hz_gb_2312': 'hz',\n",
       " 'csiso2022jp': 'iso2022_jp',\n",
       " 'iso2022jp': 'iso2022_jp',\n",
       " 'iso_2022_jp': 'iso2022_jp',\n",
       " 'iso2022jp_1': 'iso2022_jp_1',\n",
       " 'iso_2022_jp_1': 'iso2022_jp_1',\n",
       " 'iso2022jp_2': 'iso2022_jp_2',\n",
       " 'iso_2022_jp_2': 'iso2022_jp_2',\n",
       " 'iso_2022_jp_2004': 'iso2022_jp_2004',\n",
       " 'iso2022jp_2004': 'iso2022_jp_2004',\n",
       " 'iso2022jp_3': 'iso2022_jp_3',\n",
       " 'iso_2022_jp_3': 'iso2022_jp_3',\n",
       " 'iso2022jp_ext': 'iso2022_jp_ext',\n",
       " 'iso_2022_jp_ext': 'iso2022_jp_ext',\n",
       " 'csiso2022kr': 'iso2022_kr',\n",
       " 'iso2022kr': 'iso2022_kr',\n",
       " 'iso_2022_kr': 'iso2022_kr',\n",
       " 'csisolatin6': 'iso8859_10',\n",
       " 'iso_8859_10': 'iso8859_10',\n",
       " 'iso_8859_10_1992': 'iso8859_10',\n",
       " 'iso_ir_157': 'iso8859_10',\n",
       " 'l6': 'iso8859_10',\n",
       " 'latin6': 'iso8859_10',\n",
       " 'thai': 'iso8859_11',\n",
       " 'iso_8859_11': 'iso8859_11',\n",
       " 'iso_8859_11_2001': 'iso8859_11',\n",
       " 'iso_8859_13': 'iso8859_13',\n",
       " 'l7': 'iso8859_13',\n",
       " 'latin7': 'iso8859_13',\n",
       " 'iso_8859_14': 'iso8859_14',\n",
       " 'iso_8859_14_1998': 'iso8859_14',\n",
       " 'iso_celtic': 'iso8859_14',\n",
       " 'iso_ir_199': 'iso8859_14',\n",
       " 'l8': 'iso8859_14',\n",
       " 'latin8': 'iso8859_14',\n",
       " 'iso_8859_15': 'iso8859_15',\n",
       " 'l9': 'iso8859_15',\n",
       " 'latin9': 'iso8859_15',\n",
       " 'iso_8859_16': 'iso8859_16',\n",
       " 'iso_8859_16_2001': 'iso8859_16',\n",
       " 'iso_ir_226': 'iso8859_16',\n",
       " 'l10': 'iso8859_16',\n",
       " 'latin10': 'iso8859_16',\n",
       " 'csisolatin2': 'iso8859_2',\n",
       " 'iso_8859_2': 'iso8859_2',\n",
       " 'iso_8859_2_1987': 'iso8859_2',\n",
       " 'iso_ir_101': 'iso8859_2',\n",
       " 'l2': 'iso8859_2',\n",
       " 'latin2': 'iso8859_2',\n",
       " 'csisolatin3': 'iso8859_3',\n",
       " 'iso_8859_3': 'iso8859_3',\n",
       " 'iso_8859_3_1988': 'iso8859_3',\n",
       " 'iso_ir_109': 'iso8859_3',\n",
       " 'l3': 'iso8859_3',\n",
       " 'latin3': 'iso8859_3',\n",
       " 'csisolatin4': 'iso8859_4',\n",
       " 'iso_8859_4': 'iso8859_4',\n",
       " 'iso_8859_4_1988': 'iso8859_4',\n",
       " 'iso_ir_110': 'iso8859_4',\n",
       " 'l4': 'iso8859_4',\n",
       " 'latin4': 'iso8859_4',\n",
       " 'csisolatincyrillic': 'iso8859_5',\n",
       " 'cyrillic': 'iso8859_5',\n",
       " 'iso_8859_5': 'iso8859_5',\n",
       " 'iso_8859_5_1988': 'iso8859_5',\n",
       " 'iso_ir_144': 'iso8859_5',\n",
       " 'arabic': 'iso8859_6',\n",
       " 'asmo_708': 'iso8859_6',\n",
       " 'csisolatinarabic': 'iso8859_6',\n",
       " 'ecma_114': 'iso8859_6',\n",
       " 'iso_8859_6': 'iso8859_6',\n",
       " 'iso_8859_6_1987': 'iso8859_6',\n",
       " 'iso_ir_127': 'iso8859_6',\n",
       " 'csisolatingreek': 'iso8859_7',\n",
       " 'ecma_118': 'iso8859_7',\n",
       " 'elot_928': 'iso8859_7',\n",
       " 'greek': 'iso8859_7',\n",
       " 'greek8': 'iso8859_7',\n",
       " 'iso_8859_7': 'iso8859_7',\n",
       " 'iso_8859_7_1987': 'iso8859_7',\n",
       " 'iso_ir_126': 'iso8859_7',\n",
       " 'csisolatinhebrew': 'iso8859_8',\n",
       " 'hebrew': 'iso8859_8',\n",
       " 'iso_8859_8': 'iso8859_8',\n",
       " 'iso_8859_8_1988': 'iso8859_8',\n",
       " 'iso_ir_138': 'iso8859_8',\n",
       " 'csisolatin5': 'iso8859_9',\n",
       " 'iso_8859_9': 'iso8859_9',\n",
       " 'iso_8859_9_1989': 'iso8859_9',\n",
       " 'iso_ir_148': 'iso8859_9',\n",
       " 'l5': 'iso8859_9',\n",
       " 'latin5': 'iso8859_9',\n",
       " 'cp1361': 'johab',\n",
       " 'ms1361': 'johab',\n",
       " 'cskoi8r': 'koi8_r',\n",
       " 'kz_1048': 'kz1048',\n",
       " 'rk1048': 'kz1048',\n",
       " 'strk1048_2002': 'kz1048',\n",
       " '8859': 'latin_1',\n",
       " 'cp819': 'latin_1',\n",
       " 'csisolatin1': 'latin_1',\n",
       " 'ibm819': 'latin_1',\n",
       " 'iso8859': 'latin_1',\n",
       " 'iso8859_1': 'latin_1',\n",
       " 'iso_8859_1': 'latin_1',\n",
       " 'iso_8859_1_1987': 'latin_1',\n",
       " 'iso_ir_100': 'latin_1',\n",
       " 'l1': 'latin_1',\n",
       " 'latin': 'latin_1',\n",
       " 'latin1': 'latin_1',\n",
       " 'maccyrillic': 'mac_cyrillic',\n",
       " 'macgreek': 'mac_greek',\n",
       " 'maciceland': 'mac_iceland',\n",
       " 'maccentraleurope': 'mac_latin2',\n",
       " 'maclatin2': 'mac_latin2',\n",
       " 'macintosh': 'mac_roman',\n",
       " 'macroman': 'mac_roman',\n",
       " 'macturkish': 'mac_turkish',\n",
       " 'ansi': 'mbcs',\n",
       " 'dbcs': 'mbcs',\n",
       " 'csptcp154': 'ptcp154',\n",
       " 'pt154': 'ptcp154',\n",
       " 'cp154': 'ptcp154',\n",
       " 'cyrillic_asian': 'ptcp154',\n",
       " 'quopri': 'quopri_codec',\n",
       " 'quoted_printable': 'quopri_codec',\n",
       " 'quotedprintable': 'quopri_codec',\n",
       " 'rot13': 'rot_13',\n",
       " 'csshiftjis': 'shift_jis',\n",
       " 'shiftjis': 'shift_jis',\n",
       " 'sjis': 'shift_jis',\n",
       " 's_jis': 'shift_jis',\n",
       " 'shiftjis2004': 'shift_jis_2004',\n",
       " 'sjis_2004': 'shift_jis_2004',\n",
       " 's_jis_2004': 'shift_jis_2004',\n",
       " 'shiftjisx0213': 'shift_jisx0213',\n",
       " 'sjisx0213': 'shift_jisx0213',\n",
       " 's_jisx0213': 'shift_jisx0213',\n",
       " 'tis260': 'tactis',\n",
       " 'tis620': 'tis_620',\n",
       " 'tis_620_0': 'tis_620',\n",
       " 'tis_620_2529_0': 'tis_620',\n",
       " 'tis_620_2529_1': 'tis_620',\n",
       " 'iso_ir_166': 'tis_620',\n",
       " 'u16': 'utf_16',\n",
       " 'utf16': 'utf_16',\n",
       " 'unicodebigunmarked': 'utf_16_be',\n",
       " 'utf_16be': 'utf_16_be',\n",
       " 'unicodelittleunmarked': 'utf_16_le',\n",
       " 'utf_16le': 'utf_16_le',\n",
       " 'u32': 'utf_32',\n",
       " 'utf32': 'utf_32',\n",
       " 'utf_32be': 'utf_32_be',\n",
       " 'utf_32le': 'utf_32_le',\n",
       " 'u7': 'utf_7',\n",
       " 'utf7': 'utf_7',\n",
       " 'unicode_1_1_utf_7': 'utf_7',\n",
       " 'u8': 'utf_8',\n",
       " 'utf': 'utf_8',\n",
       " 'utf8': 'utf_8',\n",
       " 'utf8_ucs2': 'utf_8',\n",
       " 'utf8_ucs4': 'utf_8',\n",
       " 'cp65001': 'utf_8',\n",
       " 'uu': 'uu_codec',\n",
       " 'zip': 'zlib_codec',\n",
       " 'zlib': 'zlib_codec',\n",
       " 'x_mac_japanese': 'shift_jis',\n",
       " 'x_mac_korean': 'euc_kr',\n",
       " 'x_mac_simp_chinese': 'gb2312',\n",
       " 'x_mac_trad_chinese': 'big5'}"
      ]
     },
     "execution_count": 35,
     "metadata": {},
     "output_type": "execute_result"
    }
   ],
   "source": [
    "#encodings in python\n",
    "from encodings.aliases import aliases\n",
    "aliases\n"
   ]
  },
  {
   "cell_type": "code",
   "execution_count": 26,
   "metadata": {},
   "outputs": [
    {
     "data": {
      "text/plain": [
       "True"
      ]
     },
     "execution_count": 26,
     "metadata": {},
     "output_type": "execute_result"
    }
   ],
   "source": [
    "ip = \"\"\"The Headphonesare Great! Not the size i like but its compatability with mac systems, with windows does not perform well\"\"\"\n",
    "\"mac\" in ip"
   ]
  },
  {
   "cell_type": "code",
   "execution_count": 27,
   "metadata": {},
   "outputs": [],
   "source": [
    "ip2 = \"\"\"The Headphonesare Great. Not the size i like.But its compatability with mac systems, with windows does not perform well\"\"\"\n"
   ]
  },
  {
   "cell_type": "code",
   "execution_count": 28,
   "metadata": {},
   "outputs": [
    {
     "data": {
      "text/plain": [
       "['The Headphonesare Great',\n",
       " ' Not the size i like',\n",
       " 'But its compatability with mac systems, with windows does not perform well']"
      ]
     },
     "execution_count": 28,
     "metadata": {},
     "output_type": "execute_result"
    }
   ],
   "source": [
    "#SPLIT- returns list\n",
    "ip2.split('.')"
   ]
  },
  {
   "cell_type": "code",
   "execution_count": 33,
   "metadata": {},
   "outputs": [
    {
     "data": {
      "text/plain": [
       "'WOrst product ever!!!!!!!!!!!!!!!!!!!!Such a waste of money!!!!**!'"
      ]
     },
     "execution_count": 33,
     "metadata": {},
     "output_type": "execute_result"
    }
   ],
   "source": [
    "review=\"*********************WOrst product ever!!!!!!!!!!!!!!!!!!!!Such a waste of money!!!!**!\"\n",
    "review.lstrip('*')"
   ]
  },
  {
   "cell_type": "code",
   "execution_count": 34,
   "metadata": {},
   "outputs": [
    {
     "data": {
      "text/plain": [
       "'*********************WOrst product ever!!!!!!!!!!!!!!!!!!!!Such a waste of money'"
      ]
     },
     "execution_count": 34,
     "metadata": {},
     "output_type": "execute_result"
    }
   ],
   "source": [
    "    review.rstrip('*!')"
   ]
  },
  {
   "cell_type": "code",
   "execution_count": 36,
   "metadata": {},
   "outputs": [
    {
     "data": {
      "text/plain": [
       "'Inceptez____is____one____of____the____best____places____to____learn____DS'"
      ]
     },
     "execution_count": 36,
     "metadata": {},
     "output_type": "execute_result"
    }
   ],
   "source": [
    "#Join\n",
    "#Delimiter separator !\n",
    "demo =\"Inceptez is one of the best places to learn DS\"\n",
    "\"____\".join(demo.split())\n",
    "#default it takes space"
   ]
  },
  {
   "cell_type": "code",
   "execution_count": 37,
   "metadata": {},
   "outputs": [
    {
     "data": {
      "text/plain": [
       "'Inceptez____ is ____one of the best places to learn DS'"
      ]
     },
     "execution_count": 37,
     "metadata": {},
     "output_type": "execute_result"
    }
   ],
   "source": [
    "demo =\"Inceptez, is ,one of the best places to learn DS\"\n",
    "\"____\".join(demo.split(','))"
   ]
  },
  {
   "cell_type": "code",
   "execution_count": 40,
   "metadata": {},
   "outputs": [
    {
     "name": "stdout",
     "output_type": "stream",
     "text": [
      "Inceptez____ is ____one of the best places to learn DS\n"
     ]
    },
    {
     "data": {
      "text/plain": [
       "'Inceptez, is ,one of the best places to learn DS'"
      ]
     },
     "execution_count": 40,
     "metadata": {},
     "output_type": "execute_result"
    }
   ],
   "source": [
    "demo_dash=\"____\".join(demo.split(','))\n",
    "print(demo_dash)\n",
    "\n",
    "\" \".join(demo.split('_'))"
   ]
  },
  {
   "cell_type": "code",
   "execution_count": 41,
   "metadata": {},
   "outputs": [],
   "source": [
    "#Docstring\n",
    "'''Signature: Syntax\n",
    "Docstring: Usage explanations'''\n",
    "str.join?"
   ]
  },
  {
   "cell_type": "code",
   "execution_count": 48,
   "metadata": {},
   "outputs": [
    {
     "data": {
      "text/plain": [
       "'There are 3 oranges in the table .1 green apple and 2 red apple'"
      ]
     },
     "execution_count": 48,
     "metadata": {},
     "output_type": "execute_result"
    }
   ],
   "source": [
    "review=\"There are 3 apples in the table .1 green apple and 2 red apple\"\n",
    "#review.replace?\n",
    "review.replace(\"apple\",\"orange\")\n",
    "review.replace(\"apple\",\"orange\",1)"
   ]
  },
  {
   "cell_type": "code",
   "execution_count": null,
   "metadata": {},
   "outputs": [],
   "source": [
    "#Type Conversion\n",
    "#Converting from one data type to another\n"
   ]
  },
  {
   "cell_type": "code",
   "execution_count": 49,
   "metadata": {},
   "outputs": [
    {
     "data": {
      "text/plain": [
       "['M', 'a', 't', 'h', 'a', 'n', 'a']"
      ]
     },
     "execution_count": 49,
     "metadata": {},
     "output_type": "execute_result"
    }
   ],
   "source": [
    "name=\"Mathana\"\n",
    "tuple(name)\n",
    "list(name)"
   ]
  },
  {
   "cell_type": "code",
   "execution_count": 50,
   "metadata": {},
   "outputs": [
    {
     "data": {
      "text/plain": [
       "('M', 'a', 't', 'h', 'a', 'n', 'a')"
      ]
     },
     "execution_count": 50,
     "metadata": {},
     "output_type": "execute_result"
    }
   ],
   "source": [
    "name=\"Mathana\"\n",
    "tuple(name)"
   ]
  },
  {
   "cell_type": "code",
   "execution_count": 55,
   "metadata": {},
   "outputs": [
    {
     "data": {
      "text/plain": [
       "\"{'M', 't', 'a', 'n', 'h'}\""
      ]
     },
     "execution_count": 55,
     "metadata": {},
     "output_type": "execute_result"
    }
   ],
   "source": [
    "name=\"Mathana\"\n",
    "unique=set(name)\n",
    "name2=  str(unique)\n"
   ]
  },
  {
   "cell_type": "code",
   "execution_count": 59,
   "metadata": {
    "scrolled": true
   },
   "outputs": [
    {
     "name": "stdout",
     "output_type": "stream",
     "text": [
      "tanhm\n"
     ]
    }
   ],
   "source": [
    "name=\"Mathana\"\n",
    "name=name.lower()\n",
    "set(name)\n",
    "print(\"\".join(set(name)))"
   ]
  },
  {
   "cell_type": "code",
   "execution_count": null,
   "metadata": {},
   "outputs": [],
   "source": [
    "\"\"\"copy using =                   --> Deep copy\n",
    "Copy using the copy() function    -->Shallow copy \"\"\"\n"
   ]
  },
  {
   "cell_type": "code",
   "execution_count": 60,
   "metadata": {},
   "outputs": [
    {
     "name": "stdout",
     "output_type": "stream",
     "text": [
      "[1, 2, 20, 4]\n",
      "[1, 2, 20, 4]\n"
     ]
    }
   ],
   "source": [
    "#Deep Copy\n",
    "list1=[1,2,3,4]\n",
    "list2=list1\n",
    "list2[2]=20\n",
    "print(list2)\n",
    "print(list1)"
   ]
  },
  {
   "cell_type": "code",
   "execution_count": 62,
   "metadata": {},
   "outputs": [
    {
     "name": "stdout",
     "output_type": "stream",
     "text": [
      "[1, 2, 20, 4]\n",
      "[1, 2, 3, 4]\n"
     ]
    }
   ],
   "source": [
    "#Shallow Copy\n",
    "list1=[1,2,3,4]\n",
    "list2=list1.copy()\n",
    "list2[2]=20\n",
    "print(list2)\n",
    "print(list1)"
   ]
  },
  {
   "cell_type": "code",
   "execution_count": 65,
   "metadata": {
    "scrolled": true
   },
   "outputs": [
    {
     "name": "stdout",
     "output_type": "stream",
     "text": [
      "[1, 2, 20, 4]\n",
      "[1, 2, 3, 4]\n"
     ]
    }
   ],
   "source": [
    "#copy usimg list slicing\n",
    "list1=[1,2,3,4]\n",
    "list2=list1[:]\n",
    "list2[2]=20\n",
    "print(list2)\n",
    "print(list1)\n",
    "#same as copy"
   ]
  },
  {
   "cell_type": "code",
   "execution_count": null,
   "metadata": {},
   "outputs": [],
   "source": [
    "#Conditional loops\n",
    "1.Condional based approch if you understood python and stats and into ML\n",
    "2.If you dont understand python or stats  but ML started already!\n"
   ]
  },
  {
   "cell_type": "code",
   "execution_count": null,
   "metadata": {},
   "outputs": [],
   "source": [
    "if python = understood and stat = understood:\n",
    "    read ML\n",
    "elif python = understood and stat not understood:\n",
    "    read python+ML\n",
    "else\n",
    "    read python+ML+stat"
   ]
  },
  {
   "cell_type": "code",
   "execution_count": null,
   "metadata": {},
   "outputs": [],
   "source": [
    "#logical COnditions from Maths\n",
    "1.Equals : A==B\n",
    "2.!Equals : A!=B\n",
    "3.Less than: A<B\n",
    "4.Less than or equal to A<=B\n",
    "5.Greater than : A>B\n",
    "6.Greater than or equal to A>=B  \n",
    "\n",
    "if\n",
    "else if \n",
    "else\n"
   ]
  },
  {
   "cell_type": "code",
   "execution_count": 71,
   "metadata": {},
   "outputs": [
    {
     "name": "stdout",
     "output_type": "stream",
     "text": [
      "Enter a number : 7\n",
      "Single digit\n"
     ]
    }
   ],
   "source": [
    "n=int(input(\"Enter a number : \"))\n",
    "if(n>=50):\n",
    "    print(\"Average\")\n",
    "elif(n<=50 and n >=10):\n",
    "    print(\"Below Average\")\n",
    "else:\n",
    "    print(\"Single digit\")"
   ]
  },
  {
   "cell_type": "code",
   "execution_count": null,
   "metadata": {},
   "outputs": [],
   "source": [
    "HW: \n",
    "1. TC - and one TC for -  replace() - Is replace just a wrapper?\n",
    "2. Space Complexity\n"
   ]
  }
 ],
 "metadata": {
  "kernelspec": {
   "display_name": "Python 3",
   "language": "python",
   "name": "python3"
  },
  "language_info": {
   "codemirror_mode": {
    "name": "ipython",
    "version": 3
   },
   "file_extension": ".py",
   "mimetype": "text/x-python",
   "name": "python",
   "nbconvert_exporter": "python",
   "pygments_lexer": "ipython3",
   "version": "3.8.5"
  }
 },
 "nbformat": 4,
 "nbformat_minor": 4
}
