{
 "cells": [
  {
   "cell_type": "markdown",
   "metadata": {},
   "source": [
    "### The questions for the exercises are given above the cells and the expected output is given below the cell. Please type the code inserting a new cell below the question because if you run the expected output cell the output would vanish! Happy learning! "
   ]
  },
  {
   "cell_type": "markdown",
   "metadata": {},
   "source": [
    "## Exercise Question 1: Given an input list removes the element at index 4 and add it to the 2nd position and also, at the end of the list\n",
    "\n",
    "For example: List = [54, 44, 27, 79, 91, 41]"
   ]
  },
  {
   "cell_type": "code",
   "execution_count": 1,
   "metadata": {
    "scrolled": true
   },
   "outputs": [
    {
     "name": "stdout",
     "output_type": "stream",
     "text": [
      "Original list  [34, 54, 67, 89, 11, 43, 94]\n",
      "List After removing element at index 4  [34, 54, 67, 89, 43, 94]\n",
      "List after Adding element at index 2  [34, 54, 11, 67, 89, 43, 94]\n",
      "List after Adding element at last  [34, 54, 11, 67, 89, 43, 94, 11]\n"
     ]
    }
   ],
   "source": []
  },
  {
   "cell_type": "code",
   "execution_count": 7,
   "metadata": {},
   "outputs": [
    {
     "name": "stdout",
     "output_type": "stream",
     "text": [
      "Element 11\n",
      "List  [34, 54, 67, 89, 43, 94]\n",
      "List  [34, 54, 11, 67, 89, 43, 94]\n",
      "List  [34, 54, 11, 67, 89, 43, 94, 11]\n"
     ]
    }
   ],
   "source": [
    "#Question 1 Solution\n",
    "list1 = [34, 54, 67, 89, 11, 43, 94]\n",
    "element = list1.pop(4)\n",
    "print(\"Element\",element)\n",
    "print(\"List \",list1)\n",
    "list1.insert(2,element)\n",
    "print(\"List \",list1)\n",
    "list1.append(element)\n",
    "print(\"List \",list1)\n"
   ]
  },
  {
   "cell_type": "markdown",
   "metadata": {},
   "source": [
    "## Exercise Question 2: Given a two list of equal size create a list of unique elements from both the lists into a seperate list"
   ]
  },
  {
   "cell_type": "code",
   "execution_count": 10,
   "metadata": {
    "scrolled": true
   },
   "outputs": [
    {
     "name": "stdout",
     "output_type": "stream",
     "text": [
      "First List  [2, 3, 4, 5, 6, 7, 8]\n",
      "Second List  [4, 9, 16, 25, 36, 49, 64]\n",
      "[64, 2, 3, 4, 5, 6, 7, 8, 9, 36, 16, 49, 25]\n"
     ]
    }
   ],
   "source": []
  },
  {
   "cell_type": "code",
   "execution_count": 26,
   "metadata": {},
   "outputs": [
    {
     "name": "stdout",
     "output_type": "stream",
     "text": [
      "[2, 3, 4, 5, 6, 7, 8, 4, 9, 16, 25, 36, 49, 64]\n"
     ]
    },
    {
     "data": {
      "text/plain": [
       "[64, 2, 3, 4, 5, 6, 7, 8, 9, 36, 16, 49, 25]"
      ]
     },
     "execution_count": 26,
     "metadata": {},
     "output_type": "execute_result"
    }
   ],
   "source": [
    "#Q2Solution\n",
    "list1= [2, 3, 4, 5, 6, 7, 8]\n",
    "list2=[4, 9, 16, 25, 36, 49, 64]\n",
    "list1.extend(list2)\n",
    "print(list1)\n",
    "unique=set(list1)\n",
    "list(unique)"
   ]
  },
  {
   "cell_type": "markdown",
   "metadata": {},
   "source": [
    "## Exercise Question 3: Remove duplicate from a list and create a tuple and find the minimum and maximum number (Hint: Try Functions Min() and Max() ) "
   ]
  },
  {
   "cell_type": "code",
   "execution_count": 11,
   "metadata": {},
   "outputs": [
    {
     "name": "stdout",
     "output_type": "stream",
     "text": [
      "Original list [87, 52, 44, 53, 54, 87, 52, 53]\n",
      "unique list [44, 52, 53, 54, 87]\n",
      "tuple  (44, 52, 53, 54, 87)\n",
      "Minimum number is:  44\n",
      "Maximum number is:  87\n"
     ]
    }
   ],
   "source": []
  },
  {
   "cell_type": "code",
   "execution_count": 38,
   "metadata": {},
   "outputs": [
    {
     "name": "stdout",
     "output_type": "stream",
     "text": [
      "[44, 52, 53, 54, 87]\n",
      "(44, 52, 53, 54, 87)\n",
      "Minimum number is: 44\n",
      "Maximum number is: 87\n"
     ]
    }
   ],
   "source": [
    "#Q3 answer\n",
    "list1=[87, 52, 44, 53, 54, 87, 52, 53]\n",
    "unique=list(set(list1))\n",
    "print(unique)\n",
    "uniqueTuple=tuple(unique)\n",
    "print(uniqueTuple)\n",
    "print(\"Minimum number is:\", min(uniqueTuple))\n",
    "print(\"Maximum number is:\", max(uniqueTuple))"
   ]
  },
  {
   "cell_type": "markdown",
   "metadata": {},
   "source": [
    "## Exercise Question 4: Display the each word in the string Count the number of words in a string and display it (Including the white spaces) "
   ]
  },
  {
   "cell_type": "code",
   "execution_count": 19,
   "metadata": {
    "scrolled": true
   },
   "outputs": [
    {
     "name": "stdout",
     "output_type": "stream",
     "text": [
      "w h a t ' s   u p ?\n"
     ]
    }
   ],
   "source": [
    "#Printing each words seperately \n",
    "a = \"what's up?\"\n",
    "print(*a)"
   ]
  },
  {
   "cell_type": "code",
   "execution_count": 18,
   "metadata": {},
   "outputs": [
    {
     "name": "stdout",
     "output_type": "stream",
     "text": [
      "The sample string: Welcome to Python\n",
      "Printing each words seperately:  W e l c o m e   t o   P y t h o n\n",
      "The Length of the string 17\n"
     ]
    }
   ],
   "source": []
  },
  {
   "cell_type": "code",
   "execution_count": 40,
   "metadata": {},
   "outputs": [
    {
     "name": "stdout",
     "output_type": "stream",
     "text": [
      "W e l c o m e   t o   P y t h o n\n",
      "The Length of the string  17\n"
     ]
    }
   ],
   "source": [
    "#Q4 solution\n",
    "s= \"Welcome to Python\"\n",
    "print(*s)\n",
    "print(\"The Length of the string \",len(s))"
   ]
  },
  {
   "cell_type": "markdown",
   "metadata": {},
   "source": [
    "##  Exercise Question 5: Write a Python program to access dictionary keys element by index. i.e. Use indexing methods to print the first key"
   ]
  },
  {
   "cell_type": "code",
   "execution_count": 27,
   "metadata": {},
   "outputs": [
    {
     "name": "stdout",
     "output_type": "stream",
     "text": [
      "The dictionary is:  {'physics': 80, 'math': 90, 'chemistry': 86}\n",
      "The key element accesed by index:  physics\n"
     ]
    }
   ],
   "source": []
  },
  {
   "cell_type": "code",
   "execution_count": 49,
   "metadata": {},
   "outputs": [
    {
     "name": "stdout",
     "output_type": "stream",
     "text": [
      "The key element accesed by index:  physics\n"
     ]
    }
   ],
   "source": [
    "#Q5 solution\n",
    "d={'physics': 80, 'math': 90, 'chemistry': 86}\n",
    "keyList=list(d)\n",
    "print(\"The key element accesed by index: \",keyList[0])"
   ]
  }
 ],
 "metadata": {
  "kernelspec": {
   "display_name": "Python 3",
   "language": "python",
   "name": "python3"
  },
  "language_info": {
   "codemirror_mode": {
    "name": "ipython",
    "version": 3
   },
   "file_extension": ".py",
   "mimetype": "text/x-python",
   "name": "python",
   "nbconvert_exporter": "python",
   "pygments_lexer": "ipython3",
   "version": "3.8.5"
  }
 },
 "nbformat": 4,
 "nbformat_minor": 4
}
