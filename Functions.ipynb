{
 "cells": [
  {
   "cell_type": "code",
   "execution_count": 1,
   "metadata": {},
   "outputs": [],
   "source": [
    "#Functions!\n",
    "\n",
    "def sample_func():\n",
    "    print(\"Hello Inceptez\")\n"
   ]
  },
  {
   "cell_type": "code",
   "execution_count": 2,
   "metadata": {},
   "outputs": [
    {
     "name": "stdout",
     "output_type": "stream",
     "text": [
      "Hello Inceptez\n"
     ]
    }
   ],
   "source": [
    "sample_func()"
   ]
  },
  {
   "cell_type": "code",
   "execution_count": 9,
   "metadata": {},
   "outputs": [
    {
     "name": "stdout",
     "output_type": "stream",
     "text": [
      "10\n"
     ]
    }
   ],
   "source": [
    "def sum(a,b):\n",
    "    return a+b\n",
    "\n",
    "s=sum(5,5)\n",
    "print(s)"
   ]
  },
  {
   "cell_type": "code",
   "execution_count": 10,
   "metadata": {},
   "outputs": [],
   "source": [
    "#Docstring of the function\n",
    "1.sum?\n",
    "2.shift - tab\n",
    "3.sum.__doc__\n"
   ]
  },
  {
   "cell_type": "code",
   "execution_count": 18,
   "metadata": {},
   "outputs": [
    {
     "name": "stdout",
     "output_type": "stream",
     "text": [
      "10\n"
     ]
    }
   ],
   "source": [
    "#Write a function that takes list as input and returns the sum of list\n",
    "\n",
    "\n",
    "def sumOfList(a):\n",
    "    total=0\n",
    "    for i in a:\n",
    "        total+=i\n",
    "    return total\n",
    "\n",
    "a=[1,2,3,4]\n",
    "s=sumOfList(a)\n",
    "print(s)"
   ]
  },
  {
   "cell_type": "code",
   "execution_count": 22,
   "metadata": {},
   "outputs": [
    {
     "name": "stdout",
     "output_type": "stream",
     "text": [
      "The sum of list is 15\n"
     ]
    }
   ],
   "source": [
    "#Recurssive function\n",
    "\n",
    "def sum_of_list(l,n):\n",
    "  if n == 0:\n",
    "    return l[n];\n",
    "  return l[n] + sum_of_list(l,n-1)\n",
    "\n",
    "l = [1,3,5,2,4]\n",
    "print (\"The sum of list is\", sum_of_list(l,len(l)-1))"
   ]
  },
  {
   "cell_type": "code",
   "execution_count": 1,
   "metadata": {},
   "outputs": [
    {
     "name": "stdout",
     "output_type": "stream",
     "text": [
      "The factorial  120\n"
     ]
    }
   ],
   "source": [
    "#Factorial Function\n",
    "\n",
    "def factorial(n):\n",
    "    if n==0:\n",
    "        return 1\n",
    "    if n==1:\n",
    "        return 1\n",
    "    if n>1:\n",
    "        return n*factorial(n-1)\n",
    "\n",
    "n=5\n",
    "print (\"The factorial \", factorial(n))"
   ]
  },
  {
   "cell_type": "code",
   "execution_count": 2,
   "metadata": {},
   "outputs": [
    {
     "name": "stdout",
     "output_type": "stream",
     "text": [
      "120\n"
     ]
    }
   ],
   "source": [
    "n=5\n",
    "res=1\n",
    "for i in range(n,0,-1):\n",
    "    res=res*i\n",
    "print(res)\n",
    "    \n",
    "    "
   ]
  }
 ],
 "metadata": {
  "kernelspec": {
   "display_name": "Python 3",
   "language": "python",
   "name": "python3"
  },
  "language_info": {
   "codemirror_mode": {
    "name": "ipython",
    "version": 3
   },
   "file_extension": ".py",
   "mimetype": "text/x-python",
   "name": "python",
   "nbconvert_exporter": "python",
   "pygments_lexer": "ipython3",
   "version": "3.8.5"
  }
 },
 "nbformat": 4,
 "nbformat_minor": 4
}
