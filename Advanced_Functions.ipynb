{
 "cells": [
  {
   "cell_type": "code",
   "execution_count": null,
   "metadata": {},
   "outputs": [],
   "source": [
    "#Anonymous function:This function will not have a name!\n",
    "#Lamba Function\n",
    "#Syntax lambda arguments:operations\n",
    "#Execution time is less"
   ]
  },
  {
   "cell_type": "code",
   "execution_count": 3,
   "metadata": {},
   "outputs": [
    {
     "name": "stdout",
     "output_type": "stream",
     "text": [
      "4\n"
     ]
    }
   ],
   "source": [
    "#square of numbers\n",
    "s=lambda y:y*y\n",
    "print(s(2))"
   ]
  },
  {
   "cell_type": "code",
   "execution_count": 2,
   "metadata": {},
   "outputs": [
    {
     "name": "stdout",
     "output_type": "stream",
     "text": [
      "9\n"
     ]
    }
   ],
   "source": [
    "#Sum of 3 numbers\n",
    "s=lambda a,b,c:a+b+c\n",
    "print(s(2,3,4))"
   ]
  },
  {
   "cell_type": "code",
   "execution_count": 4,
   "metadata": {},
   "outputs": [
    {
     "name": "stdout",
     "output_type": "stream",
     "text": [
      "[1, 4, 9, 16, 25, 36, 49, 64, 81, 100]\n"
     ]
    }
   ],
   "source": [
    "#Make use of Lambda function and return thr sum of 3 numbers\n",
    "\n",
    "num=[1,2,3,4,5,6,7,8,9,10]\n",
    "res=[]\n",
    "for i in num:\n",
    "    res.append(i**2)\n",
    "print(res)    "
   ]
  },
  {
   "cell_type": "code",
   "execution_count": null,
   "metadata": {},
   "outputs": [],
   "source": [
    "#MAP - Syntax map(Function,*iterables)-->Map object"
   ]
  },
  {
   "cell_type": "code",
   "execution_count": 7,
   "metadata": {},
   "outputs": [
    {
     "data": {
      "text/plain": [
       "[1, 4, 9, 16, 25, 36, 49, 64, 81, 100]"
      ]
     },
     "execution_count": 7,
     "metadata": {},
     "output_type": "execute_result"
    }
   ],
   "source": [
    "#One line code in lambda method\n",
    "num=[1,2,3,4,5,6,7,8,9,10]\n",
    "square_list= list(map(lambda x : x**2,num))\n",
    "square_list"
   ]
  },
  {
   "cell_type": "code",
   "execution_count": 10,
   "metadata": {},
   "outputs": [
    {
     "data": {
      "text/plain": [
       "['MATHANA', 'LOHINI']"
      ]
     },
     "execution_count": 10,
     "metadata": {},
     "output_type": "execute_result"
    }
   ],
   "source": [
    "students=['Mathana','Lohini']\n",
    "uppercase=list(map(str.upper,students))\n",
    "uppercase"
   ]
  },
  {
   "cell_type": "code",
   "execution_count": 15,
   "metadata": {},
   "outputs": [
    {
     "data": {
      "text/plain": [
       "['MATHANA', 'LOHINI']"
      ]
     },
     "execution_count": 15,
     "metadata": {},
     "output_type": "execute_result"
    }
   ],
   "source": [
    "uppercase= list(map(lambda x : x.upper(),students))\n",
    "uppercase"
   ]
  },
  {
   "cell_type": "markdown",
   "metadata": {},
   "source": [
    "# Use map and convert all of thiss into a list of integers"
   ]
  },
  {
   "cell_type": "code",
   "execution_count": 12,
   "metadata": {},
   "outputs": [
    {
     "data": {
      "text/plain": [
       "[4, 8, 2]"
      ]
     },
     "execution_count": 12,
     "metadata": {},
     "output_type": "execute_result"
    }
   ],
   "source": [
    "float_nums=[4.77,8.99,2.33]\n",
    "int_list= list(map(lambda x : int(x),float_nums))\n",
    "int_list"
   ]
  },
  {
   "cell_type": "code",
   "execution_count": 14,
   "metadata": {},
   "outputs": [
    {
     "data": {
      "text/plain": [
       "[4, 8, 2]"
      ]
     },
     "execution_count": 14,
     "metadata": {},
     "output_type": "execute_result"
    }
   ],
   "source": [
    "int_value = list(map(int, float_nums))\n",
    "int_value"
   ]
  },
  {
   "cell_type": "code",
   "execution_count": 16,
   "metadata": {},
   "outputs": [
    {
     "data": {
      "text/plain": [
       "[5, 9, 2]"
      ]
     },
     "execution_count": 16,
     "metadata": {},
     "output_type": "execute_result"
    }
   ],
   "source": [
    "int_value = list(map(round, float_nums))\n",
    "int_value"
   ]
  },
  {
   "cell_type": "code",
   "execution_count": 27,
   "metadata": {},
   "outputs": [
    {
     "data": {
      "text/plain": [
       "[('jack', 1), ('sparrow', 2), ('harry', 3), ('potter', 4)]"
      ]
     },
     "execution_count": 27,
     "metadata": {},
     "output_type": "execute_result"
    }
   ],
   "source": [
    "#Use map and Lambda and generate he same pettern\n",
    "name=['jack','sparrow','harry','potter']\n",
    "index=[1,2,3,4]\n",
    "result = list(map(lambda i,j:(i,j),name,index))\n",
    "result"
   ]
  },
  {
   "cell_type": "code",
   "execution_count": 37,
   "metadata": {},
   "outputs": [
    {
     "data": {
      "text/plain": [
       "{'jack': 1, 'sparrow': 2, 'harry': 3, 'potter': 4}"
      ]
     },
     "execution_count": 37,
     "metadata": {},
     "output_type": "execute_result"
    }
   ],
   "source": [
    "#ZIP\n",
    "nam=['jack','sparrow','harry','potter']\n",
    "index=[1,2,3,4]\n",
    "dc_dict = {name: hero for name, hero in zip(nam, index)}\n",
    "dc_dict"
   ]
  },
  {
   "cell_type": "code",
   "execution_count": 30,
   "metadata": {},
   "outputs": [
    {
     "name": "stdout",
     "output_type": "stream",
     "text": [
      "6\n",
      "14\n",
      "24\n",
      "36\n"
     ]
    }
   ],
   "source": [
    "#ZIP Binds them together and provide the zip of 2 elements\n",
    "a=[1,2,3,4]\n",
    "b=[6,7,8,9]\n",
    "for i,j in zip(a,b):\n",
    "    print(i*j)"
   ]
  },
  {
   "cell_type": "code",
   "execution_count": 33,
   "metadata": {},
   "outputs": [
    {
     "name": "stdout",
     "output_type": "stream",
     "text": [
      "First Element:  1\n",
      "First Element:  6\n",
      "First Element:  2\n",
      "First Element:  7\n",
      "First Element:  3\n",
      "First Element:  8\n",
      "First Element:  4\n",
      "First Element:  9\n"
     ]
    }
   ],
   "source": [
    "a=[1,2,3,4]\n",
    "b=[6,7,8,9]\n",
    "for i,j in zip(a,b):\n",
    "    print(\"First Element: \",i)\n",
    "    print(\"First Element: \",j)"
   ]
  },
  {
   "cell_type": "code",
   "execution_count": 35,
   "metadata": {},
   "outputs": [
    {
     "name": "stdout",
     "output_type": "stream",
     "text": [
      "Mul  6\n",
      "Mul  14\n",
      "Mul  24\n",
      "Mul  36\n"
     ]
    }
   ],
   "source": [
    "#It can take one tuplr and 1 list too\n",
    "a=[1,2,3,4]\n",
    "b=(6,7,8,9)\n",
    "for i,j in zip(a,b):\n",
    "    print(\"Mul \",i*j)"
   ]
  },
  {
   "cell_type": "code",
   "execution_count": 31,
   "metadata": {},
   "outputs": [
    {
     "name": "stdout",
     "output_type": "stream",
     "text": [
      "18\n",
      "56\n",
      "144\n",
      "252\n"
     ]
    }
   ],
   "source": [
    "a=[1,2,3,4]\n",
    "b=[6,7,8,9]\n",
    "c=[3,4,6,7,8]\n",
    "for i,j,k in zip(a,b,c):\n",
    "    print(i*j*k)\n",
    "#c has 5 elements, but only 4 multiplications occurs"
   ]
  },
  {
   "cell_type": "code",
   "execution_count": 39,
   "metadata": {},
   "outputs": [
    {
     "name": "stdout",
     "output_type": "stream",
     "text": [
      "Index 0\n",
      "A  a\n",
      "Index 1\n",
      "A  b\n",
      "Index 2\n",
      "A  c\n",
      "Index 3\n",
      "A  d\n"
     ]
    }
   ],
   "source": [
    "a=['a','b','c','d']\n",
    "\n",
    "for index, a in enumerate (a):\n",
    "    print(\"Index\",index)\n",
    "    print(\"A \",a)"
   ]
  },
  {
   "cell_type": "code",
   "execution_count": 47,
   "metadata": {},
   "outputs": [
    {
     "data": {
      "text/plain": [
       "[1, 4, 9, 16]"
      ]
     },
     "execution_count": 47,
     "metadata": {},
     "output_type": "execute_result"
    }
   ],
   "source": [
    "#List Comprehension\n",
    "#normal for loop, front,write  the operation \n",
    "a=[1,2,3,4]\n",
    "\n",
    "[i*i for i in a ]"
   ]
  },
  {
   "cell_type": "code",
   "execution_count": 41,
   "metadata": {},
   "outputs": [
    {
     "data": {
      "text/plain": [
       "[3, 6, 9, 12]"
      ]
     },
     "execution_count": 41,
     "metadata": {},
     "output_type": "execute_result"
    }
   ],
   "source": [
    "#Write a code using list comphresion to find the 3 times of each number\n",
    "a=[1,2,3,4]\n",
    "res=[]\n",
    "res=[i*3 for i in a ]\n",
    "res"
   ]
  },
  {
   "cell_type": "code",
   "execution_count": 46,
   "metadata": {},
   "outputs": [
    {
     "data": {
      "text/plain": [
       "['inceptez', 'card', 'batch16', 'python', 'class']"
      ]
     },
     "execution_count": 46,
     "metadata": {},
     "output_type": "execute_result"
    }
   ],
   "source": [
    "words=['inceptez','card','batch16','python','class','qw']\n",
    "vowels=['a','e','i','o','u']\n",
    "res=[]\n",
    "#Return a list of words which contains vowels\n",
    "for i in words:\n",
    "    for j in i:\n",
    "        if (j in vowels):\n",
    "            res.append(i)\n",
    "            break\n",
    "res"
   ]
  },
  {
   "cell_type": "code",
   "execution_count": 48,
   "metadata": {},
   "outputs": [
    {
     "data": {
      "text/plain": [
       "['inceptez', 'inceptez', 'inceptez', 'card', 'batch16', 'python', 'class']"
      ]
     },
     "execution_count": 48,
     "metadata": {},
     "output_type": "execute_result"
    }
   ],
   "source": [
    "#List coprehension\n",
    "[i for i in words for j in i if j in vowels]\n",
    "#3 times inceptez has been printed cause of has 3 vowels"
   ]
  },
  {
   "cell_type": "code",
   "execution_count": 49,
   "metadata": {},
   "outputs": [
    {
     "data": {
      "text/plain": [
       "{'batch16', 'card', 'class', 'inceptez', 'python'}"
      ]
     },
     "execution_count": 49,
     "metadata": {},
     "output_type": "execute_result"
    }
   ],
   "source": [
    "{i for i in words for j in i if j in vowels}\n",
    "#returns set"
   ]
  },
  {
   "cell_type": "code",
   "execution_count": null,
   "metadata": {},
   "outputs": [],
   "source": [
    "#List coprehension\n",
    "#SET coprehension\n",
    "#dict coprehension\n",
    "#there is no tuple coprehension\n",
    "#List coprehension is faster than for loop\n",
    "#Map is much more faster"
   ]
  }
 ],
 "metadata": {
  "kernelspec": {
   "display_name": "Python 3",
   "language": "python",
   "name": "python3"
  },
  "language_info": {
   "codemirror_mode": {
    "name": "ipython",
    "version": 3
   },
   "file_extension": ".py",
   "mimetype": "text/x-python",
   "name": "python",
   "nbconvert_exporter": "python",
   "pygments_lexer": "ipython3",
   "version": "3.8.5"
  }
 },
 "nbformat": 4,
 "nbformat_minor": 4
}
